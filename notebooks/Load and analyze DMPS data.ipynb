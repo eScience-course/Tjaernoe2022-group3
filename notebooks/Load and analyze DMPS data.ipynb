{
 "cells": [
  {
   "cell_type": "markdown",
   "id": "68512dd4",
   "metadata": {},
   "source": [
    "## Load and analyze DMPS @ Zeppelin"
   ]
  },
  {
   "cell_type": "code",
   "execution_count": 59,
   "id": "40a6e4ce",
   "metadata": {
    "scrolled": true
   },
   "outputs": [
    {
     "name": "stdout",
     "output_type": "stream",
     "text": [
      "The autoreload extension is already loaded. To reload it, use:\n",
      "  %reload_ext autoreload\n"
     ]
    }
   ],
   "source": [
    "import dominics_functions as fu\n",
    "import numpy as np\n",
    "import pandas as pd\n",
    "import matplotlib.pyplot as plt\n",
    "import datetime\n",
    "\n",
    "%load_ext autoreload\n",
    "%autoreload 2"
   ]
  },
  {
   "cell_type": "code",
   "execution_count": 2,
   "id": "4c23acec",
   "metadata": {},
   "outputs": [],
   "source": [
    "path = 'C:\\\\Users\\\\Lovisa\\\\Documents\\\\Courses II\\\\E_science_tools HT22\\\\Project\\\\DATA_ZEP_2010to2020\\\\'"
   ]
  },
  {
   "cell_type": "code",
   "execution_count": 3,
   "id": "f85aabd8",
   "metadata": {},
   "outputs": [
    {
     "data": {
      "text/plain": [
       "['C:\\\\Users\\\\Lovisa\\\\Documents\\\\Courses II\\\\E_science_tools HT22\\\\Project\\\\DATA_ZEP_2010to2020\\\\DMPS_and_CPC_2010_QA_QC@STP_HARMONIZED_PT20210207.dat',\n",
       " 'C:\\\\Users\\\\Lovisa\\\\Documents\\\\Courses II\\\\E_science_tools HT22\\\\Project\\\\DATA_ZEP_2010to2020\\\\DMPS_and_CPC_2011_QA_QC@STP_HARMONIZED_PT20210207.dat',\n",
       " 'C:\\\\Users\\\\Lovisa\\\\Documents\\\\Courses II\\\\E_science_tools HT22\\\\Project\\\\DATA_ZEP_2010to2020\\\\DMPS_and_CPC_2012_QA_QC@STP_HARMONIZED_PT20210207.dat',\n",
       " 'C:\\\\Users\\\\Lovisa\\\\Documents\\\\Courses II\\\\E_science_tools HT22\\\\Project\\\\DATA_ZEP_2010to2020\\\\DMPS_and_CPC_2013_QA_QC@STP_HARMONIZED_PT20210207.dat',\n",
       " 'C:\\\\Users\\\\Lovisa\\\\Documents\\\\Courses II\\\\E_science_tools HT22\\\\Project\\\\DATA_ZEP_2010to2020\\\\DMPS_and_CPC_2014_QA_QC@STP_HARMONIZED_PT20210207.dat',\n",
       " 'C:\\\\Users\\\\Lovisa\\\\Documents\\\\Courses II\\\\E_science_tools HT22\\\\Project\\\\DATA_ZEP_2010to2020\\\\DMPS_and_CPC_2015_QA_QC@STP_HARMONIZED_PT20210207.dat',\n",
       " 'C:\\\\Users\\\\Lovisa\\\\Documents\\\\Courses II\\\\E_science_tools HT22\\\\Project\\\\DATA_ZEP_2010to2020\\\\DMPS_and_CPC_2016_QA_QC@STP_HARMONIZED_PT20210207.dat',\n",
       " 'C:\\\\Users\\\\Lovisa\\\\Documents\\\\Courses II\\\\E_science_tools HT22\\\\Project\\\\DATA_ZEP_2010to2020\\\\DMPS_and_CPC_2017_QA_QC@STP_HARMONIZED_PT20210207.dat',\n",
       " 'C:\\\\Users\\\\Lovisa\\\\Documents\\\\Courses II\\\\E_science_tools HT22\\\\Project\\\\DATA_ZEP_2010to2020\\\\DMPS_and_CPC_2018_QA_QC@STP_HARMONIZED_PT20210207.dat',\n",
       " 'C:\\\\Users\\\\Lovisa\\\\Documents\\\\Courses II\\\\E_science_tools HT22\\\\Project\\\\DATA_ZEP_2010to2020\\\\DMPS_and_CPC_2019_QA_QC@STP_HARMONIZED_PT20210207.dat',\n",
       " 'C:\\\\Users\\\\Lovisa\\\\Documents\\\\Courses II\\\\E_science_tools HT22\\\\Project\\\\DATA_ZEP_2010to2020\\\\DMPS_and_CPC_2020_QA_QC@STP_HARMONIZED_PT20210207.dat',\n",
       " 'C:\\\\Users\\\\Lovisa\\\\Documents\\\\Courses II\\\\E_science_tools HT22\\\\Project\\\\DATA_ZEP_2010to2020\\\\README_BEFORE_USING_THIS_DATA.docx',\n",
       " 'C:\\\\Users\\\\Lovisa\\\\Documents\\\\Courses II\\\\E_science_tools HT22\\\\Project\\\\DATA_ZEP_2010to2020\\\\Zeppelin_dNdlogDp_@STP_QA_QCOk_2010_PT20210207.tiff',\n",
       " 'C:\\\\Users\\\\Lovisa\\\\Documents\\\\Courses II\\\\E_science_tools HT22\\\\Project\\\\DATA_ZEP_2010to2020\\\\Zeppelin_dNdlogDp_@STP_QA_QCOk_2011_PT20210207.tiff',\n",
       " 'C:\\\\Users\\\\Lovisa\\\\Documents\\\\Courses II\\\\E_science_tools HT22\\\\Project\\\\DATA_ZEP_2010to2020\\\\Zeppelin_dNdlogDp_@STP_QA_QCOk_2012_PT20210207.tiff',\n",
       " 'C:\\\\Users\\\\Lovisa\\\\Documents\\\\Courses II\\\\E_science_tools HT22\\\\Project\\\\DATA_ZEP_2010to2020\\\\Zeppelin_dNdlogDp_@STP_QA_QCOk_2013_PT20210207.tiff',\n",
       " 'C:\\\\Users\\\\Lovisa\\\\Documents\\\\Courses II\\\\E_science_tools HT22\\\\Project\\\\DATA_ZEP_2010to2020\\\\Zeppelin_dNdlogDp_@STP_QA_QCOk_2014_PT20210207.tiff',\n",
       " 'C:\\\\Users\\\\Lovisa\\\\Documents\\\\Courses II\\\\E_science_tools HT22\\\\Project\\\\DATA_ZEP_2010to2020\\\\Zeppelin_dNdlogDp_@STP_QA_QCOk_2015_PT20210207.tiff',\n",
       " 'C:\\\\Users\\\\Lovisa\\\\Documents\\\\Courses II\\\\E_science_tools HT22\\\\Project\\\\DATA_ZEP_2010to2020\\\\Zeppelin_dNdlogDp_@STP_QA_QCOk_2016_PT20210207.tiff',\n",
       " 'C:\\\\Users\\\\Lovisa\\\\Documents\\\\Courses II\\\\E_science_tools HT22\\\\Project\\\\DATA_ZEP_2010to2020\\\\Zeppelin_dNdlogDp_@STP_QA_QCOk_2017_PT20210207.tiff',\n",
       " 'C:\\\\Users\\\\Lovisa\\\\Documents\\\\Courses II\\\\E_science_tools HT22\\\\Project\\\\DATA_ZEP_2010to2020\\\\Zeppelin_dNdlogDp_@STP_QA_QCOk_2018_PT20210207.tiff',\n",
       " 'C:\\\\Users\\\\Lovisa\\\\Documents\\\\Courses II\\\\E_science_tools HT22\\\\Project\\\\DATA_ZEP_2010to2020\\\\Zeppelin_dNdlogDp_@STP_QA_QCOk_2019_PT20210207.tiff',\n",
       " 'C:\\\\Users\\\\Lovisa\\\\Documents\\\\Courses II\\\\E_science_tools HT22\\\\Project\\\\DATA_ZEP_2010to2020\\\\Zeppelin_dNdlogDp_@STP_QA_QCOk_2020_PT20210207.tiff']"
      ]
     },
     "execution_count": 3,
     "metadata": {},
     "output_type": "execute_result"
    }
   ],
   "source": [
    "import glob \n",
    "glob.glob(path+'\\\\*')"
   ]
  },
  {
   "cell_type": "code",
   "execution_count": 4,
   "id": "9b4da706",
   "metadata": {},
   "outputs": [
    {
     "name": "stdout",
     "output_type": "stream",
     "text": [
      "C:\\Users\\Lovisa\\Documents\\Courses II\\E_science_tools HT22\\Project\\DATA_ZEP_2010to2020\\DMPS_and_CPC_2010_QA_QC@STP_HARMONIZED_PT20210207.dat\n",
      "Size without flags removed: 17520\n",
      "Size flags removed: 5088\n",
      "C:\\Users\\Lovisa\\Documents\\Courses II\\E_science_tools HT22\\Project\\DATA_ZEP_2010to2020\\DMPS_and_CPC_2011_QA_QC@STP_HARMONIZED_PT20210207.dat\n",
      "Size without flags removed: 17520\n",
      "Size flags removed: 9601\n",
      "C:\\Users\\Lovisa\\Documents\\Courses II\\E_science_tools HT22\\Project\\DATA_ZEP_2010to2020\\DMPS_and_CPC_2012_QA_QC@STP_HARMONIZED_PT20210207.dat\n",
      "Size without flags removed: 17568\n",
      "Size flags removed: 14887\n",
      "C:\\Users\\Lovisa\\Documents\\Courses II\\E_science_tools HT22\\Project\\DATA_ZEP_2010to2020\\DMPS_and_CPC_2013_QA_QC@STP_HARMONIZED_PT20210207.dat\n",
      "Size without flags removed: 17520\n",
      "Size flags removed: 15116\n",
      "C:\\Users\\Lovisa\\Documents\\Courses II\\E_science_tools HT22\\Project\\DATA_ZEP_2010to2020\\DMPS_and_CPC_2014_QA_QC@STP_HARMONIZED_PT20210207.dat\n",
      "Size without flags removed: 17520\n",
      "Size flags removed: 8492\n",
      "C:\\Users\\Lovisa\\Documents\\Courses II\\E_science_tools HT22\\Project\\DATA_ZEP_2010to2020\\DMPS_and_CPC_2015_QA_QC@STP_HARMONIZED_PT20210207.dat\n",
      "Size without flags removed: 17520\n",
      "Size flags removed: 7287\n",
      "C:\\Users\\Lovisa\\Documents\\Courses II\\E_science_tools HT22\\Project\\DATA_ZEP_2010to2020\\DMPS_and_CPC_2016_QA_QC@STP_HARMONIZED_PT20210207.dat\n",
      "Size without flags removed: 17568\n",
      "Size flags removed: 10646\n",
      "C:\\Users\\Lovisa\\Documents\\Courses II\\E_science_tools HT22\\Project\\DATA_ZEP_2010to2020\\DMPS_and_CPC_2017_QA_QC@STP_HARMONIZED_PT20210207.dat\n",
      "Size without flags removed: 17520\n",
      "Size flags removed: 13949\n",
      "C:\\Users\\Lovisa\\Documents\\Courses II\\E_science_tools HT22\\Project\\DATA_ZEP_2010to2020\\DMPS_and_CPC_2018_QA_QC@STP_HARMONIZED_PT20210207.dat\n",
      "Size without flags removed: 17520\n",
      "Size flags removed: 9611\n",
      "C:\\Users\\Lovisa\\Documents\\Courses II\\E_science_tools HT22\\Project\\DATA_ZEP_2010to2020\\DMPS_and_CPC_2019_QA_QC@STP_HARMONIZED_PT20210207.dat\n",
      "Size without flags removed: 17520\n",
      "Size flags removed: 8238\n",
      "C:\\Users\\Lovisa\\Documents\\Courses II\\E_science_tools HT22\\Project\\DATA_ZEP_2010to2020\\DMPS_and_CPC_2020_QA_QC@STP_HARMONIZED_PT20210207.dat\n",
      "Size without flags removed: 17568\n",
      "Size flags removed: 14153\n"
     ]
    }
   ],
   "source": [
    "DFs_2010_2020 = fu.load_and_append_2010_2020(path, \n",
    "                             name_in_file='DMPS')"
   ]
  },
  {
   "cell_type": "code",
   "execution_count": 5,
   "id": "dfd0d8a2",
   "metadata": {},
   "outputs": [
    {
     "data": {
      "text/html": [
       "<div>\n",
       "<style scoped>\n",
       "    .dataframe tbody tr th:only-of-type {\n",
       "        vertical-align: middle;\n",
       "    }\n",
       "\n",
       "    .dataframe tbody tr th {\n",
       "        vertical-align: top;\n",
       "    }\n",
       "\n",
       "    .dataframe thead th {\n",
       "        text-align: right;\n",
       "    }\n",
       "</style>\n",
       "<table border=\"1\" class=\"dataframe\">\n",
       "  <thead>\n",
       "    <tr style=\"text-align: right;\">\n",
       "      <th></th>\n",
       "      <th>unknown1</th>\n",
       "      <th>unknown2</th>\n",
       "      <th>unknown3</th>\n",
       "      <th>unknown4</th>\n",
       "      <th>unknown5, unknown6</th>\n",
       "      <th>unknown7</th>\n",
       "      <th>unknown8</th>\n",
       "      <th>unknown9</th>\n",
       "      <th>5.0118723e-09</th>\n",
       "      <th>5.6234133e-09</th>\n",
       "      <th>...</th>\n",
       "      <th>2.8183829e-07</th>\n",
       "      <th>3.1622777e-07</th>\n",
       "      <th>3.5481339e-07</th>\n",
       "      <th>3.9810717e-07</th>\n",
       "      <th>4.4668359e-07</th>\n",
       "      <th>5.0118723e-07</th>\n",
       "      <th>5.6234133e-07</th>\n",
       "      <th>6.3095734e-07</th>\n",
       "      <th>7.0794578e-07</th>\n",
       "      <th>flag</th>\n",
       "    </tr>\n",
       "    <tr>\n",
       "      <th>DateTime</th>\n",
       "      <th></th>\n",
       "      <th></th>\n",
       "      <th></th>\n",
       "      <th></th>\n",
       "      <th></th>\n",
       "      <th></th>\n",
       "      <th></th>\n",
       "      <th></th>\n",
       "      <th></th>\n",
       "      <th></th>\n",
       "      <th></th>\n",
       "      <th></th>\n",
       "      <th></th>\n",
       "      <th></th>\n",
       "      <th></th>\n",
       "      <th></th>\n",
       "      <th></th>\n",
       "      <th></th>\n",
       "      <th></th>\n",
       "      <th></th>\n",
       "      <th></th>\n",
       "    </tr>\n",
       "  </thead>\n",
       "  <tbody>\n",
       "    <tr>\n",
       "      <th>2010-08-03 00:30:00</th>\n",
       "      <td>0.0</td>\n",
       "      <td>192.74387</td>\n",
       "      <td>243.84122</td>\n",
       "      <td>295.88554</td>\n",
       "      <td>980.61711</td>\n",
       "      <td>0.9</td>\n",
       "      <td>5.0</td>\n",
       "      <td>6.0</td>\n",
       "      <td>2.808560e-29</td>\n",
       "      <td>2.806373e-29</td>\n",
       "      <td>...</td>\n",
       "      <td>41.174992</td>\n",
       "      <td>30.989534</td>\n",
       "      <td>24.949570</td>\n",
       "      <td>12.333647</td>\n",
       "      <td>2.245721</td>\n",
       "      <td>0.025513</td>\n",
       "      <td>2.092485e-29</td>\n",
       "      <td>NaN</td>\n",
       "      <td>NaN</td>\n",
       "      <td>0.0</td>\n",
       "    </tr>\n",
       "    <tr>\n",
       "      <th>2010-08-03 01:00:00</th>\n",
       "      <td>0.0</td>\n",
       "      <td>193.46634</td>\n",
       "      <td>215.13303</td>\n",
       "      <td>295.86679</td>\n",
       "      <td>980.61705</td>\n",
       "      <td>0.9</td>\n",
       "      <td>5.0</td>\n",
       "      <td>6.0</td>\n",
       "      <td>2.808381e-29</td>\n",
       "      <td>2.806194e-29</td>\n",
       "      <td>...</td>\n",
       "      <td>30.370227</td>\n",
       "      <td>16.315628</td>\n",
       "      <td>14.749940</td>\n",
       "      <td>7.853108</td>\n",
       "      <td>1.110854</td>\n",
       "      <td>0.012225</td>\n",
       "      <td>7.289623e-02</td>\n",
       "      <td>NaN</td>\n",
       "      <td>NaN</td>\n",
       "      <td>0.0</td>\n",
       "    </tr>\n",
       "    <tr>\n",
       "      <th>2010-08-03 01:30:00</th>\n",
       "      <td>0.0</td>\n",
       "      <td>171.50623</td>\n",
       "      <td>202.35439</td>\n",
       "      <td>295.78682</td>\n",
       "      <td>980.61707</td>\n",
       "      <td>0.9</td>\n",
       "      <td>5.0</td>\n",
       "      <td>6.0</td>\n",
       "      <td>2.807616e-29</td>\n",
       "      <td>2.805429e-29</td>\n",
       "      <td>...</td>\n",
       "      <td>20.511996</td>\n",
       "      <td>16.397279</td>\n",
       "      <td>8.066267</td>\n",
       "      <td>4.359914</td>\n",
       "      <td>3.408711</td>\n",
       "      <td>3.556573</td>\n",
       "      <td>2.125525e+00</td>\n",
       "      <td>NaN</td>\n",
       "      <td>NaN</td>\n",
       "      <td>0.0</td>\n",
       "    </tr>\n",
       "    <tr>\n",
       "      <th>2010-08-03 02:00:00</th>\n",
       "      <td>0.0</td>\n",
       "      <td>150.03288</td>\n",
       "      <td>171.32055</td>\n",
       "      <td>295.71530</td>\n",
       "      <td>980.61720</td>\n",
       "      <td>0.9</td>\n",
       "      <td>5.0</td>\n",
       "      <td>6.0</td>\n",
       "      <td>2.806932e-29</td>\n",
       "      <td>2.804744e-29</td>\n",
       "      <td>...</td>\n",
       "      <td>13.715205</td>\n",
       "      <td>9.214429</td>\n",
       "      <td>4.748312</td>\n",
       "      <td>4.956812</td>\n",
       "      <td>5.186443</td>\n",
       "      <td>1.304189</td>\n",
       "      <td>8.860881e-01</td>\n",
       "      <td>NaN</td>\n",
       "      <td>NaN</td>\n",
       "      <td>0.0</td>\n",
       "    </tr>\n",
       "    <tr>\n",
       "      <th>2010-08-03 02:30:00</th>\n",
       "      <td>0.0</td>\n",
       "      <td>133.50656</td>\n",
       "      <td>161.29302</td>\n",
       "      <td>295.62903</td>\n",
       "      <td>980.61738</td>\n",
       "      <td>0.9</td>\n",
       "      <td>5.0</td>\n",
       "      <td>6.0</td>\n",
       "      <td>2.806105e-29</td>\n",
       "      <td>2.803917e-29</td>\n",
       "      <td>...</td>\n",
       "      <td>13.290051</td>\n",
       "      <td>8.655610</td>\n",
       "      <td>0.852759</td>\n",
       "      <td>1.619113</td>\n",
       "      <td>3.022508</td>\n",
       "      <td>0.060169</td>\n",
       "      <td>2.090299e-29</td>\n",
       "      <td>NaN</td>\n",
       "      <td>NaN</td>\n",
       "      <td>0.0</td>\n",
       "    </tr>\n",
       "  </tbody>\n",
       "</table>\n",
       "<p>5 rows × 53 columns</p>\n",
       "</div>"
      ],
      "text/plain": [
       "                     unknown1   unknown2   unknown3   unknown4  \\\n",
       "DateTime                                                         \n",
       "2010-08-03 00:30:00       0.0  192.74387  243.84122  295.88554   \n",
       "2010-08-03 01:00:00       0.0  193.46634  215.13303  295.86679   \n",
       "2010-08-03 01:30:00       0.0  171.50623  202.35439  295.78682   \n",
       "2010-08-03 02:00:00       0.0  150.03288  171.32055  295.71530   \n",
       "2010-08-03 02:30:00       0.0  133.50656  161.29302  295.62903   \n",
       "\n",
       "                     unknown5, unknown6  unknown7  unknown8  unknown9  \\\n",
       "DateTime                                                                \n",
       "2010-08-03 00:30:00           980.61711       0.9       5.0       6.0   \n",
       "2010-08-03 01:00:00           980.61705       0.9       5.0       6.0   \n",
       "2010-08-03 01:30:00           980.61707       0.9       5.0       6.0   \n",
       "2010-08-03 02:00:00           980.61720       0.9       5.0       6.0   \n",
       "2010-08-03 02:30:00           980.61738       0.9       5.0       6.0   \n",
       "\n",
       "                     5.0118723e-09  5.6234133e-09  ...  2.8183829e-07  \\\n",
       "DateTime                                           ...                  \n",
       "2010-08-03 00:30:00   2.808560e-29   2.806373e-29  ...      41.174992   \n",
       "2010-08-03 01:00:00   2.808381e-29   2.806194e-29  ...      30.370227   \n",
       "2010-08-03 01:30:00   2.807616e-29   2.805429e-29  ...      20.511996   \n",
       "2010-08-03 02:00:00   2.806932e-29   2.804744e-29  ...      13.715205   \n",
       "2010-08-03 02:30:00   2.806105e-29   2.803917e-29  ...      13.290051   \n",
       "\n",
       "                     3.1622777e-07  3.5481339e-07  3.9810717e-07  \\\n",
       "DateTime                                                           \n",
       "2010-08-03 00:30:00      30.989534      24.949570      12.333647   \n",
       "2010-08-03 01:00:00      16.315628      14.749940       7.853108   \n",
       "2010-08-03 01:30:00      16.397279       8.066267       4.359914   \n",
       "2010-08-03 02:00:00       9.214429       4.748312       4.956812   \n",
       "2010-08-03 02:30:00       8.655610       0.852759       1.619113   \n",
       "\n",
       "                     4.4668359e-07  5.0118723e-07  5.6234133e-07  \\\n",
       "DateTime                                                           \n",
       "2010-08-03 00:30:00       2.245721       0.025513   2.092485e-29   \n",
       "2010-08-03 01:00:00       1.110854       0.012225   7.289623e-02   \n",
       "2010-08-03 01:30:00       3.408711       3.556573   2.125525e+00   \n",
       "2010-08-03 02:00:00       5.186443       1.304189   8.860881e-01   \n",
       "2010-08-03 02:30:00       3.022508       0.060169   2.090299e-29   \n",
       "\n",
       "                     6.3095734e-07  7.0794578e-07  flag  \n",
       "DateTime                                                 \n",
       "2010-08-03 00:30:00            NaN            NaN   0.0  \n",
       "2010-08-03 01:00:00            NaN            NaN   0.0  \n",
       "2010-08-03 01:30:00            NaN            NaN   0.0  \n",
       "2010-08-03 02:00:00            NaN            NaN   0.0  \n",
       "2010-08-03 02:30:00            NaN            NaN   0.0  \n",
       "\n",
       "[5 rows x 53 columns]"
      ]
     },
     "execution_count": 5,
     "metadata": {},
     "output_type": "execute_result"
    }
   ],
   "source": [
    "DFs_2010_2020[0].head()"
   ]
  },
  {
   "cell_type": "code",
   "execution_count": 10,
   "id": "9f40d2d7",
   "metadata": {},
   "outputs": [],
   "source": [
    "fu.get_columns_2010_2020?"
   ]
  },
  {
   "cell_type": "code",
   "execution_count": 11,
   "id": "b34ae6d3",
   "metadata": {},
   "outputs": [],
   "source": [
    "df_2010_2020 = fu.concat_df_2010_2020(DFs_2010_2020)\n",
    "dict_years_to_df = {\"2010_2020\":df_2010_2020}"
   ]
  },
  {
   "cell_type": "code",
   "execution_count": 12,
   "id": "1d02e21e",
   "metadata": {},
   "outputs": [],
   "source": [
    "dict_years_to_df = fu.resample_dfs(dict_years_to_df, \"2010_2020\")"
   ]
  },
  {
   "cell_type": "code",
   "execution_count": 13,
   "id": "756ce38a",
   "metadata": {},
   "outputs": [],
   "source": [
    "df_daily_2010_2020_mean = df_2010_2020.resample('D').mean()"
   ]
  },
  {
   "cell_type": "code",
   "execution_count": 14,
   "id": "638fdcab",
   "metadata": {},
   "outputs": [],
   "source": [
    "df_daily_2010_2020_median = df_2010_2020.resample('D').median()"
   ]
  },
  {
   "cell_type": "code",
   "execution_count": 18,
   "id": "47269984",
   "metadata": {},
   "outputs": [],
   "source": [
    "# df_tmp = df_daily_2010_2020_mean.iloc[2, 0:]\n"
   ]
  },
  {
   "cell_type": "code",
   "execution_count": 22,
   "id": "6bab1a7f",
   "metadata": {},
   "outputs": [
    {
     "data": {
      "image/png": "[encoded data removed]",
      "text/plain": [
       "<Figure size 640x480 with 1 Axes>"
      ]
     },
     "metadata": {},
     "output_type": "display_data"
    }
   ],
   "source": [
    "# Plot daily mean distribution\n",
    "ii = np.arange(0, len(df_daily_2010_2020_mean), 1)\n",
    "\n",
    "jj = np.arange(7,25,1)\n",
    "\n",
    "fig, ax = plt.subplots()\n",
    "\n",
    "for i in jj:\n",
    "    df_tmp_mean = df_daily_2010_2020_mean.iloc[i, 0:].to_frame()\n",
    "    \n",
    "    ax.plot(df_tmp_mean.index, df_tmp_mean.values,'r')\n",
    "    ax.set_xscale('log')\n",
    "    \n",
    "    df_tmp_median = df_daily_2010_2020_median.iloc[i, 0:].to_frame()\n",
    "    ax.plot(df_tmp_median.index, df_tmp_median.values,'b')\n",
    "    ax.set_xscale('log')\n",
    "    \n",
    "    "
   ]
  },
  {
   "cell_type": "markdown",
   "id": "8a115f9c",
   "metadata": {},
   "source": [
    "### Attempt to integrate with trapezoidal rule to find the ratio $N_{<30}/N_{tot}$"
   ]
  },
  {
   "cell_type": "code",
   "execution_count": 27,
   "id": "191e1521",
   "metadata": {},
   "outputs": [],
   "source": [
    "ratio_of_mean = 9999*np.ones((1,len(df_daily_2010_2020_mean))) \n"
   ]
  },
  {
   "cell_type": "code",
   "execution_count": 63,
   "id": "29fee6e8",
   "metadata": {},
   "outputs": [
    {
     "name": "stdout",
     "output_type": "stream",
     "text": [
      "[ 80.02777985 139.40268807 185.90426497 196.48379742 192.69985362\n",
      " 149.78525639 123.36794741 126.99238041 149.29680354 156.01103441\n",
      " 155.54833391 177.06152617 188.06904474 188.71080411 159.76647559\n",
      " 136.65572157 121.2939162  105.03898979  76.37403296  56.10106753\n",
      "  47.5950308   45.88186829  48.0597263   55.18063079  59.77980766\n",
      "  62.33078143  61.26373118  54.63470106  44.31860537  30.03621415\n",
      "  18.86385383  11.17160207   6.46782131   3.63262033   2.41645931\n",
      "   1.90554487   1.72202496   2.16568295   1.90778361   1.44581214\n",
      "   1.16361994   1.06666319          nan          nan]\n",
      "[  5.012   5.623   6.31    7.079   7.943   8.913  10.     11.22   12.589\n",
      "  14.125  15.849  17.783  19.953  22.387  25.119  28.184  31.623  35.481\n",
      "  39.811  44.668  50.119  56.234  63.096  70.795  79.433  89.125 100.\n",
      " 112.202 125.893 141.254 158.489 177.828 199.526 223.872 251.189 281.838\n",
      " 316.228 354.813 398.107 446.684 501.187 562.341 630.957 707.946]\n",
      "11979.979170398257\n",
      "[  6.03126636   9.77359704  13.69495331  30.17378903  61.16579313\n",
      " 129.76408709 213.35165188 319.0734666  448.02826864 505.91569545\n",
      " 511.55706811 407.7931717  357.25499191 325.63918979 281.06270957\n",
      " 266.54274149 233.32964883 174.97403485 115.81481983  83.55771474\n",
      "  72.28192351  72.52189181  75.63820364  75.65150843  80.7087976\n",
      "  86.28790411  89.66949638  86.96796834  75.1639187   55.60893568\n",
      "  35.03555474  19.89896835  10.33119212   5.30903623   4.08631104\n",
      "   3.31379537   2.51284456   2.49998395   2.16027372   1.73938795\n",
      "   1.42754749   1.19670577          nan          nan]\n",
      "[  5.012   5.623   6.31    7.079   7.943   8.913  10.     11.22   12.589\n",
      "  14.125  15.849  17.783  19.953  22.387  25.119  28.184  31.623  35.481\n",
      "  39.811  44.668  50.119  56.234  63.096  70.795  79.433  89.125 100.\n",
      " 112.202 125.893 141.254 158.489 177.828 199.526 223.872 251.189 281.838\n",
      " 316.228 354.813 398.107 446.684 501.187 562.341 630.957 707.946]\n",
      "20009.810444775358\n",
      "[  4.4258755   12.10984766  22.49193508  23.29802425  59.94590599\n",
      "  71.09067861  76.12207026  84.13388339 142.33556675 174.92882608\n",
      " 198.82020773 258.00404768 349.72498079 422.51554566 406.81760895\n",
      " 374.32728184 315.85725    232.49232303 144.23058234  94.12852845\n",
      "  72.60125563  60.46190242  55.12503491  55.91009555  57.92718524\n",
      "  64.05373693  78.84709841 109.69684429 133.47956974 140.73258594\n",
      "  91.35690624  52.30708437  24.40001171  10.64290258   7.01692774\n",
      "   5.08046634   3.33479932   3.01855484   2.89600229   2.67866574\n",
      "   1.80666232   1.74997614          nan          nan]\n",
      "[  5.012   5.623   6.31    7.079   7.943   8.913  10.     11.22   12.589\n",
      "  14.125  15.849  17.783  19.953  22.387  25.119  28.184  31.623  35.481\n",
      "  39.811  44.668  50.119  56.234  63.096  70.795  79.433  89.125 100.\n",
      " 112.202 125.893 141.254 158.489 177.828 199.526 223.872 251.189 281.838\n",
      " 316.228 354.813 398.107 446.684 501.187 562.341 630.957 707.946]\n",
      "23344.976404428846\n",
      "[   6.18791481   10.1484033    20.47022339   46.96918633   68.79320933\n",
      "  114.33988981  178.66848877  288.10364937  394.19628695  551.5874286\n",
      "  778.20220277  968.64777277 1184.16901106 1313.62468702 1115.0652083\n",
      "  852.20504915  576.68150777  372.20720967  235.363477    154.1681478\n",
      "  117.48723432  108.87982471  108.80348867  110.16004033  113.56326677\n",
      "  112.21549985  103.47874226   88.39388099   69.70934109   49.41649315\n",
      "   32.28953933   21.00585753   12.78425754    6.64487562    4.4437332\n",
      "    3.43195139    2.96923966    2.48493119    2.20160544    1.96981096\n",
      "    1.43200248    1.34983447           nan           nan]\n",
      "[  5.012   5.623   6.31    7.079   7.943   8.913  10.     11.22   12.589\n",
      "  14.125  15.849  17.783  19.953  22.387  25.119  28.184  31.623  35.481\n",
      "  39.811  44.668  50.119  56.234  63.096  70.795  79.433  89.125 100.\n",
      " 112.202 125.893 141.254 158.489 177.828 199.526 223.872 251.189 281.838\n",
      " 316.228 354.813 398.107 446.684 501.187 562.341 630.957 707.946]\n",
      "35023.8006434403\n",
      "[nan nan nan nan nan nan nan nan nan nan nan nan nan nan nan nan nan nan\n",
      " nan nan nan nan nan nan nan nan nan nan nan nan nan nan nan nan nan nan\n",
      " nan nan nan nan nan nan nan nan]\n",
      "[  5.012   5.623   6.31    7.079   7.943   8.913  10.     11.22   12.589\n",
      "  14.125  15.849  17.783  19.953  22.387  25.119  28.184  31.623  35.481\n",
      "  39.811  44.668  50.119  56.234  63.096  70.795  79.433  89.125 100.\n",
      " 112.202 125.893 141.254 158.489 177.828 199.526 223.872 251.189 281.838\n",
      " 316.228 354.813 398.107 446.684 501.187 562.341 630.957 707.946]\n",
      "0.0\n",
      "[nan nan nan nan nan nan nan nan nan nan nan nan nan nan nan nan nan nan\n",
      " nan nan nan nan nan nan nan nan nan nan nan nan nan nan nan nan nan nan\n",
      " nan nan nan nan nan nan nan nan]\n",
      "[  5.012   5.623   6.31    7.079   7.943   8.913  10.     11.22   12.589\n",
      "  14.125  15.849  17.783  19.953  22.387  25.119  28.184  31.623  35.481\n",
      "  39.811  44.668  50.119  56.234  63.096  70.795  79.433  89.125 100.\n",
      " 112.202 125.893 141.254 158.489 177.828 199.526 223.872 251.189 281.838\n",
      " 316.228 354.813 398.107 446.684 501.187 562.341 630.957 707.946]\n",
      "0.0\n",
      "[nan nan nan nan nan nan nan nan nan nan nan nan nan nan nan nan nan nan\n",
      " nan nan nan nan nan nan nan nan nan nan nan nan nan nan nan nan nan nan\n",
      " nan nan nan nan nan nan nan nan]\n",
      "[  5.012   5.623   6.31    7.079   7.943   8.913  10.     11.22   12.589\n",
      "  14.125  15.849  17.783  19.953  22.387  25.119  28.184  31.623  35.481\n",
      "  39.811  44.668  50.119  56.234  63.096  70.795  79.433  89.125 100.\n",
      " 112.202 125.893 141.254 158.489 177.828 199.526 223.872 251.189 281.838\n",
      " 316.228 354.813 398.107 446.684 501.187 562.341 630.957 707.946]\n",
      "0.0\n",
      "[ 60.31056163 128.57554935 231.18222865 381.8712654  439.45934661\n",
      " 342.69202213 228.22442904  87.19143857  42.58324819  48.42677261\n",
      "  73.40228374 103.62425619 131.59875314 152.72963569 147.60284414\n",
      " 143.63404049 133.13407299 114.94848665  98.04123613  80.70415225\n",
      "  61.3188434   55.17602318  51.28896733  47.4820147   50.18006412\n",
      "  55.05426417  58.01048715  45.18998825  30.91337845  18.93025034\n",
      "   9.57169916   5.45782711   3.39061003   1.91774481   1.72988028\n",
      "   1.4743634    1.05278635   1.26026302   1.08120527   0.81903354\n",
      "   0.82545027   0.69657359          nan          nan]\n",
      "[  5.012   5.623   6.31    7.079   7.943   8.913  10.     11.22   12.589\n",
      "  14.125  15.849  17.783  19.953  22.387  25.119  28.184  31.623  35.481\n",
      "  39.811  44.668  50.119  56.234  63.096  70.795  79.433  89.125 100.\n",
      " 112.202 125.893 141.254 158.489 177.828 199.526 223.872 251.189 281.838\n",
      " 316.228 354.813 398.107 446.684 501.187 562.341 630.957 707.946]\n",
      "10891.758480302771\n",
      "[ 21.20928245  53.7029804  110.17770383 160.15501519 214.46488744\n",
      " 254.07682857 286.02003028 307.93103131 320.31622518 335.97519409\n",
      " 345.49875445 300.59149241 266.18803668 238.38878905 236.6110154\n",
      " 239.41781738 264.66818809 295.06113255 308.48145064 292.61830085\n",
      " 247.19564809 217.69614715 204.50755332 212.98581483 232.25697\n",
      " 249.09268894 256.83954766 233.65129781 197.67533385 152.87506745\n",
      " 116.53303161  93.91819255  74.9429176   54.75456737  39.81743875\n",
      "  27.95165661  18.07302107  10.46482468   5.73965287   2.90202079\n",
      "   1.31877939   0.95412386          nan          nan]\n",
      "[  5.012   5.623   6.31    7.079   7.943   8.913  10.     11.22   12.589\n",
      "  14.125  15.849  17.783  19.953  22.387  25.119  28.184  31.623  35.481\n",
      "  39.811  44.668  50.119  56.234  63.096  70.795  79.433  89.125 100.\n",
      " 112.202 125.893 141.254 158.489 177.828 199.526 223.872 251.189 281.838\n",
      " 316.228 354.813 398.107 446.684 501.187 562.341 630.957 707.946]\n",
      "44471.95631300597\n",
      "[ 15.49550249  30.3145064   60.76763712 137.71632925 157.80808371\n",
      " 177.64408418 184.24786363 172.50056015 170.58301134 180.03147349\n",
      " 187.34584898 164.22333243 172.9353878  189.92428274 212.42519732\n",
      " 267.29854468 348.51171745 449.01899468 524.76329106 554.71810064\n",
      " 539.9517966  503.50226553 436.72831787 362.18100617 316.7462\n",
      " 292.33888596 281.6472717  279.83225489 269.28853404 244.42655149\n",
      " 210.36306574 167.68348474 122.51408374  84.23246985  55.89065902\n",
      "  36.45764528  23.13588951  13.98952891   8.38207704   4.74394501\n",
      "   2.28122536   1.4241347           nan          nan]\n",
      "[  5.012   5.623   6.31    7.079   7.943   8.913  10.     11.22   12.589\n",
      "  14.125  15.849  17.783  19.953  22.387  25.119  28.184  31.623  35.481\n",
      "  39.811  44.668  50.119  56.234  63.096  70.795  79.433  89.125 100.\n",
      " 112.202 125.893 141.254 158.489 177.828 199.526 223.872 251.189 281.838\n",
      " 316.228 354.813 398.107 446.684 501.187 562.341 630.957 707.946]\n",
      "63434.27029400248\n"
     ]
    }
   ],
   "source": [
    "for i in jj[:10]:\n",
    "    df_tmp_mean = df_daily_2010_2020_mean.iloc[i, 0:]\n",
    "#     print(df_tmp_mean)\n",
    "    print(df_tmp_mean.values)\n",
    "    print(np.array(df_tmp_mean.index))\n",
    "    trap_tmp = np.trapz(df_tmp_mean.values[~np.isnan(df_tmp_mean.values)], np.array(df_tmp_mean.index[~np.isnan(df_tmp_mean.values)]), dx=1.0, axis=- 1)\n",
    "    print(trap_tmp)\n",
    "    #ratio_of_mean[jj] = Save it in dummy vector\n",
    "\n"
   ]
  },
  {
   "cell_type": "code",
   "execution_count": 43,
   "id": "379ca69f",
   "metadata": {},
   "outputs": [
    {
     "name": "stdout",
     "output_type": "stream",
     "text": [
      "(44, 1)\n",
      "(44,)\n"
     ]
    }
   ],
   "source": [
    "print(df_tmp_mean.shape)\n",
    "print(df_tmp_mean.index.shape)"
   ]
  },
  {
   "cell_type": "code",
   "execution_count": 57,
   "id": "bd90ea66",
   "metadata": {},
   "outputs": [
    {
     "data": {
      "text/plain": [
       "nan"
      ]
     },
     "execution_count": 57,
     "metadata": {},
     "output_type": "execute_result"
    }
   ],
   "source": [
    "np.trapz([1,2,3], x=[8,6,np.nan])"
   ]
  },
  {
   "cell_type": "markdown",
   "id": "905ea8b6",
   "metadata": {},
   "source": [
    "## Other"
   ]
  },
  {
   "cell_type": "code",
   "execution_count": null,
   "id": "d7ea9967",
   "metadata": {},
   "outputs": [],
   "source": [
    "name_to_start_size_bin = {'2010_2020': 10.0}\n",
    "name_to_end_size_bin = {'2010_2020':398.107}\n",
    "\n",
    "xrs_2010_2020 = fu.df_to_xr(dict_years_to_df, '2010_2020', name_to_start_size_bin, name_to_end_size_bin)"
   ]
  },
  {
   "cell_type": "code",
   "execution_count": null,
   "id": "33959a1c",
   "metadata": {},
   "outputs": [],
   "source": [
    "fig = fu.create_colourmesh(xrs_2010_2020)"
   ]
  }
 ],
 "metadata": {
  "kernelspec": {
   "display_name": "Python 3 (ipykernel)",
   "language": "python",
   "name": "python3"
  },
  "language_info": {
   "codemirror_mode": {
    "name": "ipython",
    "version": 3
   },
   "file_extension": ".py",
   "mimetype": "text/x-python",
   "name": "python",
   "nbconvert_exporter": "python",
   "pygments_lexer": "ipython3",
   "version": "3.9.13"
  }
 },
 "nbformat": 4,
 "nbformat_minor": 5
}
