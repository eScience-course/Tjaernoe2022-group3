{
 "cells": [
  {
   "cell_type": "markdown",
   "id": "4c7dc6bd",
   "metadata": {},
   "source": [
    "# DMPS data: "
   ]
  },
  {
   "cell_type": "code",
   "execution_count": 103,
   "id": "23f88caa",
   "metadata": {
    "ExecuteTime": {
     "end_time": "2022-11-04T19:54:54.493486Z",
     "start_time": "2022-11-04T19:54:54.403510Z"
    }
   },
   "outputs": [
    {
     "name": "stdout",
     "output_type": "stream",
     "text": [
      "The autoreload extension is already loaded. To reload it, use:\n",
      "  %reload_ext autoreload\n"
     ]
    }
   ],
   "source": [
    "import dominics_functions as fu\n",
    "\n",
    "import glob\n",
    "import pandas as pd\n",
    "import matplotlib.pyplot as plt\n",
    "import datetime\n",
    "\n",
    "%load_ext autoreload\n",
    "%autoreload 2"
   ]
  },
  {
   "cell_type": "markdown",
   "id": "5d694c06",
   "metadata": {},
   "source": [
    "\"\"\"[YYYY, MM, DD, HH, mm, UF(?)CPC, CPC3010, N_int, bin1:end, numflag]. Sizes in m and dN/dlogdp in cm-3. This data is level 2.\"\"\"    "
   ]
  },
  {
   "cell_type": "code",
   "execution_count": 104,
   "id": "9183277e",
   "metadata": {
    "ExecuteTime": {
     "end_time": "2022-11-04T19:54:55.987295Z",
     "start_time": "2022-11-04T19:54:55.910074Z"
    }
   },
   "outputs": [
    {
     "name": "stdout",
     "output_type": "stream",
     "text": [
      "['YYYY', 'MM', 'DD', 'HH', 'mm', 'UFCPC', 'CPC3030', 'N_int', 'unknown4', 'unknown5', 'unknown6', 'unknown7', 'unknown8', '5.012', '5.623', '6.31', '7.079', '7.943', '8.913', '10.0', '11.22', '12.589', '14.125', '15.849', '17.783', '19.953', '22.387', '25.119', '28.184', '31.623', '35.481', '39.811', '44.668', '50.119', '56.234', '63.096', '70.795', '79.433', '89.125', '100.0', '112.202', '125.893', '141.254', '158.489', '177.828', '199.526', '223.872', '251.189', '281.838', '316.228', '354.813', '398.107', '446.684', '501.187', '562.341', '630.957', '707.946', 'numflag']\n"
     ]
    }
   ],
   "source": [
    "datetime_cols = ['YYYY', 'MM', 'DD', 'HH', 'mm']\n",
    "unknowns = ['UFCPC','CPC3030', 'N_int', 'unknown4', 'unknown5',\n",
    "            'unknown6','unknown7', 'unknown8']\n",
    "bin_col_names_2010_2020 = ['5.0118723e-09', '5.6234133e-09', '6.3095734e-09',\n",
    "       '7.0794578e-09', '7.9432823e-09', '8.9125094e-09', '1.0000000e-08',\n",
    "       '1.1220185e-08', '1.2589254e-08', '1.4125375e-08', '1.5848932e-08',\n",
    "       '1.7782794e-08', '1.9952623e-08', '2.2387211e-08', '2.5118864e-08',\n",
    "       '2.8183829e-08', '3.1622777e-08', '3.5481339e-08', '3.9810717e-08',\n",
    "       '4.4668359e-08', '5.0118723e-08', '5.6234133e-08', '6.3095734e-08',\n",
    "       '7.0794578e-08', '7.9432823e-08', '8.9125094e-08', '1.0000000e-07',\n",
    "       '1.1220185e-07', '1.2589254e-07', '1.4125375e-07', '1.5848932e-07',\n",
    "       '1.7782794e-07', '1.9952623e-07', '2.2387211e-07', '2.5118864e-07',\n",
    "       '2.8183829e-07', '3.1622777e-07', '3.5481339e-07', '3.9810717e-07',\n",
    "       '4.4668359e-07', '5.0118723e-07', '5.6234133e-07', '6.3095734e-07',\n",
    "       '7.0794578e-07']\n",
    "\n",
    "bin_col_names_floats = [float(i)*10**9 for i in bin_col_names_2010_2020]\n",
    "\n",
    "bin_cols = np.around(bin_col_names_floats, decimals=3)\n",
    "bin_cols = np.asarray(bin_cols) \n",
    "bin_cols = [str(x) for x in bin_cols]\n",
    "\n",
    "flag = ['numflag']\n",
    "all_cols = datetime_cols + unknowns + bin_cols + flag\n",
    "print(all_cols)"
   ]
  },
  {
   "cell_type": "code",
   "execution_count": 105,
   "id": "d9bfb60f",
   "metadata": {
    "ExecuteTime": {
     "end_time": "2022-11-04T19:54:57.510232Z",
     "start_time": "2022-11-04T19:54:57.414841Z"
    }
   },
   "outputs": [],
   "source": [
    "def append_2010_2020(inpath, name_in_file, all_cols, datetime_cols=['YYYY', 'MM', 'DD', 'HH', 'mm']):\n",
    "    DFs = []\n",
    "    folder = glob.glob(inpath+str(name_in_file)+'*.dat')\n",
    "    folder.sort()\n",
    "    for file in folder: \n",
    "        print(file)\n",
    "        ds = pd.read_csv(file, sep='\\s+', \n",
    "                         skiprows=1, names=all_cols)   \n",
    "        ds[datetime_cols] = ds[datetime_cols].astype(int)\n",
    "        ds['DateTime'] = ds[datetime_cols].apply(lambda s : datetime.datetime(*s),axis = 1)\n",
    "        ds = ds.drop(datetime_cols, axis=1)\n",
    "        ds = ds.set_index('DateTime')        \n",
    "        print(\"Size without flags removed: \"+str(len(ds)))\n",
    "        ds = ds[ds.loc[:,'numflag'] != 0.999] #remove these\n",
    "        DFs.append(ds)\n",
    "    return DFs"
   ]
  },
  {
   "cell_type": "code",
   "execution_count": 106,
   "id": "a543ef8f",
   "metadata": {
    "ExecuteTime": {
     "end_time": "2022-11-04T19:55:07.346964Z",
     "start_time": "2022-11-04T19:54:58.948755Z"
    }
   },
   "outputs": [
    {
     "name": "stdout",
     "output_type": "stream",
     "text": [
      "C:\\Users\\DominicHeslinRees\\Documents\\Data\\DMPS_ZEP\\DATA_ZEP_2010to2020\\DMPS_and_CPC_2010_QA_QC@STP_HARMONIZED_PT20210207.dat\n",
      "Size without flags removed: 17520\n",
      "C:\\Users\\DominicHeslinRees\\Documents\\Data\\DMPS_ZEP\\DATA_ZEP_2010to2020\\DMPS_and_CPC_2011_QA_QC@STP_HARMONIZED_PT20210207.dat\n",
      "Size without flags removed: 17520\n",
      "C:\\Users\\DominicHeslinRees\\Documents\\Data\\DMPS_ZEP\\DATA_ZEP_2010to2020\\DMPS_and_CPC_2012_QA_QC@STP_HARMONIZED_PT20210207.dat\n",
      "Size without flags removed: 17568\n",
      "C:\\Users\\DominicHeslinRees\\Documents\\Data\\DMPS_ZEP\\DATA_ZEP_2010to2020\\DMPS_and_CPC_2013_QA_QC@STP_HARMONIZED_PT20210207.dat\n",
      "Size without flags removed: 17520\n",
      "C:\\Users\\DominicHeslinRees\\Documents\\Data\\DMPS_ZEP\\DATA_ZEP_2010to2020\\DMPS_and_CPC_2014_QA_QC@STP_HARMONIZED_PT20210207.dat\n",
      "Size without flags removed: 17520\n",
      "C:\\Users\\DominicHeslinRees\\Documents\\Data\\DMPS_ZEP\\DATA_ZEP_2010to2020\\DMPS_and_CPC_2015_QA_QC@STP_HARMONIZED_PT20210207.dat\n",
      "Size without flags removed: 17520\n",
      "C:\\Users\\DominicHeslinRees\\Documents\\Data\\DMPS_ZEP\\DATA_ZEP_2010to2020\\DMPS_and_CPC_2016_QA_QC@STP_HARMONIZED_PT20210207.dat\n",
      "Size without flags removed: 17568\n",
      "C:\\Users\\DominicHeslinRees\\Documents\\Data\\DMPS_ZEP\\DATA_ZEP_2010to2020\\DMPS_and_CPC_2017_QA_QC@STP_HARMONIZED_PT20210207.dat\n",
      "Size without flags removed: 17520\n",
      "C:\\Users\\DominicHeslinRees\\Documents\\Data\\DMPS_ZEP\\DATA_ZEP_2010to2020\\DMPS_and_CPC_2018_QA_QC@STP_HARMONIZED_PT20210207.dat\n",
      "Size without flags removed: 17520\n",
      "C:\\Users\\DominicHeslinRees\\Documents\\Data\\DMPS_ZEP\\DATA_ZEP_2010to2020\\DMPS_and_CPC_2019_QA_QC@STP_HARMONIZED_PT20210207.dat\n",
      "Size without flags removed: 17520\n",
      "C:\\Users\\DominicHeslinRees\\Documents\\Data\\DMPS_ZEP\\DATA_ZEP_2010to2020\\DMPS_and_CPC_2020_QA_QC@STP_HARMONIZED_PT20210207.dat\n",
      "Size without flags removed: 17568\n"
     ]
    }
   ],
   "source": [
    "DFs_2010_2020 = append_2010_2020('C:\\\\Users\\\\DominicHeslinRees\\\\Documents\\\\Data\\\\DMPS_ZEP\\\\DATA_ZEP_2010to2020\\\\', \n",
    "                             name_in_file='DMPS', all_cols=all_cols)"
   ]
  },
  {
   "cell_type": "code",
   "execution_count": 128,
   "id": "a3f1d634",
   "metadata": {
    "ExecuteTime": {
     "end_time": "2022-11-04T20:13:37.563048Z",
     "start_time": "2022-11-04T20:13:37.483151Z"
    }
   },
   "outputs": [],
   "source": [
    "def concat_df_2010_2020(df_list):    \n",
    "    appended_data = []\n",
    "    for i in range(len(df_list)):         \n",
    "        df = df_list[i]    \n",
    "        appended_data.append(df)        \n",
    "    appended_data = pd.concat(appended_data, sort=True)  \n",
    "    appended_data = appended_data.reindex(unknowns + bin_cols + flag, axis=1)\n",
    "    appended_data = appended_data.drop(columns=['unknown4', 'unknown5',\n",
    "                                                'unknown6','unknown7', 'unknown8'])\n",
    "    \n",
    "    return appended_data"
   ]
  },
  {
   "cell_type": "code",
   "execution_count": 129,
   "id": "0de29fb4",
   "metadata": {
    "ExecuteTime": {
     "end_time": "2022-11-04T20:13:39.158273Z",
     "start_time": "2022-11-04T20:13:39.029289Z"
    }
   },
   "outputs": [],
   "source": [
    "df_2010_2020 = concat_df_2010_2020(DFs_2010_2020)"
   ]
  },
  {
   "cell_type": "code",
   "execution_count": 131,
   "id": "69786823",
   "metadata": {
    "ExecuteTime": {
     "end_time": "2022-11-04T20:17:35.618075Z",
     "start_time": "2022-11-04T20:17:35.528809Z"
    }
   },
   "outputs": [
    {
     "data": {
      "text/html": [
       "<div>\n",
       "<style scoped>\n",
       "    .dataframe tbody tr th:only-of-type {\n",
       "        vertical-align: middle;\n",
       "    }\n",
       "\n",
       "    .dataframe tbody tr th {\n",
       "        vertical-align: top;\n",
       "    }\n",
       "\n",
       "    .dataframe thead th {\n",
       "        text-align: right;\n",
       "    }\n",
       "</style>\n",
       "<table border=\"1\" class=\"dataframe\">\n",
       "  <thead>\n",
       "    <tr style=\"text-align: right;\">\n",
       "      <th></th>\n",
       "      <th>UFCPC</th>\n",
       "      <th>CPC3030</th>\n",
       "      <th>N_int</th>\n",
       "      <th>5.012</th>\n",
       "      <th>5.623</th>\n",
       "      <th>6.31</th>\n",
       "      <th>7.079</th>\n",
       "      <th>7.943</th>\n",
       "      <th>8.913</th>\n",
       "      <th>10.0</th>\n",
       "      <th>...</th>\n",
       "      <th>281.838</th>\n",
       "      <th>316.228</th>\n",
       "      <th>354.813</th>\n",
       "      <th>398.107</th>\n",
       "      <th>446.684</th>\n",
       "      <th>501.187</th>\n",
       "      <th>562.341</th>\n",
       "      <th>630.957</th>\n",
       "      <th>707.946</th>\n",
       "      <th>numflag</th>\n",
       "    </tr>\n",
       "    <tr>\n",
       "      <th>DateTime</th>\n",
       "      <th></th>\n",
       "      <th></th>\n",
       "      <th></th>\n",
       "      <th></th>\n",
       "      <th></th>\n",
       "      <th></th>\n",
       "      <th></th>\n",
       "      <th></th>\n",
       "      <th></th>\n",
       "      <th></th>\n",
       "      <th></th>\n",
       "      <th></th>\n",
       "      <th></th>\n",
       "      <th></th>\n",
       "      <th></th>\n",
       "      <th></th>\n",
       "      <th></th>\n",
       "      <th></th>\n",
       "      <th></th>\n",
       "      <th></th>\n",
       "      <th></th>\n",
       "    </tr>\n",
       "  </thead>\n",
       "  <tbody>\n",
       "    <tr>\n",
       "      <th>2010-08-03 00:30:00</th>\n",
       "      <td>0.0</td>\n",
       "      <td>192.74387</td>\n",
       "      <td>243.84122</td>\n",
       "      <td>2.808560e-29</td>\n",
       "      <td>2.806373e-29</td>\n",
       "      <td>2.803910e-29</td>\n",
       "      <td>2.801134e-29</td>\n",
       "      <td>2.798005e-29</td>\n",
       "      <td>2.794476e-29</td>\n",
       "      <td>2.790497e-29</td>\n",
       "      <td>...</td>\n",
       "      <td>41.174992</td>\n",
       "      <td>30.989534</td>\n",
       "      <td>24.94957</td>\n",
       "      <td>12.333647</td>\n",
       "      <td>2.245721</td>\n",
       "      <td>0.025513</td>\n",
       "      <td>2.092485e-29</td>\n",
       "      <td>NaN</td>\n",
       "      <td>NaN</td>\n",
       "      <td>0.0</td>\n",
       "    </tr>\n",
       "    <tr>\n",
       "      <th>2010-08-03 01:00:00</th>\n",
       "      <td>0.0</td>\n",
       "      <td>193.46634</td>\n",
       "      <td>215.13303</td>\n",
       "      <td>2.808381e-29</td>\n",
       "      <td>2.806194e-29</td>\n",
       "      <td>2.803731e-29</td>\n",
       "      <td>2.800955e-29</td>\n",
       "      <td>2.797826e-29</td>\n",
       "      <td>2.794297e-29</td>\n",
       "      <td>2.790318e-29</td>\n",
       "      <td>...</td>\n",
       "      <td>30.370227</td>\n",
       "      <td>16.315628</td>\n",
       "      <td>14.74994</td>\n",
       "      <td>7.853108</td>\n",
       "      <td>1.110854</td>\n",
       "      <td>0.012225</td>\n",
       "      <td>7.289623e-02</td>\n",
       "      <td>NaN</td>\n",
       "      <td>NaN</td>\n",
       "      <td>0.0</td>\n",
       "    </tr>\n",
       "  </tbody>\n",
       "</table>\n",
       "<p>2 rows × 48 columns</p>\n",
       "</div>"
      ],
      "text/plain": [
       "                     UFCPC    CPC3030      N_int         5.012         5.623  \\\n",
       "DateTime                                                                       \n",
       "2010-08-03 00:30:00    0.0  192.74387  243.84122  2.808560e-29  2.806373e-29   \n",
       "2010-08-03 01:00:00    0.0  193.46634  215.13303  2.808381e-29  2.806194e-29   \n",
       "\n",
       "                             6.31         7.079         7.943         8.913  \\\n",
       "DateTime                                                                      \n",
       "2010-08-03 00:30:00  2.803910e-29  2.801134e-29  2.798005e-29  2.794476e-29   \n",
       "2010-08-03 01:00:00  2.803731e-29  2.800955e-29  2.797826e-29  2.794297e-29   \n",
       "\n",
       "                             10.0  ...    281.838    316.228   354.813  \\\n",
       "DateTime                           ...                                   \n",
       "2010-08-03 00:30:00  2.790497e-29  ...  41.174992  30.989534  24.94957   \n",
       "2010-08-03 01:00:00  2.790318e-29  ...  30.370227  16.315628  14.74994   \n",
       "\n",
       "                       398.107   446.684   501.187       562.341  630.957  \\\n",
       "DateTime                                                                    \n",
       "2010-08-03 00:30:00  12.333647  2.245721  0.025513  2.092485e-29      NaN   \n",
       "2010-08-03 01:00:00   7.853108  1.110854  0.012225  7.289623e-02      NaN   \n",
       "\n",
       "                     707.946  numflag  \n",
       "DateTime                               \n",
       "2010-08-03 00:30:00      NaN      0.0  \n",
       "2010-08-03 01:00:00      NaN      0.0  \n",
       "\n",
       "[2 rows x 48 columns]"
      ]
     },
     "execution_count": 131,
     "metadata": {},
     "output_type": "execute_result"
    }
   ],
   "source": [
    "df_2010_2020.head(2)"
   ]
  },
  {
   "cell_type": "code",
   "execution_count": 132,
   "id": "de53777d",
   "metadata": {
    "ExecuteTime": {
     "end_time": "2022-11-04T20:17:39.031073Z",
     "start_time": "2022-11-04T20:17:37.776403Z"
    }
   },
   "outputs": [
    {
     "data": {
      "image/png": "[encoded data removed]",
      "text/plain": [
       "<Figure size 1000x800 with 3 Axes>"
      ]
     },
     "metadata": {},
     "output_type": "display_data"
    }
   ],
   "source": [
    "fig, (ax1, ax2, ax3) = plt.subplots(3, 1, figsize=(10,8))\n",
    "\n",
    "ax1.plot(df_2010_2020.index, df_2010_2020['CPC3030'].values, 'o', label='UF(?)CPC')\n",
    "ax2.plot(df_2010_2020.index, df_2010_2020['N_int'].values, 'o', label='CPC3010')\n",
    "ax3.plot(df_2010_2020.index, df_2010_2020['UFCPC'].values, 'o', label='N_int')\n",
    "\n",
    "for ax in [ax1, ax2, ax3]:\n",
    "    ax.legend(frameon=False)\n",
    "    ax.set_ylim(1,10**4)\n",
    "plt.show()"
   ]
  },
  {
   "cell_type": "code",
   "execution_count": 112,
   "id": "70b5a99b",
   "metadata": {
    "ExecuteTime": {
     "end_time": "2022-11-04T19:56:01.932136Z",
     "start_time": "2022-11-04T19:56:01.847017Z"
    }
   },
   "outputs": [],
   "source": [
    "dict_years_to_df = {\"2010_2020\":df_2010_2020}"
   ]
  },
  {
   "cell_type": "code",
   "execution_count": 133,
   "id": "acf3ced7",
   "metadata": {
    "ExecuteTime": {
     "end_time": "2022-11-04T20:17:43.943744Z",
     "start_time": "2022-11-04T20:17:43.843164Z"
    }
   },
   "outputs": [
    {
     "data": {
      "text/html": [
       "<div>\n",
       "<style scoped>\n",
       "    .dataframe tbody tr th:only-of-type {\n",
       "        vertical-align: middle;\n",
       "    }\n",
       "\n",
       "    .dataframe tbody tr th {\n",
       "        vertical-align: top;\n",
       "    }\n",
       "\n",
       "    .dataframe thead th {\n",
       "        text-align: right;\n",
       "    }\n",
       "</style>\n",
       "<table border=\"1\" class=\"dataframe\">\n",
       "  <thead>\n",
       "    <tr style=\"text-align: right;\">\n",
       "      <th></th>\n",
       "      <th>UFCPC</th>\n",
       "      <th>CPC3030</th>\n",
       "      <th>N_int</th>\n",
       "      <th>5.012</th>\n",
       "      <th>5.623</th>\n",
       "      <th>6.31</th>\n",
       "      <th>7.079</th>\n",
       "      <th>7.943</th>\n",
       "      <th>8.913</th>\n",
       "      <th>10.0</th>\n",
       "      <th>...</th>\n",
       "      <th>281.838</th>\n",
       "      <th>316.228</th>\n",
       "      <th>354.813</th>\n",
       "      <th>398.107</th>\n",
       "      <th>446.684</th>\n",
       "      <th>501.187</th>\n",
       "      <th>562.341</th>\n",
       "      <th>630.957</th>\n",
       "      <th>707.946</th>\n",
       "      <th>numflag</th>\n",
       "    </tr>\n",
       "    <tr>\n",
       "      <th>DateTime</th>\n",
       "      <th></th>\n",
       "      <th></th>\n",
       "      <th></th>\n",
       "      <th></th>\n",
       "      <th></th>\n",
       "      <th></th>\n",
       "      <th></th>\n",
       "      <th></th>\n",
       "      <th></th>\n",
       "      <th></th>\n",
       "      <th></th>\n",
       "      <th></th>\n",
       "      <th></th>\n",
       "      <th></th>\n",
       "      <th></th>\n",
       "      <th></th>\n",
       "      <th></th>\n",
       "      <th></th>\n",
       "      <th></th>\n",
       "      <th></th>\n",
       "      <th></th>\n",
       "    </tr>\n",
       "  </thead>\n",
       "  <tbody>\n",
       "    <tr>\n",
       "      <th>2010-08-03 00:30:00</th>\n",
       "      <td>0.0</td>\n",
       "      <td>192.74387</td>\n",
       "      <td>243.84122</td>\n",
       "      <td>2.808560e-29</td>\n",
       "      <td>2.806373e-29</td>\n",
       "      <td>2.803910e-29</td>\n",
       "      <td>2.801134e-29</td>\n",
       "      <td>2.798005e-29</td>\n",
       "      <td>2.794476e-29</td>\n",
       "      <td>2.790497e-29</td>\n",
       "      <td>...</td>\n",
       "      <td>41.174992</td>\n",
       "      <td>30.989534</td>\n",
       "      <td>24.94957</td>\n",
       "      <td>12.333647</td>\n",
       "      <td>2.245721</td>\n",
       "      <td>0.025513</td>\n",
       "      <td>2.092485e-29</td>\n",
       "      <td>NaN</td>\n",
       "      <td>NaN</td>\n",
       "      <td>0.0</td>\n",
       "    </tr>\n",
       "    <tr>\n",
       "      <th>2010-08-03 01:00:00</th>\n",
       "      <td>0.0</td>\n",
       "      <td>193.46634</td>\n",
       "      <td>215.13303</td>\n",
       "      <td>2.808381e-29</td>\n",
       "      <td>2.806194e-29</td>\n",
       "      <td>2.803731e-29</td>\n",
       "      <td>2.800955e-29</td>\n",
       "      <td>2.797826e-29</td>\n",
       "      <td>2.794297e-29</td>\n",
       "      <td>2.790318e-29</td>\n",
       "      <td>...</td>\n",
       "      <td>30.370227</td>\n",
       "      <td>16.315628</td>\n",
       "      <td>14.74994</td>\n",
       "      <td>7.853108</td>\n",
       "      <td>1.110854</td>\n",
       "      <td>0.012225</td>\n",
       "      <td>7.289623e-02</td>\n",
       "      <td>NaN</td>\n",
       "      <td>NaN</td>\n",
       "      <td>0.0</td>\n",
       "    </tr>\n",
       "  </tbody>\n",
       "</table>\n",
       "<p>2 rows × 48 columns</p>\n",
       "</div>"
      ],
      "text/plain": [
       "                     UFCPC    CPC3030      N_int         5.012         5.623  \\\n",
       "DateTime                                                                       \n",
       "2010-08-03 00:30:00    0.0  192.74387  243.84122  2.808560e-29  2.806373e-29   \n",
       "2010-08-03 01:00:00    0.0  193.46634  215.13303  2.808381e-29  2.806194e-29   \n",
       "\n",
       "                             6.31         7.079         7.943         8.913  \\\n",
       "DateTime                                                                      \n",
       "2010-08-03 00:30:00  2.803910e-29  2.801134e-29  2.798005e-29  2.794476e-29   \n",
       "2010-08-03 01:00:00  2.803731e-29  2.800955e-29  2.797826e-29  2.794297e-29   \n",
       "\n",
       "                             10.0  ...    281.838    316.228   354.813  \\\n",
       "DateTime                           ...                                   \n",
       "2010-08-03 00:30:00  2.790497e-29  ...  41.174992  30.989534  24.94957   \n",
       "2010-08-03 01:00:00  2.790318e-29  ...  30.370227  16.315628  14.74994   \n",
       "\n",
       "                       398.107   446.684   501.187       562.341  630.957  \\\n",
       "DateTime                                                                    \n",
       "2010-08-03 00:30:00  12.333647  2.245721  0.025513  2.092485e-29      NaN   \n",
       "2010-08-03 01:00:00   7.853108  1.110854  0.012225  7.289623e-02      NaN   \n",
       "\n",
       "                     707.946  numflag  \n",
       "DateTime                               \n",
       "2010-08-03 00:30:00      NaN      0.0  \n",
       "2010-08-03 01:00:00      NaN      0.0  \n",
       "\n",
       "[2 rows x 48 columns]"
      ]
     },
     "execution_count": 133,
     "metadata": {},
     "output_type": "execute_result"
    }
   ],
   "source": [
    "df_2010_2020.head(2)"
   ]
  },
  {
   "cell_type": "code",
   "execution_count": 137,
   "id": "619452da",
   "metadata": {
    "ExecuteTime": {
     "end_time": "2022-11-04T20:18:13.154950Z",
     "start_time": "2022-11-04T20:18:13.068005Z"
    }
   },
   "outputs": [
    {
     "data": {
      "text/plain": [
       "Index(['UFCPC', 'CPC3030', 'N_int', '5.012', '5.623', '6.31', '7.079', '7.943',\n",
       "       '8.913', '10.0', '11.22', '12.589', '14.125', '15.849', '17.783',\n",
       "       '19.953', '22.387', '25.119', '28.184', '31.623', '35.481', '39.811',\n",
       "       '44.668', '50.119', '56.234', '63.096', '70.795', '79.433', '89.125',\n",
       "       '100.0', '112.202', '125.893', '141.254', '158.489', '177.828',\n",
       "       '199.526', '223.872', '251.189', '281.838', '316.228', '354.813',\n",
       "       '398.107', '446.684', '501.187', '562.341', '630.957', '707.946',\n",
       "       'numflag'],\n",
       "      dtype='object')"
      ]
     },
     "execution_count": 137,
     "metadata": {},
     "output_type": "execute_result"
    }
   ],
   "source": [
    "df_2010_2020.columns"
   ]
  },
  {
   "cell_type": "markdown",
   "id": "ab2e7e16",
   "metadata": {},
   "source": [
    "# Clustering"
   ]
  },
  {
   "cell_type": "code",
   "execution_count": 138,
   "id": "83d39cf3",
   "metadata": {
    "ExecuteTime": {
     "end_time": "2022-11-05T10:08:11.678126Z",
     "start_time": "2022-11-05T10:08:11.569419Z"
    }
   },
   "outputs": [],
   "source": [
    "from sklearn import metrics\n",
    "from sklearn.metrics.pairwise import pairwise_distances\n",
    "from sklearn.cluster import KMeans"
   ]
  },
  {
   "cell_type": "markdown",
   "id": "21a04fe7",
   "metadata": {},
   "source": [
    "Have to normalise the size distributions first, by the maximum concentration so it goes from 0 to 1 for all size distributions"
   ]
  },
  {
   "cell_type": "code",
   "execution_count": 139,
   "id": "536f7067",
   "metadata": {
    "ExecuteTime": {
     "end_time": "2022-11-05T10:08:14.634185Z",
     "start_time": "2022-11-05T10:08:14.555102Z"
    }
   },
   "outputs": [],
   "source": [
    "def create_normalised_df(df, start_size_bin_col='10', end_size_bin_col='89.125'):\n",
    "    n_vars = ['norm'+str(df.loc[:, start_size_bin_col:end_size_bin_col].columns.tolist()[i]) for i in range(0, df.loc[:, start_size_bin_col:end_size_bin_col].shape[1])]\n",
    "    print(n_vars)\n",
    "    #divide by maximum\n",
    "    df[n_vars] = df.loc[:, start_size_bin_col:end_size_bin_col].div(df.loc[:, start_size_bin_col:end_size_bin_col].max(axis=1), axis=0)\n",
    "    \n",
    "    df = df.loc[df.loc[:,start_size_bin_col:end_size_bin_col].dropna().index]\n",
    "    \n",
    "    Datetime_index = df.index    \n",
    "    df.reset_index(drop=True, inplace=True)\n",
    "    print(\"Size of df after removing np.nan: \"+str(len(df)))        \n",
    "    start_size_normbin_col = 'norm'+str(start_size_bin_col)\n",
    "    end_size_normbin_col = 'norm'+str(end_size_bin_col)    \n",
    "    \n",
    "    df_norm = df.loc[:, start_size_normbin_col:end_size_normbin_col].copy()\n",
    "    df_norm.index = Datetime_index\n",
    "    df.index = Datetime_index\n",
    "    print(\"Shape of df_norm: \"+str(df_norm.shape))\n",
    "    print(\"Shape of df: \"+str(df.shape))\n",
    "    return df, df_norm"
   ]
  },
  {
   "cell_type": "code",
   "execution_count": 140,
   "id": "061092f2",
   "metadata": {
    "ExecuteTime": {
     "end_time": "2022-11-05T10:08:17.683555Z",
     "start_time": "2022-11-05T10:08:17.597293Z"
    }
   },
   "outputs": [
    {
     "data": {
      "text/html": [
       "<div>\n",
       "<style scoped>\n",
       "    .dataframe tbody tr th:only-of-type {\n",
       "        vertical-align: middle;\n",
       "    }\n",
       "\n",
       "    .dataframe tbody tr th {\n",
       "        vertical-align: top;\n",
       "    }\n",
       "\n",
       "    .dataframe thead th {\n",
       "        text-align: right;\n",
       "    }\n",
       "</style>\n",
       "<table border=\"1\" class=\"dataframe\">\n",
       "  <thead>\n",
       "    <tr style=\"text-align: right;\">\n",
       "      <th></th>\n",
       "      <th>UFCPC</th>\n",
       "      <th>CPC3030</th>\n",
       "      <th>N_int</th>\n",
       "      <th>5.012</th>\n",
       "      <th>5.623</th>\n",
       "      <th>6.31</th>\n",
       "      <th>7.079</th>\n",
       "      <th>7.943</th>\n",
       "      <th>8.913</th>\n",
       "      <th>10.0</th>\n",
       "      <th>...</th>\n",
       "      <th>281.838</th>\n",
       "      <th>316.228</th>\n",
       "      <th>354.813</th>\n",
       "      <th>398.107</th>\n",
       "      <th>446.684</th>\n",
       "      <th>501.187</th>\n",
       "      <th>562.341</th>\n",
       "      <th>630.957</th>\n",
       "      <th>707.946</th>\n",
       "      <th>numflag</th>\n",
       "    </tr>\n",
       "    <tr>\n",
       "      <th>DateTime</th>\n",
       "      <th></th>\n",
       "      <th></th>\n",
       "      <th></th>\n",
       "      <th></th>\n",
       "      <th></th>\n",
       "      <th></th>\n",
       "      <th></th>\n",
       "      <th></th>\n",
       "      <th></th>\n",
       "      <th></th>\n",
       "      <th></th>\n",
       "      <th></th>\n",
       "      <th></th>\n",
       "      <th></th>\n",
       "      <th></th>\n",
       "      <th></th>\n",
       "      <th></th>\n",
       "      <th></th>\n",
       "      <th></th>\n",
       "      <th></th>\n",
       "      <th></th>\n",
       "    </tr>\n",
       "  </thead>\n",
       "  <tbody>\n",
       "    <tr>\n",
       "      <th>2010-08-03 00:30:00</th>\n",
       "      <td>0.0</td>\n",
       "      <td>192.74387</td>\n",
       "      <td>243.84122</td>\n",
       "      <td>2.808560e-29</td>\n",
       "      <td>2.806373e-29</td>\n",
       "      <td>2.803910e-29</td>\n",
       "      <td>2.801134e-29</td>\n",
       "      <td>2.798005e-29</td>\n",
       "      <td>2.794476e-29</td>\n",
       "      <td>2.790497e-29</td>\n",
       "      <td>...</td>\n",
       "      <td>41.174992</td>\n",
       "      <td>30.989534</td>\n",
       "      <td>24.94957</td>\n",
       "      <td>12.333647</td>\n",
       "      <td>2.245721</td>\n",
       "      <td>0.025513</td>\n",
       "      <td>2.092485e-29</td>\n",
       "      <td>NaN</td>\n",
       "      <td>NaN</td>\n",
       "      <td>0.0</td>\n",
       "    </tr>\n",
       "    <tr>\n",
       "      <th>2010-08-03 01:00:00</th>\n",
       "      <td>0.0</td>\n",
       "      <td>193.46634</td>\n",
       "      <td>215.13303</td>\n",
       "      <td>2.808381e-29</td>\n",
       "      <td>2.806194e-29</td>\n",
       "      <td>2.803731e-29</td>\n",
       "      <td>2.800955e-29</td>\n",
       "      <td>2.797826e-29</td>\n",
       "      <td>2.794297e-29</td>\n",
       "      <td>2.790318e-29</td>\n",
       "      <td>...</td>\n",
       "      <td>30.370227</td>\n",
       "      <td>16.315628</td>\n",
       "      <td>14.74994</td>\n",
       "      <td>7.853108</td>\n",
       "      <td>1.110854</td>\n",
       "      <td>0.012225</td>\n",
       "      <td>7.289623e-02</td>\n",
       "      <td>NaN</td>\n",
       "      <td>NaN</td>\n",
       "      <td>0.0</td>\n",
       "    </tr>\n",
       "  </tbody>\n",
       "</table>\n",
       "<p>2 rows × 48 columns</p>\n",
       "</div>"
      ],
      "text/plain": [
       "                     UFCPC    CPC3030      N_int         5.012         5.623  \\\n",
       "DateTime                                                                       \n",
       "2010-08-03 00:30:00    0.0  192.74387  243.84122  2.808560e-29  2.806373e-29   \n",
       "2010-08-03 01:00:00    0.0  193.46634  215.13303  2.808381e-29  2.806194e-29   \n",
       "\n",
       "                             6.31         7.079         7.943         8.913  \\\n",
       "DateTime                                                                      \n",
       "2010-08-03 00:30:00  2.803910e-29  2.801134e-29  2.798005e-29  2.794476e-29   \n",
       "2010-08-03 01:00:00  2.803731e-29  2.800955e-29  2.797826e-29  2.794297e-29   \n",
       "\n",
       "                             10.0  ...    281.838    316.228   354.813  \\\n",
       "DateTime                           ...                                   \n",
       "2010-08-03 00:30:00  2.790497e-29  ...  41.174992  30.989534  24.94957   \n",
       "2010-08-03 01:00:00  2.790318e-29  ...  30.370227  16.315628  14.74994   \n",
       "\n",
       "                       398.107   446.684   501.187       562.341  630.957  \\\n",
       "DateTime                                                                    \n",
       "2010-08-03 00:30:00  12.333647  2.245721  0.025513  2.092485e-29      NaN   \n",
       "2010-08-03 01:00:00   7.853108  1.110854  0.012225  7.289623e-02      NaN   \n",
       "\n",
       "                     707.946  numflag  \n",
       "DateTime                               \n",
       "2010-08-03 00:30:00      NaN      0.0  \n",
       "2010-08-03 01:00:00      NaN      0.0  \n",
       "\n",
       "[2 rows x 48 columns]"
      ]
     },
     "execution_count": 140,
     "metadata": {},
     "output_type": "execute_result"
    }
   ],
   "source": [
    "df_2010_2020.head(2)"
   ]
  },
  {
   "cell_type": "code",
   "execution_count": 141,
   "id": "c395a56e",
   "metadata": {
    "ExecuteTime": {
     "end_time": "2022-11-05T10:08:21.773716Z",
     "start_time": "2022-11-05T10:08:21.693802Z"
    }
   },
   "outputs": [
    {
     "data": {
      "text/plain": [
       "Index(['UFCPC', 'CPC3030', 'N_int', '5.012', '5.623', '6.31', '7.079', '7.943',\n",
       "       '8.913', '10.0', '11.22', '12.589', '14.125', '15.849', '17.783',\n",
       "       '19.953', '22.387', '25.119', '28.184', '31.623', '35.481', '39.811',\n",
       "       '44.668', '50.119', '56.234', '63.096', '70.795', '79.433', '89.125',\n",
       "       '100.0', '112.202', '125.893', '141.254', '158.489', '177.828',\n",
       "       '199.526', '223.872', '251.189', '281.838', '316.228', '354.813',\n",
       "       '398.107', '446.684', '501.187', '562.341', '630.957', '707.946',\n",
       "       'numflag'],\n",
       "      dtype='object')"
      ]
     },
     "execution_count": 141,
     "metadata": {},
     "output_type": "execute_result"
    }
   ],
   "source": [
    "df_2010_2020.columns"
   ]
  },
  {
   "cell_type": "code",
   "execution_count": 146,
   "id": "30827da6",
   "metadata": {
    "ExecuteTime": {
     "end_time": "2022-11-05T10:11:54.369879Z",
     "start_time": "2022-11-05T10:11:54.282737Z"
    }
   },
   "outputs": [
    {
     "data": {
      "text/plain": [
       "'5.012'"
      ]
     },
     "execution_count": 146,
     "metadata": {},
     "output_type": "execute_result"
    }
   ],
   "source": [
    "bin_cols[0]"
   ]
  },
  {
   "cell_type": "code",
   "execution_count": 147,
   "id": "d78d80c3",
   "metadata": {
    "ExecuteTime": {
     "end_time": "2022-11-05T10:12:06.253211Z",
     "start_time": "2022-11-05T10:12:06.033785Z"
    }
   },
   "outputs": [
    {
     "name": "stdout",
     "output_type": "stream",
     "text": [
      "Size of df after removing np.nan: 64666\n",
      "Shape of df_norm: (64666, 44)\n",
      "Shape of df: (64666, 92)\n"
     ]
    }
   ],
   "source": [
    "df, df_norm = create_normalised_df(df_2010_2020, start_size_bin_col=bin_cols[0], end_size_bin_col=bin_cols[-1])"
   ]
  },
  {
   "cell_type": "code",
   "execution_count": 148,
   "id": "b556cf20",
   "metadata": {
    "ExecuteTime": {
     "end_time": "2022-11-05T10:14:49.817215Z",
     "start_time": "2022-11-05T10:14:49.723137Z"
    }
   },
   "outputs": [
    {
     "data": {
      "text/html": [
       "<div>\n",
       "<style scoped>\n",
       "    .dataframe tbody tr th:only-of-type {\n",
       "        vertical-align: middle;\n",
       "    }\n",
       "\n",
       "    .dataframe tbody tr th {\n",
       "        vertical-align: top;\n",
       "    }\n",
       "\n",
       "    .dataframe thead th {\n",
       "        text-align: right;\n",
       "    }\n",
       "</style>\n",
       "<table border=\"1\" class=\"dataframe\">\n",
       "  <thead>\n",
       "    <tr style=\"text-align: right;\">\n",
       "      <th></th>\n",
       "      <th>UFCPC</th>\n",
       "      <th>CPC3030</th>\n",
       "      <th>N_int</th>\n",
       "      <th>5.012</th>\n",
       "      <th>5.623</th>\n",
       "      <th>6.31</th>\n",
       "      <th>7.079</th>\n",
       "      <th>7.943</th>\n",
       "      <th>8.913</th>\n",
       "      <th>10.0</th>\n",
       "      <th>...</th>\n",
       "      <th>norm251.189</th>\n",
       "      <th>norm281.838</th>\n",
       "      <th>norm316.228</th>\n",
       "      <th>norm354.813</th>\n",
       "      <th>norm398.107</th>\n",
       "      <th>norm446.684</th>\n",
       "      <th>norm501.187</th>\n",
       "      <th>norm562.341</th>\n",
       "      <th>norm630.957</th>\n",
       "      <th>norm707.946</th>\n",
       "    </tr>\n",
       "    <tr>\n",
       "      <th>DateTime</th>\n",
       "      <th></th>\n",
       "      <th></th>\n",
       "      <th></th>\n",
       "      <th></th>\n",
       "      <th></th>\n",
       "      <th></th>\n",
       "      <th></th>\n",
       "      <th></th>\n",
       "      <th></th>\n",
       "      <th></th>\n",
       "      <th></th>\n",
       "      <th></th>\n",
       "      <th></th>\n",
       "      <th></th>\n",
       "      <th></th>\n",
       "      <th></th>\n",
       "      <th></th>\n",
       "      <th></th>\n",
       "      <th></th>\n",
       "      <th></th>\n",
       "      <th></th>\n",
       "    </tr>\n",
       "  </thead>\n",
       "  <tbody>\n",
       "    <tr>\n",
       "      <th>2010-11-10 14:00:00</th>\n",
       "      <td>0.0</td>\n",
       "      <td>104.23909</td>\n",
       "      <td>92.359702</td>\n",
       "      <td>2.544511e-29</td>\n",
       "      <td>2.542450e-29</td>\n",
       "      <td>2.540128e-29</td>\n",
       "      <td>2.537511e-29</td>\n",
       "      <td>2.534562e-29</td>\n",
       "      <td>2.531234e-29</td>\n",
       "      <td>2.527482e-29</td>\n",
       "      <td>...</td>\n",
       "      <td>1.000000</td>\n",
       "      <td>0.991352</td>\n",
       "      <td>0.644837</td>\n",
       "      <td>0.418756</td>\n",
       "      <td>0.221130</td>\n",
       "      <td>0.073787</td>\n",
       "      <td>0.014255</td>\n",
       "      <td>0.008561</td>\n",
       "      <td>0.011367</td>\n",
       "      <td>0.012960</td>\n",
       "    </tr>\n",
       "    <tr>\n",
       "      <th>2010-11-10 14:30:00</th>\n",
       "      <td>0.0</td>\n",
       "      <td>105.68348</td>\n",
       "      <td>103.202890</td>\n",
       "      <td>2.548815e-29</td>\n",
       "      <td>2.546754e-29</td>\n",
       "      <td>2.544324e-29</td>\n",
       "      <td>8.814126e-01</td>\n",
       "      <td>3.262825e+01</td>\n",
       "      <td>1.155707e+01</td>\n",
       "      <td>2.530973e-29</td>\n",
       "      <td>...</td>\n",
       "      <td>0.987036</td>\n",
       "      <td>1.000000</td>\n",
       "      <td>0.916782</td>\n",
       "      <td>0.499011</td>\n",
       "      <td>0.196742</td>\n",
       "      <td>0.069014</td>\n",
       "      <td>0.026144</td>\n",
       "      <td>0.012921</td>\n",
       "      <td>0.006985</td>\n",
       "      <td>0.001986</td>\n",
       "    </tr>\n",
       "  </tbody>\n",
       "</table>\n",
       "<p>2 rows × 92 columns</p>\n",
       "</div>"
      ],
      "text/plain": [
       "                     UFCPC    CPC3030       N_int         5.012         5.623  \\\n",
       "DateTime                                                                        \n",
       "2010-11-10 14:00:00    0.0  104.23909   92.359702  2.544511e-29  2.542450e-29   \n",
       "2010-11-10 14:30:00    0.0  105.68348  103.202890  2.548815e-29  2.546754e-29   \n",
       "\n",
       "                             6.31         7.079         7.943         8.913  \\\n",
       "DateTime                                                                      \n",
       "2010-11-10 14:00:00  2.540128e-29  2.537511e-29  2.534562e-29  2.531234e-29   \n",
       "2010-11-10 14:30:00  2.544324e-29  8.814126e-01  3.262825e+01  1.155707e+01   \n",
       "\n",
       "                             10.0  ...  norm251.189  norm281.838  norm316.228  \\\n",
       "DateTime                           ...                                          \n",
       "2010-11-10 14:00:00  2.527482e-29  ...     1.000000     0.991352     0.644837   \n",
       "2010-11-10 14:30:00  2.530973e-29  ...     0.987036     1.000000     0.916782   \n",
       "\n",
       "                     norm354.813  norm398.107  norm446.684  norm501.187  \\\n",
       "DateTime                                                                  \n",
       "2010-11-10 14:00:00     0.418756     0.221130     0.073787     0.014255   \n",
       "2010-11-10 14:30:00     0.499011     0.196742     0.069014     0.026144   \n",
       "\n",
       "                     norm562.341  norm630.957  norm707.946  \n",
       "DateTime                                                    \n",
       "2010-11-10 14:00:00     0.008561     0.011367     0.012960  \n",
       "2010-11-10 14:30:00     0.012921     0.006985     0.001986  \n",
       "\n",
       "[2 rows x 92 columns]"
      ]
     },
     "execution_count": 148,
     "metadata": {},
     "output_type": "execute_result"
    }
   ],
   "source": [
    "df.head(2)"
   ]
  },
  {
   "cell_type": "code",
   "execution_count": 149,
   "id": "74d5768c",
   "metadata": {
    "ExecuteTime": {
     "end_time": "2022-11-05T10:15:01.944638Z",
     "start_time": "2022-11-05T10:15:01.841926Z"
    }
   },
   "outputs": [
    {
     "data": {
      "text/html": [
       "<div>\n",
       "<style scoped>\n",
       "    .dataframe tbody tr th:only-of-type {\n",
       "        vertical-align: middle;\n",
       "    }\n",
       "\n",
       "    .dataframe tbody tr th {\n",
       "        vertical-align: top;\n",
       "    }\n",
       "\n",
       "    .dataframe thead th {\n",
       "        text-align: right;\n",
       "    }\n",
       "</style>\n",
       "<table border=\"1\" class=\"dataframe\">\n",
       "  <thead>\n",
       "    <tr style=\"text-align: right;\">\n",
       "      <th></th>\n",
       "      <th>norm5.012</th>\n",
       "      <th>norm5.623</th>\n",
       "      <th>norm6.31</th>\n",
       "      <th>norm7.079</th>\n",
       "      <th>norm7.943</th>\n",
       "      <th>norm8.913</th>\n",
       "      <th>norm10.0</th>\n",
       "      <th>norm11.22</th>\n",
       "      <th>norm12.589</th>\n",
       "      <th>norm14.125</th>\n",
       "      <th>...</th>\n",
       "      <th>norm251.189</th>\n",
       "      <th>norm281.838</th>\n",
       "      <th>norm316.228</th>\n",
       "      <th>norm354.813</th>\n",
       "      <th>norm398.107</th>\n",
       "      <th>norm446.684</th>\n",
       "      <th>norm501.187</th>\n",
       "      <th>norm562.341</th>\n",
       "      <th>norm630.957</th>\n",
       "      <th>norm707.946</th>\n",
       "    </tr>\n",
       "    <tr>\n",
       "      <th>DateTime</th>\n",
       "      <th></th>\n",
       "      <th></th>\n",
       "      <th></th>\n",
       "      <th></th>\n",
       "      <th></th>\n",
       "      <th></th>\n",
       "      <th></th>\n",
       "      <th></th>\n",
       "      <th></th>\n",
       "      <th></th>\n",
       "      <th></th>\n",
       "      <th></th>\n",
       "      <th></th>\n",
       "      <th></th>\n",
       "      <th></th>\n",
       "      <th></th>\n",
       "      <th></th>\n",
       "      <th></th>\n",
       "      <th></th>\n",
       "      <th></th>\n",
       "      <th></th>\n",
       "    </tr>\n",
       "  </thead>\n",
       "  <tbody>\n",
       "    <tr>\n",
       "      <th>2010-11-10 14:00:00</th>\n",
       "      <td>9.035668e-32</td>\n",
       "      <td>9.028350e-32</td>\n",
       "      <td>9.020105e-32</td>\n",
       "      <td>9.010813e-32</td>\n",
       "      <td>9.000338e-32</td>\n",
       "      <td>8.988523e-32</td>\n",
       "      <td>8.975198e-32</td>\n",
       "      <td>8.960157e-32</td>\n",
       "      <td>8.943178e-32</td>\n",
       "      <td>8.923997e-32</td>\n",
       "      <td>...</td>\n",
       "      <td>1.000000</td>\n",
       "      <td>0.991352</td>\n",
       "      <td>0.644837</td>\n",
       "      <td>0.418756</td>\n",
       "      <td>0.221130</td>\n",
       "      <td>0.073787</td>\n",
       "      <td>0.014255</td>\n",
       "      <td>0.008561</td>\n",
       "      <td>0.011367</td>\n",
       "      <td>0.012960</td>\n",
       "    </tr>\n",
       "    <tr>\n",
       "      <th>2010-11-10 14:30:00</th>\n",
       "      <td>8.547977e-32</td>\n",
       "      <td>8.541067e-32</td>\n",
       "      <td>8.532916e-32</td>\n",
       "      <td>2.956000e-03</td>\n",
       "      <td>1.094256e-01</td>\n",
       "      <td>3.875901e-02</td>\n",
       "      <td>8.488142e-32</td>\n",
       "      <td>8.476577e-32</td>\n",
       "      <td>8.460657e-32</td>\n",
       "      <td>8.439621e-32</td>\n",
       "      <td>...</td>\n",
       "      <td>0.987036</td>\n",
       "      <td>1.000000</td>\n",
       "      <td>0.916782</td>\n",
       "      <td>0.499011</td>\n",
       "      <td>0.196742</td>\n",
       "      <td>0.069014</td>\n",
       "      <td>0.026144</td>\n",
       "      <td>0.012921</td>\n",
       "      <td>0.006985</td>\n",
       "      <td>0.001986</td>\n",
       "    </tr>\n",
       "  </tbody>\n",
       "</table>\n",
       "<p>2 rows × 44 columns</p>\n",
       "</div>"
      ],
      "text/plain": [
       "                        norm5.012     norm5.623      norm6.31     norm7.079  \\\n",
       "DateTime                                                                      \n",
       "2010-11-10 14:00:00  9.035668e-32  9.028350e-32  9.020105e-32  9.010813e-32   \n",
       "2010-11-10 14:30:00  8.547977e-32  8.541067e-32  8.532916e-32  2.956000e-03   \n",
       "\n",
       "                        norm7.943     norm8.913      norm10.0     norm11.22  \\\n",
       "DateTime                                                                      \n",
       "2010-11-10 14:00:00  9.000338e-32  8.988523e-32  8.975198e-32  8.960157e-32   \n",
       "2010-11-10 14:30:00  1.094256e-01  3.875901e-02  8.488142e-32  8.476577e-32   \n",
       "\n",
       "                       norm12.589    norm14.125  ...  norm251.189  \\\n",
       "DateTime                                         ...                \n",
       "2010-11-10 14:00:00  8.943178e-32  8.923997e-32  ...     1.000000   \n",
       "2010-11-10 14:30:00  8.460657e-32  8.439621e-32  ...     0.987036   \n",
       "\n",
       "                     norm281.838  norm316.228  norm354.813  norm398.107  \\\n",
       "DateTime                                                                  \n",
       "2010-11-10 14:00:00     0.991352     0.644837     0.418756     0.221130   \n",
       "2010-11-10 14:30:00     1.000000     0.916782     0.499011     0.196742   \n",
       "\n",
       "                     norm446.684  norm501.187  norm562.341  norm630.957  \\\n",
       "DateTime                                                                  \n",
       "2010-11-10 14:00:00     0.073787     0.014255     0.008561     0.011367   \n",
       "2010-11-10 14:30:00     0.069014     0.026144     0.012921     0.006985   \n",
       "\n",
       "                     norm707.946  \n",
       "DateTime                          \n",
       "2010-11-10 14:00:00     0.012960  \n",
       "2010-11-10 14:30:00     0.001986  \n",
       "\n",
       "[2 rows x 44 columns]"
      ]
     },
     "execution_count": 149,
     "metadata": {},
     "output_type": "execute_result"
    }
   ],
   "source": [
    "df_norm.head(2)"
   ]
  },
  {
   "cell_type": "code",
   "execution_count": 152,
   "id": "570e1ab0",
   "metadata": {
    "ExecuteTime": {
     "end_time": "2022-11-05T10:17:29.556516Z",
     "start_time": "2022-11-05T10:17:29.472167Z"
    }
   },
   "outputs": [
    {
     "data": {
      "text/plain": [
       "array([9.03566838e-32, 9.02835004e-32, 9.02010487e-32, 9.01081321e-32,\n",
       "       9.00033763e-32, 8.98852331e-32, 8.97519838e-32, 8.96015651e-32,\n",
       "       8.94317755e-32, 8.92399659e-32, 8.90233736e-32, 8.87786464e-32,\n",
       "       8.84496173e-32, 3.86472826e-03, 4.80963354e-02, 4.19841376e-02,\n",
       "       4.15074704e-02, 2.14958003e-02, 1.75603068e-02, 1.60147060e-02,\n",
       "       2.63033824e-02, 6.29754412e-03, 7.75310043e-32, 5.63156015e-05,\n",
       "       6.27926086e-03, 2.61401665e-02, 6.70349513e-02, 1.21106446e-01,\n",
       "       2.07360436e-01, 3.26097558e-01, 4.58939073e-01, 4.57982280e-01,\n",
       "       4.97126425e-01, 7.71213702e-01, 1.00000000e+00, 9.91351967e-01,\n",
       "       6.44836829e-01, 4.18756320e-01, 2.21130046e-01, 7.37868518e-02,\n",
       "       1.42552493e-02, 8.56091023e-03, 1.13670142e-02, 1.29598173e-02])"
      ]
     },
     "execution_count": 152,
     "metadata": {},
     "output_type": "execute_result"
    }
   ],
   "source": [
    "df_norm.iloc[0,:].values"
   ]
  },
  {
   "cell_type": "code",
   "execution_count": 162,
   "id": "b81828a4",
   "metadata": {
    "ExecuteTime": {
     "end_time": "2022-11-05T10:20:04.792077Z",
     "start_time": "2022-11-05T10:20:04.635211Z"
    }
   },
   "outputs": [
    {
     "data": {
      "image/png": "[encoded data removed]",
      "text/plain": [
       "<Figure size 600x200 with 1 Axes>"
      ]
     },
     "metadata": {},
     "output_type": "display_data"
    }
   ],
   "source": [
    "fig, ax = plt.subplots(figsize=(6,2))\n",
    "ax.plot(bin_cols, df_norm.iloc[0,:].values, 'o-')\n",
    "ax.set_xticks(bin_cols[::5])\n",
    "plt.show()"
   ]
  },
  {
   "cell_type": "markdown",
   "id": "f86988c9",
   "metadata": {},
   "source": [
    "For more information https://scikit-learn.org/stable/modules/generated/sklearn.cluster.KMeans.html"
   ]
  },
  {
   "cell_type": "code",
   "execution_count": 175,
   "id": "542f0d9d",
   "metadata": {
    "ExecuteTime": {
     "end_time": "2022-11-05T10:58:28.691226Z",
     "start_time": "2022-11-05T10:58:28.604229Z"
    }
   },
   "outputs": [],
   "source": [
    "def perform_clustering(df_normarlised, n_clusters):\n",
    "    kmeans = KMeans(init=\"k-means++\", n_clusters=n_clusters).fit(df_normarlised) #Compute k-means clustering.\n",
    "    labels = kmeans.labels_\n",
    "    centres = kmeans.cluster_centers_\n",
    "    df_normarlised['clusters'] = kmeans.predict(df_normarlised) #Predict the closest cluster each sample in X belongs to.\n",
    "    return df_normarlised"
   ]
  },
  {
   "cell_type": "code",
   "execution_count": 176,
   "id": "1fcef5b1",
   "metadata": {
    "ExecuteTime": {
     "end_time": "2022-11-05T10:58:33.126152Z",
     "start_time": "2022-11-05T10:58:32.130980Z"
    }
   },
   "outputs": [],
   "source": [
    "df_norm_clustered = perform_clustering(df_norm, n_clusters=5)"
   ]
  },
  {
   "cell_type": "code",
   "execution_count": 174,
   "id": "935bafe2",
   "metadata": {
    "ExecuteTime": {
     "end_time": "2022-11-05T10:25:31.591788Z",
     "start_time": "2022-11-05T10:25:31.497481Z"
    }
   },
   "outputs": [
    {
     "data": {
      "text/plain": [
       "array([3, 3, 3, ..., 1, 1, 1])"
      ]
     },
     "execution_count": 174,
     "metadata": {},
     "output_type": "execute_result"
    }
   ],
   "source": [
    "df_norm_clustered['clusters'].values"
   ]
  },
  {
   "cell_type": "code",
   "execution_count": 177,
   "id": "3fa3735d",
   "metadata": {
    "ExecuteTime": {
     "end_time": "2022-11-05T10:58:46.205331Z",
     "start_time": "2022-11-05T10:58:46.099596Z"
    }
   },
   "outputs": [
    {
     "data": {
      "text/html": [
       "<div>\n",
       "<style scoped>\n",
       "    .dataframe tbody tr th:only-of-type {\n",
       "        vertical-align: middle;\n",
       "    }\n",
       "\n",
       "    .dataframe tbody tr th {\n",
       "        vertical-align: top;\n",
       "    }\n",
       "\n",
       "    .dataframe thead th {\n",
       "        text-align: right;\n",
       "    }\n",
       "</style>\n",
       "<table border=\"1\" class=\"dataframe\">\n",
       "  <thead>\n",
       "    <tr style=\"text-align: right;\">\n",
       "      <th></th>\n",
       "      <th>norm5.012</th>\n",
       "      <th>norm5.623</th>\n",
       "      <th>norm6.31</th>\n",
       "      <th>norm7.079</th>\n",
       "      <th>norm7.943</th>\n",
       "      <th>norm8.913</th>\n",
       "      <th>norm10.0</th>\n",
       "      <th>norm11.22</th>\n",
       "      <th>norm12.589</th>\n",
       "      <th>norm14.125</th>\n",
       "      <th>...</th>\n",
       "      <th>norm281.838</th>\n",
       "      <th>norm316.228</th>\n",
       "      <th>norm354.813</th>\n",
       "      <th>norm398.107</th>\n",
       "      <th>norm446.684</th>\n",
       "      <th>norm501.187</th>\n",
       "      <th>norm562.341</th>\n",
       "      <th>norm630.957</th>\n",
       "      <th>norm707.946</th>\n",
       "      <th>clusters</th>\n",
       "    </tr>\n",
       "    <tr>\n",
       "      <th>DateTime</th>\n",
       "      <th></th>\n",
       "      <th></th>\n",
       "      <th></th>\n",
       "      <th></th>\n",
       "      <th></th>\n",
       "      <th></th>\n",
       "      <th></th>\n",
       "      <th></th>\n",
       "      <th></th>\n",
       "      <th></th>\n",
       "      <th></th>\n",
       "      <th></th>\n",
       "      <th></th>\n",
       "      <th></th>\n",
       "      <th></th>\n",
       "      <th></th>\n",
       "      <th></th>\n",
       "      <th></th>\n",
       "      <th></th>\n",
       "      <th></th>\n",
       "      <th></th>\n",
       "    </tr>\n",
       "  </thead>\n",
       "  <tbody>\n",
       "    <tr>\n",
       "      <th>2010-11-10 14:00:00</th>\n",
       "      <td>9.035668e-32</td>\n",
       "      <td>9.028350e-32</td>\n",
       "      <td>9.020105e-32</td>\n",
       "      <td>9.010813e-32</td>\n",
       "      <td>9.000338e-32</td>\n",
       "      <td>8.988523e-32</td>\n",
       "      <td>8.975198e-32</td>\n",
       "      <td>8.960157e-32</td>\n",
       "      <td>8.943178e-32</td>\n",
       "      <td>8.923997e-32</td>\n",
       "      <td>...</td>\n",
       "      <td>0.991352</td>\n",
       "      <td>0.644837</td>\n",
       "      <td>0.418756</td>\n",
       "      <td>0.221130</td>\n",
       "      <td>0.073787</td>\n",
       "      <td>0.014255</td>\n",
       "      <td>0.008561</td>\n",
       "      <td>0.011367</td>\n",
       "      <td>0.012960</td>\n",
       "      <td>4</td>\n",
       "    </tr>\n",
       "    <tr>\n",
       "      <th>2010-11-10 14:30:00</th>\n",
       "      <td>8.547977e-32</td>\n",
       "      <td>8.541067e-32</td>\n",
       "      <td>8.532916e-32</td>\n",
       "      <td>2.956000e-03</td>\n",
       "      <td>1.094256e-01</td>\n",
       "      <td>3.875901e-02</td>\n",
       "      <td>8.488142e-32</td>\n",
       "      <td>8.476577e-32</td>\n",
       "      <td>8.460657e-32</td>\n",
       "      <td>8.439621e-32</td>\n",
       "      <td>...</td>\n",
       "      <td>1.000000</td>\n",
       "      <td>0.916782</td>\n",
       "      <td>0.499011</td>\n",
       "      <td>0.196742</td>\n",
       "      <td>0.069014</td>\n",
       "      <td>0.026144</td>\n",
       "      <td>0.012921</td>\n",
       "      <td>0.006985</td>\n",
       "      <td>0.001986</td>\n",
       "      <td>4</td>\n",
       "    </tr>\n",
       "  </tbody>\n",
       "</table>\n",
       "<p>2 rows × 45 columns</p>\n",
       "</div>"
      ],
      "text/plain": [
       "                        norm5.012     norm5.623      norm6.31     norm7.079  \\\n",
       "DateTime                                                                      \n",
       "2010-11-10 14:00:00  9.035668e-32  9.028350e-32  9.020105e-32  9.010813e-32   \n",
       "2010-11-10 14:30:00  8.547977e-32  8.541067e-32  8.532916e-32  2.956000e-03   \n",
       "\n",
       "                        norm7.943     norm8.913      norm10.0     norm11.22  \\\n",
       "DateTime                                                                      \n",
       "2010-11-10 14:00:00  9.000338e-32  8.988523e-32  8.975198e-32  8.960157e-32   \n",
       "2010-11-10 14:30:00  1.094256e-01  3.875901e-02  8.488142e-32  8.476577e-32   \n",
       "\n",
       "                       norm12.589    norm14.125  ...  norm281.838  \\\n",
       "DateTime                                         ...                \n",
       "2010-11-10 14:00:00  8.943178e-32  8.923997e-32  ...     0.991352   \n",
       "2010-11-10 14:30:00  8.460657e-32  8.439621e-32  ...     1.000000   \n",
       "\n",
       "                     norm316.228  norm354.813  norm398.107  norm446.684  \\\n",
       "DateTime                                                                  \n",
       "2010-11-10 14:00:00     0.644837     0.418756     0.221130     0.073787   \n",
       "2010-11-10 14:30:00     0.916782     0.499011     0.196742     0.069014   \n",
       "\n",
       "                     norm501.187  norm562.341  norm630.957  norm707.946  \\\n",
       "DateTime                                                                  \n",
       "2010-11-10 14:00:00     0.014255     0.008561     0.011367     0.012960   \n",
       "2010-11-10 14:30:00     0.026144     0.012921     0.006985     0.001986   \n",
       "\n",
       "                     clusters  \n",
       "DateTime                       \n",
       "2010-11-10 14:00:00         4  \n",
       "2010-11-10 14:30:00         4  \n",
       "\n",
       "[2 rows x 45 columns]"
      ]
     },
     "execution_count": 177,
     "metadata": {},
     "output_type": "execute_result"
    }
   ],
   "source": [
    "df_norm_clustered.head(2)"
   ]
  },
  {
   "cell_type": "code",
   "execution_count": 178,
   "id": "4eb04bcf",
   "metadata": {
    "ExecuteTime": {
     "end_time": "2022-11-05T11:00:08.360512Z",
     "start_time": "2022-11-05T11:00:08.228688Z"
    }
   },
   "outputs": [],
   "source": [
    "df_median_clusters = df_norm_clustered.groupby('clusters').median()"
   ]
  },
  {
   "cell_type": "markdown",
   "id": "6799dbd5",
   "metadata": {},
   "source": [
    "Let's have a quick look at the clusters "
   ]
  },
  {
   "cell_type": "code",
   "execution_count": 185,
   "id": "47c08f1c",
   "metadata": {
    "ExecuteTime": {
     "end_time": "2022-11-05T11:03:58.100214Z",
     "start_time": "2022-11-05T11:03:57.930324Z"
    }
   },
   "outputs": [
    {
     "data": {
      "image/png": "[encoded data removed]",
      "text/plain": [
       "<Figure size 800x200 with 1 Axes>"
      ]
     },
     "metadata": {},
     "output_type": "display_data"
    }
   ],
   "source": [
    "n_clusters=5\n",
    "\n",
    "fig, ax = plt.subplots(figsize=(8,2))\n",
    "for i in range(n_clusters):\n",
    "    ax.plot(bin_cols, df_median_clusters.iloc[i,:].values, 'o-')\n",
    "    ax.set_xticks(bin_cols[::5])\n",
    "plt.xlabel('Dp [nm]')\n",
    "plt.ylabel('Normalised concentration')\n",
    "plt.show()"
   ]
  },
  {
   "cell_type": "code",
   "execution_count": null,
   "id": "32693380",
   "metadata": {},
   "outputs": [],
   "source": []
  }
 ],
 "metadata": {
  "kernelspec": {
   "display_name": "Python 3 (ipykernel)",
   "language": "python",
   "name": "python3"
  },
  "language_info": {
   "codemirror_mode": {
    "name": "ipython",
    "version": 3
   },
   "file_extension": ".py",
   "mimetype": "text/x-python",
   "name": "python",
   "nbconvert_exporter": "python",
   "pygments_lexer": "ipython3",
   "version": "3.9.13"
  },
  "toc": {
   "base_numbering": 1,
   "nav_menu": {},
   "number_sections": true,
   "sideBar": true,
   "skip_h1_title": false,
   "title_cell": "Table of Contents",
   "title_sidebar": "Contents",
   "toc_cell": false,
   "toc_position": {},
   "toc_section_display": true,
   "toc_window_display": false
  },
  "varInspector": {
   "cols": {
    "lenName": 16,
    "lenType": 16,
    "lenVar": 40
   },
   "kernels_config": {
    "python": {
     "delete_cmd_postfix": "",
     "delete_cmd_prefix": "del ",
     "library": "var_list.py",
     "varRefreshCmd": "print(var_dic_list())"
    },
    "r": {
     "delete_cmd_postfix": ") ",
     "delete_cmd_prefix": "rm(",
     "library": "var_list.r",
     "varRefreshCmd": "cat(var_dic_list()) "
    }
   },
   "types_to_exclude": [
    "module",
    "function",
    "builtin_function_or_method",
    "instance",
    "_Feature"
   ],
   "window_display": false
  }
 },
 "nbformat": 4,
 "nbformat_minor": 5
}
