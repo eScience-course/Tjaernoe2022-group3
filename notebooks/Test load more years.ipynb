{
 "cells": [
  {
   "cell_type": "markdown",
   "id": "32991b5b",
   "metadata": {},
   "source": [
    "## Load more DMPS data\n"
   ]
  },
  {
   "cell_type": "code",
   "execution_count": null,
   "id": "748c9f33",
   "metadata": {},
   "outputs": [],
   "source": []
  },
  {
   "cell_type": "code",
   "execution_count": null,
   "id": "a23a0d7a",
   "metadata": {},
   "outputs": [],
   "source": []
  }
 ],
 "metadata": {
  "kernelspec": {
   "display_name": "Python 3 (ipykernel)",
   "language": "python",
   "name": "python3"
  },
  "language_info": {
   "codemirror_mode": {
    "name": "ipython",
    "version": 3
   },
   "file_extension": ".py",
   "mimetype": "text/x-python",
   "name": "python",
   "nbconvert_exporter": "python",
   "pygments_lexer": "ipython3",
   "version": "3.9.13"
  }
 },
 "nbformat": 4,
 "nbformat_minor": 5
}
