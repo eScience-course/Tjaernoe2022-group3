{
 "cells": [
  {
   "cell_type": "markdown",
   "id": "5f6b0465",
   "metadata": {},
   "source": [
    "# Load and read MSA data"
   ]
  },
  {
   "cell_type": "code",
   "execution_count": 3,
   "id": "c074d1e5",
   "metadata": {},
   "outputs": [],
   "source": [
    "import numpy as np\n",
    "import pandas as pd\n",
    "import matplotlib.pyplot as plt\n",
    "import datetime"
   ]
  },
  {
   "cell_type": "code",
   "execution_count": 7,
   "id": "54cd14dc",
   "metadata": {},
   "outputs": [],
   "source": [
    "path = r'C:\\Users\\Lovisa\\Documents\\GitHub\\Tjaernoe2022-group3\\NyAl_GVB_PM10_MSA_2010-21_LN.xlsx'"
   ]
  },
  {
   "cell_type": "code",
   "execution_count": 8,
   "id": "bbb50fce",
   "metadata": {},
   "outputs": [],
   "source": [
    "msa = pd.read_excel(path)"
   ]
  },
  {
   "cell_type": "code",
   "execution_count": 6,
   "id": "485618f6",
   "metadata": {},
   "outputs": [],
   "source": [
    "pd.read_excel?"
   ]
  },
  {
   "cell_type": "code",
   "execution_count": 9,
   "id": "e897a86f",
   "metadata": {},
   "outputs": [
    {
     "data": {
      "text/html": [
       "<div>\n",
       "<style scoped>\n",
       "    .dataframe tbody tr th:only-of-type {\n",
       "        vertical-align: middle;\n",
       "    }\n",
       "\n",
       "    .dataframe tbody tr th {\n",
       "        vertical-align: top;\n",
       "    }\n",
       "\n",
       "    .dataframe thead th {\n",
       "        text-align: right;\n",
       "    }\n",
       "</style>\n",
       "<table border=\"1\" class=\"dataframe\">\n",
       "  <thead>\n",
       "    <tr style=\"text-align: right;\">\n",
       "      <th></th>\n",
       "      <th>Date</th>\n",
       "      <th>time start</th>\n",
       "      <th>Vatt (m3)</th>\n",
       "      <th>MSA</th>\n",
       "    </tr>\n",
       "  </thead>\n",
       "  <tbody>\n",
       "    <tr>\n",
       "      <th>0</th>\n",
       "      <td>2010-03-15</td>\n",
       "      <td>00:01:00</td>\n",
       "      <td>110.145</td>\n",
       "      <td>1.256452</td>\n",
       "    </tr>\n",
       "    <tr>\n",
       "      <th>1</th>\n",
       "      <td>2010-03-17</td>\n",
       "      <td>00:01:00</td>\n",
       "      <td>110.137</td>\n",
       "      <td>0.695687</td>\n",
       "    </tr>\n",
       "    <tr>\n",
       "      <th>2</th>\n",
       "      <td>2010-03-19</td>\n",
       "      <td>00:01:00</td>\n",
       "      <td>110.137</td>\n",
       "      <td>0.804288</td>\n",
       "    </tr>\n",
       "    <tr>\n",
       "      <th>3</th>\n",
       "      <td>2010-03-21</td>\n",
       "      <td>00:01:00</td>\n",
       "      <td>110.162</td>\n",
       "      <td>1.108054</td>\n",
       "    </tr>\n",
       "    <tr>\n",
       "      <th>4</th>\n",
       "      <td>2010-03-23</td>\n",
       "      <td>00:01:00</td>\n",
       "      <td>110.150</td>\n",
       "      <td>0.04503</td>\n",
       "    </tr>\n",
       "  </tbody>\n",
       "</table>\n",
       "</div>"
      ],
      "text/plain": [
       "        Date time start  Vatt (m3)       MSA\n",
       "0 2010-03-15   00:01:00    110.145  1.256452\n",
       "1 2010-03-17   00:01:00    110.137  0.695687\n",
       "2 2010-03-19   00:01:00    110.137  0.804288\n",
       "3 2010-03-21   00:01:00    110.162  1.108054\n",
       "4 2010-03-23   00:01:00    110.150   0.04503"
      ]
     },
     "execution_count": 9,
     "metadata": {},
     "output_type": "execute_result"
    }
   ],
   "source": [
    "msa.head()"
   ]
  },
  {
   "cell_type": "code",
   "execution_count": 10,
   "id": "a71220b4",
   "metadata": {},
   "outputs": [
    {
     "data": {
      "text/plain": [
       "pandas.core.series.Series"
      ]
     },
     "execution_count": 10,
     "metadata": {},
     "output_type": "execute_result"
    }
   ],
   "source": [
    "type(msa.Date)"
   ]
  }
 ],
 "metadata": {
  "kernelspec": {
   "display_name": "Python 3 (ipykernel)",
   "language": "python",
   "name": "python3"
  },
  "language_info": {
   "codemirror_mode": {
    "name": "ipython",
    "version": 3
   },
   "file_extension": ".py",
   "mimetype": "text/x-python",
   "name": "python",
   "nbconvert_exporter": "python",
   "pygments_lexer": "ipython3",
   "version": "3.9.13"
  }
 },
 "nbformat": 4,
 "nbformat_minor": 5
}
