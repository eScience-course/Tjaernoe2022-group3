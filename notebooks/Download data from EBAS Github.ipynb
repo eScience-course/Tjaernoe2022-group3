{
 "cells": [
  {
   "cell_type": "markdown",
   "id": "21b3210c",
   "metadata": {},
   "source": [
    "# Download data from EBAS: "
   ]
  },
  {
   "cell_type": "code",
   "execution_count": 4,
   "id": "8d5cfe22",
   "metadata": {
    "ExecuteTime": {
     "end_time": "2022-11-01T15:27:53.309360Z",
     "start_time": "2022-11-01T15:27:53.234327Z"
    }
   },
   "outputs": [
    {
     "name": "stdout",
     "output_type": "stream",
     "text": [
      "The autoreload extension is already loaded. To reload it, use:\n",
      "  %reload_ext autoreload\n"
     ]
    }
   ],
   "source": [
    "import sys\n",
    "\n",
    "sys.path.append(r'C:\\Users\\DominicHeslinRees\\Documents\\GitHub\\download_EBAS_data')\n",
    "import download_EBAS_data_functions as fu_EBAS\n",
    "\n",
    "%load_ext autoreload\n",
    "%autoreload 2"
   ]
  },
  {
   "cell_type": "code",
   "execution_count": 8,
   "id": "bf4448c6",
   "metadata": {
    "ExecuteTime": {
     "end_time": "2022-11-01T15:28:47.372542Z",
     "start_time": "2022-11-01T15:28:47.163164Z"
    }
   },
   "outputs": [
    {
     "name": "stdout",
     "output_type": "stream",
     "text": [
      "open string: http://dev-ebas-pydap.nilu.no/NO0042G.aws.IMG.met.precipitation_amount.1h.NO01L_NO42_vaisala_15m.NO01L_sonic..dods\n"
     ]
    },
    {
     "ename": "HTTPError",
     "evalue": "404 Not Found\n<!DOCTYPE HTML PUBLIC \"-//IETF//DTD HTML 2.0//EN\">\n<html><head>\n<title>404 Not Found</title>\n</head><body>\n<h1>Not Found</h1>\n<p>The requested URL /NO0042G.aws.IMG.met.precipitation_amount.1h.NO01L_NO42_vaisala_15m.NO01L_sonic..dods was not found on this server.</p>\n<hr>\n<address>Apache/2.4.7 (Ubuntu) Server at dev-ebas-pydap.nilu.no Port 80</address>\n</body></html>\n",
     "output_type": "error",
     "traceback": [
      "\u001b[1;31m---------------------------------------------------------------------------\u001b[0m",
      "\u001b[1;31mHTTPError\u001b[0m                                 Traceback (most recent call last)",
      "\u001b[1;32m<ipython-input-8-f0cc48c8f8f2>\u001b[0m in \u001b[0;36m<module>\u001b[1;34m\u001b[0m\n\u001b[1;32m----> 1\u001b[1;33m ds_precip = fu_EBAS.read_EBAS_data(ST_STATION_CODE='NO0042G', FT_TYPE='aws',RE_REGIME_CODE='IMG',MA_MATRIX_NAME='met',\n\u001b[0m\u001b[0;32m      2\u001b[0m                             \u001b[0mCO_COMP_NAME\u001b[0m\u001b[1;33m=\u001b[0m\u001b[1;34m'precipitation_amount'\u001b[0m\u001b[1;33m,\u001b[0m\u001b[0mDS_RESCODE\u001b[0m\u001b[1;33m=\u001b[0m\u001b[1;34m'1h'\u001b[0m\u001b[1;33m,\u001b[0m\u001b[0mFI_REF\u001b[0m\u001b[1;33m=\u001b[0m\u001b[1;34m'NO01L_NO42_vaisala_15m'\u001b[0m\u001b[1;33m,\u001b[0m\u001b[1;33m\u001b[0m\u001b[1;33m\u001b[0m\u001b[0m\n\u001b[0;32m      3\u001b[0m                             ME_REF='NO01L_sonic', DL_DATA_LEVEL='')\n",
      "\u001b[1;32m~\\Documents\\GitHub\\Tjaernoe2022-group3\\notebooks\\download_EBAS_data_functions.py\u001b[0m in \u001b[0;36mread_EBAS_data\u001b[1;34m(ST_STATION_CODE, FT_TYPE, RE_REGIME_CODE, MA_MATRIX_NAME, CO_COMP_NAME, DS_RESCODE, FI_REF, ME_REF, DL_DATA_LEVEL)\u001b[0m\n\u001b[0;32m      9\u001b[0m     \u001b[0mopen_string\u001b[0m \u001b[1;33m=\u001b[0m \u001b[1;34m'http://dev-ebas-pydap.nilu.no/'\u001b[0m\u001b[1;33m+\u001b[0m\u001b[0mST_STATION_CODE\u001b[0m\u001b[1;33m+\u001b[0m\u001b[1;34m'.'\u001b[0m\u001b[1;33m+\u001b[0m\u001b[0mFT_TYPE\u001b[0m\u001b[1;33m+\u001b[0m\u001b[1;34m'.'\u001b[0m\u001b[1;33m+\u001b[0m\u001b[0mRE_REGIME_CODE\u001b[0m\u001b[1;33m+\u001b[0m\u001b[1;34m'.'\u001b[0m\u001b[1;33m+\u001b[0m\u001b[0mMA_MATRIX_NAME\u001b[0m\u001b[1;33m+\u001b[0m\u001b[1;34m'.'\u001b[0m\u001b[1;33m+\u001b[0m\u001b[0mCO_COMP_NAME\u001b[0m\u001b[1;33m+\u001b[0m\u001b[1;34m'.'\u001b[0m\u001b[1;33m+\u001b[0m\u001b[0mDS_RESCODE\u001b[0m\u001b[1;33m+\u001b[0m\u001b[1;34m'.'\u001b[0m\u001b[1;33m+\u001b[0m\u001b[0mFI_REF\u001b[0m\u001b[1;33m+\u001b[0m\u001b[1;34m'.'\u001b[0m\u001b[1;33m+\u001b[0m\u001b[0mME_REF\u001b[0m\u001b[1;33m+\u001b[0m\u001b[1;34m'.'\u001b[0m\u001b[1;33m+\u001b[0m\u001b[0mDL_DATA_LEVEL\u001b[0m\u001b[1;33m+\u001b[0m\u001b[1;34m'.dods'\u001b[0m\u001b[1;33m\u001b[0m\u001b[1;33m\u001b[0m\u001b[0m\n\u001b[0;32m     10\u001b[0m     \u001b[0mprint\u001b[0m\u001b[1;33m(\u001b[0m\u001b[1;34m\"open string: \"\u001b[0m\u001b[1;33m+\u001b[0m\u001b[0mstr\u001b[0m\u001b[1;33m(\u001b[0m\u001b[0mopen_string\u001b[0m\u001b[1;33m)\u001b[0m\u001b[1;33m)\u001b[0m\u001b[1;33m\u001b[0m\u001b[1;33m\u001b[0m\u001b[0m\n\u001b[1;32m---> 11\u001b[1;33m     \u001b[0mds\u001b[0m \u001b[1;33m=\u001b[0m \u001b[0mopen_dods\u001b[0m\u001b[1;33m(\u001b[0m\u001b[0mopen_string\u001b[0m\u001b[1;33m)\u001b[0m\u001b[1;33m\u001b[0m\u001b[1;33m\u001b[0m\u001b[0m\n\u001b[0m\u001b[0;32m     12\u001b[0m     \u001b[0mprint\u001b[0m\u001b[1;33m(\u001b[0m\u001b[1;34m\"ds: \"\u001b[0m\u001b[1;33m+\u001b[0m\u001b[0mstr\u001b[0m\u001b[1;33m(\u001b[0m\u001b[0mds\u001b[0m\u001b[1;33m)\u001b[0m\u001b[1;33m)\u001b[0m\u001b[1;33m\u001b[0m\u001b[1;33m\u001b[0m\u001b[0m\n\u001b[0;32m     13\u001b[0m     \u001b[0mprint\u001b[0m\u001b[1;33m(\u001b[0m\u001b[1;34m\"ds type: \"\u001b[0m\u001b[1;33m+\u001b[0m\u001b[0mstr\u001b[0m\u001b[1;33m(\u001b[0m\u001b[0mtype\u001b[0m\u001b[1;33m(\u001b[0m\u001b[0mds\u001b[0m\u001b[1;33m)\u001b[0m\u001b[1;33m)\u001b[0m\u001b[1;33m)\u001b[0m\u001b[1;33m\u001b[0m\u001b[1;33m\u001b[0m\u001b[0m\n",
      "\u001b[1;32m~\\Anaconda3\\lib\\site-packages\\pydap\\client.py\u001b[0m in \u001b[0;36mopen_dods\u001b[1;34m(url, metadata, application, session, timeout)\u001b[0m\n\u001b[0;32m    111\u001b[0m     \u001b[1;34m\"\"\"Open a `.dods` response directly, returning a dataset.\"\"\"\u001b[0m\u001b[1;33m\u001b[0m\u001b[1;33m\u001b[0m\u001b[0m\n\u001b[0;32m    112\u001b[0m     \u001b[0mr\u001b[0m \u001b[1;33m=\u001b[0m \u001b[0mGET\u001b[0m\u001b[1;33m(\u001b[0m\u001b[0murl\u001b[0m\u001b[1;33m,\u001b[0m \u001b[0mapplication\u001b[0m\u001b[1;33m,\u001b[0m \u001b[0msession\u001b[0m\u001b[1;33m,\u001b[0m \u001b[0mtimeout\u001b[0m\u001b[1;33m=\u001b[0m\u001b[0mtimeout\u001b[0m\u001b[1;33m)\u001b[0m\u001b[1;33m\u001b[0m\u001b[1;33m\u001b[0m\u001b[0m\n\u001b[1;32m--> 113\u001b[1;33m     \u001b[0mraise_for_status\u001b[0m\u001b[1;33m(\u001b[0m\u001b[0mr\u001b[0m\u001b[1;33m)\u001b[0m\u001b[1;33m\u001b[0m\u001b[1;33m\u001b[0m\u001b[0m\n\u001b[0m\u001b[0;32m    114\u001b[0m \u001b[1;33m\u001b[0m\u001b[0m\n\u001b[0;32m    115\u001b[0m     \u001b[0mdds\u001b[0m\u001b[1;33m,\u001b[0m \u001b[0mdata\u001b[0m \u001b[1;33m=\u001b[0m \u001b[0mr\u001b[0m\u001b[1;33m.\u001b[0m\u001b[0mbody\u001b[0m\u001b[1;33m.\u001b[0m\u001b[0msplit\u001b[0m\u001b[1;33m(\u001b[0m\u001b[1;34mb'\\nData:\\n'\u001b[0m\u001b[1;33m,\u001b[0m \u001b[1;36m1\u001b[0m\u001b[1;33m)\u001b[0m\u001b[1;33m\u001b[0m\u001b[1;33m\u001b[0m\u001b[0m\n",
      "\u001b[1;32m~\\Anaconda3\\lib\\site-packages\\pydap\\net.py\u001b[0m in \u001b[0;36mraise_for_status\u001b[1;34m(response)\u001b[0m\n\u001b[0;32m     34\u001b[0m     \u001b[1;31m# Raise error if status is above 300:\u001b[0m\u001b[1;33m\u001b[0m\u001b[1;33m\u001b[0m\u001b[1;33m\u001b[0m\u001b[0m\n\u001b[0;32m     35\u001b[0m     \u001b[1;32mif\u001b[0m \u001b[0mresponse\u001b[0m\u001b[1;33m.\u001b[0m\u001b[0mstatus_code\u001b[0m \u001b[1;33m>=\u001b[0m \u001b[1;36m300\u001b[0m\u001b[1;33m:\u001b[0m\u001b[1;33m\u001b[0m\u001b[1;33m\u001b[0m\u001b[0m\n\u001b[1;32m---> 36\u001b[1;33m         raise HTTPError(\n\u001b[0m\u001b[0;32m     37\u001b[0m             \u001b[0mdetail\u001b[0m\u001b[1;33m=\u001b[0m\u001b[0mresponse\u001b[0m\u001b[1;33m.\u001b[0m\u001b[0mstatus\u001b[0m\u001b[1;33m+\u001b[0m\u001b[1;34m'\\n'\u001b[0m\u001b[1;33m+\u001b[0m\u001b[0mresponse\u001b[0m\u001b[1;33m.\u001b[0m\u001b[0mtext\u001b[0m\u001b[1;33m,\u001b[0m\u001b[1;33m\u001b[0m\u001b[1;33m\u001b[0m\u001b[0m\n\u001b[0;32m     38\u001b[0m             \u001b[0mheaders\u001b[0m\u001b[1;33m=\u001b[0m\u001b[0mresponse\u001b[0m\u001b[1;33m.\u001b[0m\u001b[0mheaders\u001b[0m\u001b[1;33m,\u001b[0m\u001b[1;33m\u001b[0m\u001b[1;33m\u001b[0m\u001b[0m\n",
      "\u001b[1;31mHTTPError\u001b[0m: 404 Not Found\n<!DOCTYPE HTML PUBLIC \"-//IETF//DTD HTML 2.0//EN\">\n<html><head>\n<title>404 Not Found</title>\n</head><body>\n<h1>Not Found</h1>\n<p>The requested URL /NO0042G.aws.IMG.met.precipitation_amount.1h.NO01L_NO42_vaisala_15m.NO01L_sonic..dods was not found on this server.</p>\n<hr>\n<address>Apache/2.4.7 (Ubuntu) Server at dev-ebas-pydap.nilu.no Port 80</address>\n</body></html>\n"
     ]
    }
   ],
   "source": [
    "ds_precip = fu_EBAS.read_EBAS_data(ST_STATION_CODE='NO0042G', FT_TYPE='aws',RE_REGIME_CODE='IMG',MA_MATRIX_NAME='met',\n",
    "                            CO_COMP_NAME='precipitation_amount',DS_RESCODE='1h',FI_REF='NO01L_NO42_vaisala_15m',\n",
    "                            ME_REF='NO01L_sonic', DL_DATA_LEVEL='')\n"
   ]
  },
  {
   "cell_type": "code",
   "execution_count": 3,
   "id": "35a11678",
   "metadata": {
    "ExecuteTime": {
     "end_time": "2022-11-01T15:27:48.179213Z",
     "start_time": "2022-11-01T15:27:48.110893Z"
    }
   },
   "outputs": [
    {
     "ename": "NameError",
     "evalue": "name 'ds_precip' is not defined",
     "output_type": "error",
     "traceback": [
      "\u001b[1;31m---------------------------------------------------------------------------\u001b[0m",
      "\u001b[1;31mNameError\u001b[0m                                 Traceback (most recent call last)",
      "\u001b[1;32m<ipython-input-3-7ce867524009>\u001b[0m in \u001b[0;36m<module>\u001b[1;34m\u001b[0m\n\u001b[1;32m----> 1\u001b[1;33m df_NILU = fu_EBAS. convert_EBAS_ds(ds_precip, var='precipitation_amount', given_name='precipitation_amount_mm', \n\u001b[0m\u001b[0;32m      2\u001b[0m                                         calendar='gregorian')\n\u001b[0;32m      3\u001b[0m \u001b[0mfig\u001b[0m \u001b[1;33m=\u001b[0m \u001b[0mfu_EBAS\u001b[0m\u001b[1;33m.\u001b[0m\u001b[0mmake_plot\u001b[0m\u001b[1;33m(\u001b[0m\u001b[0mdf_NILU\u001b[0m\u001b[1;33m,\u001b[0m \u001b[0mvar\u001b[0m\u001b[1;33m=\u001b[0m\u001b[1;34m'precipitation_amount_mm'\u001b[0m\u001b[1;33m,\u001b[0m \u001b[0mymax\u001b[0m\u001b[1;33m=\u001b[0m\u001b[1;36m12.7\u001b[0m\u001b[1;33m)\u001b[0m\u001b[1;33m\u001b[0m\u001b[1;33m\u001b[0m\u001b[0m\n",
      "\u001b[1;31mNameError\u001b[0m: name 'ds_precip' is not defined"
     ]
    }
   ],
   "source": [
    "df_NILU = fu_EBAS. convert_EBAS_ds(ds_precip, var='precipitation_amount', given_name='precipitation_amount_mm', \n",
    "                                        calendar='gregorian')\n",
    "fig = fu_EBAS.make_plot(df_NILU, var='precipitation_amount_mm', ymax=12.7)"
   ]
  },
  {
   "cell_type": "markdown",
   "id": "8f2ad76a",
   "metadata": {},
   "source": [
    "# Size distribution: "
   ]
  },
  {
   "cell_type": "code",
   "execution_count": 5,
   "id": "9295dbee",
   "metadata": {
    "ExecuteTime": {
     "end_time": "2022-11-01T15:27:58.053224Z",
     "start_time": "2022-11-01T15:27:57.837314Z"
    }
   },
   "outputs": [
    {
     "name": "stdout",
     "output_type": "stream",
     "text": [
      "open string: http://dev-ebas-pydap.nilu.no/NO0042G.dmps.IMG.aerosol.particle_number_size_distribution.1h.NO01L_NILU_DMPSmodel2_ZEP.NO01L_dmps_DMPS_ZEP01.2.dods\n"
     ]
    },
    {
     "ename": "HTTPError",
     "evalue": "404 Not Found\n<!DOCTYPE HTML PUBLIC \"-//IETF//DTD HTML 2.0//EN\">\n<html><head>\n<title>404 Not Found</title>\n</head><body>\n<h1>Not Found</h1>\n<p>The requested URL /NO0042G.dmps.IMG.aerosol.particle_number_size_distribution.1h.NO01L_NILU_DMPSmodel2_ZEP.NO01L_dmps_DMPS_ZEP01.2.dods was not found on this server.</p>\n<hr>\n<address>Apache/2.4.7 (Ubuntu) Server at dev-ebas-pydap.nilu.no Port 80</address>\n</body></html>\n",
     "output_type": "error",
     "traceback": [
      "\u001b[1;31m---------------------------------------------------------------------------\u001b[0m",
      "\u001b[1;31mHTTPError\u001b[0m                                 Traceback (most recent call last)",
      "\u001b[1;32m<ipython-input-5-405feb7392d6>\u001b[0m in \u001b[0;36m<module>\u001b[1;34m\u001b[0m\n\u001b[1;32m----> 1\u001b[1;33m ds_size_dis = fu_EBAS.read_EBAS_data(ST_STATION_CODE='NO0042G', FT_TYPE='dmps',RE_REGIME_CODE='IMG',MA_MATRIX_NAME='aerosol',\n\u001b[0m\u001b[0;32m      2\u001b[0m                        \u001b[0mCO_COMP_NAME\u001b[0m\u001b[1;33m=\u001b[0m\u001b[1;34m'particle_number_size_distribution'\u001b[0m\u001b[1;33m,\u001b[0m\u001b[0mDS_RESCODE\u001b[0m\u001b[1;33m=\u001b[0m\u001b[1;34m'1h'\u001b[0m\u001b[1;33m,\u001b[0m\u001b[0mFI_REF\u001b[0m\u001b[1;33m=\u001b[0m\u001b[1;34m'NO01L_NILU_DMPSmodel2_ZEP'\u001b[0m\u001b[1;33m,\u001b[0m\u001b[1;33m\u001b[0m\u001b[1;33m\u001b[0m\u001b[0m\n\u001b[0;32m      3\u001b[0m                        ME_REF='NO01L_dmps_DMPS_ZEP01',DL_DATA_LEVEL='2')\n",
      "\u001b[1;32m~\\Documents\\GitHub\\Tjaernoe2022-group3\\notebooks\\download_EBAS_data_functions.py\u001b[0m in \u001b[0;36mread_EBAS_data\u001b[1;34m(ST_STATION_CODE, FT_TYPE, RE_REGIME_CODE, MA_MATRIX_NAME, CO_COMP_NAME, DS_RESCODE, FI_REF, ME_REF, DL_DATA_LEVEL)\u001b[0m\n\u001b[0;32m      9\u001b[0m     \u001b[0mopen_string\u001b[0m \u001b[1;33m=\u001b[0m \u001b[1;34m'http://dev-ebas-pydap.nilu.no/'\u001b[0m\u001b[1;33m+\u001b[0m\u001b[0mST_STATION_CODE\u001b[0m\u001b[1;33m+\u001b[0m\u001b[1;34m'.'\u001b[0m\u001b[1;33m+\u001b[0m\u001b[0mFT_TYPE\u001b[0m\u001b[1;33m+\u001b[0m\u001b[1;34m'.'\u001b[0m\u001b[1;33m+\u001b[0m\u001b[0mRE_REGIME_CODE\u001b[0m\u001b[1;33m+\u001b[0m\u001b[1;34m'.'\u001b[0m\u001b[1;33m+\u001b[0m\u001b[0mMA_MATRIX_NAME\u001b[0m\u001b[1;33m+\u001b[0m\u001b[1;34m'.'\u001b[0m\u001b[1;33m+\u001b[0m\u001b[0mCO_COMP_NAME\u001b[0m\u001b[1;33m+\u001b[0m\u001b[1;34m'.'\u001b[0m\u001b[1;33m+\u001b[0m\u001b[0mDS_RESCODE\u001b[0m\u001b[1;33m+\u001b[0m\u001b[1;34m'.'\u001b[0m\u001b[1;33m+\u001b[0m\u001b[0mFI_REF\u001b[0m\u001b[1;33m+\u001b[0m\u001b[1;34m'.'\u001b[0m\u001b[1;33m+\u001b[0m\u001b[0mME_REF\u001b[0m\u001b[1;33m+\u001b[0m\u001b[1;34m'.'\u001b[0m\u001b[1;33m+\u001b[0m\u001b[0mDL_DATA_LEVEL\u001b[0m\u001b[1;33m+\u001b[0m\u001b[1;34m'.dods'\u001b[0m\u001b[1;33m\u001b[0m\u001b[1;33m\u001b[0m\u001b[0m\n\u001b[0;32m     10\u001b[0m     \u001b[0mprint\u001b[0m\u001b[1;33m(\u001b[0m\u001b[1;34m\"open string: \"\u001b[0m\u001b[1;33m+\u001b[0m\u001b[0mstr\u001b[0m\u001b[1;33m(\u001b[0m\u001b[0mopen_string\u001b[0m\u001b[1;33m)\u001b[0m\u001b[1;33m)\u001b[0m\u001b[1;33m\u001b[0m\u001b[1;33m\u001b[0m\u001b[0m\n\u001b[1;32m---> 11\u001b[1;33m     \u001b[0mds\u001b[0m \u001b[1;33m=\u001b[0m \u001b[0mopen_dods\u001b[0m\u001b[1;33m(\u001b[0m\u001b[0mopen_string\u001b[0m\u001b[1;33m)\u001b[0m\u001b[1;33m\u001b[0m\u001b[1;33m\u001b[0m\u001b[0m\n\u001b[0m\u001b[0;32m     12\u001b[0m     \u001b[0mprint\u001b[0m\u001b[1;33m(\u001b[0m\u001b[1;34m\"ds: \"\u001b[0m\u001b[1;33m+\u001b[0m\u001b[0mstr\u001b[0m\u001b[1;33m(\u001b[0m\u001b[0mds\u001b[0m\u001b[1;33m)\u001b[0m\u001b[1;33m)\u001b[0m\u001b[1;33m\u001b[0m\u001b[1;33m\u001b[0m\u001b[0m\n\u001b[0;32m     13\u001b[0m     \u001b[0mprint\u001b[0m\u001b[1;33m(\u001b[0m\u001b[1;34m\"ds type: \"\u001b[0m\u001b[1;33m+\u001b[0m\u001b[0mstr\u001b[0m\u001b[1;33m(\u001b[0m\u001b[0mtype\u001b[0m\u001b[1;33m(\u001b[0m\u001b[0mds\u001b[0m\u001b[1;33m)\u001b[0m\u001b[1;33m)\u001b[0m\u001b[1;33m)\u001b[0m\u001b[1;33m\u001b[0m\u001b[1;33m\u001b[0m\u001b[0m\n",
      "\u001b[1;32m~\\Anaconda3\\lib\\site-packages\\pydap\\client.py\u001b[0m in \u001b[0;36mopen_dods\u001b[1;34m(url, metadata, application, session, timeout)\u001b[0m\n\u001b[0;32m    111\u001b[0m     \u001b[1;34m\"\"\"Open a `.dods` response directly, returning a dataset.\"\"\"\u001b[0m\u001b[1;33m\u001b[0m\u001b[1;33m\u001b[0m\u001b[0m\n\u001b[0;32m    112\u001b[0m     \u001b[0mr\u001b[0m \u001b[1;33m=\u001b[0m \u001b[0mGET\u001b[0m\u001b[1;33m(\u001b[0m\u001b[0murl\u001b[0m\u001b[1;33m,\u001b[0m \u001b[0mapplication\u001b[0m\u001b[1;33m,\u001b[0m \u001b[0msession\u001b[0m\u001b[1;33m,\u001b[0m \u001b[0mtimeout\u001b[0m\u001b[1;33m=\u001b[0m\u001b[0mtimeout\u001b[0m\u001b[1;33m)\u001b[0m\u001b[1;33m\u001b[0m\u001b[1;33m\u001b[0m\u001b[0m\n\u001b[1;32m--> 113\u001b[1;33m     \u001b[0mraise_for_status\u001b[0m\u001b[1;33m(\u001b[0m\u001b[0mr\u001b[0m\u001b[1;33m)\u001b[0m\u001b[1;33m\u001b[0m\u001b[1;33m\u001b[0m\u001b[0m\n\u001b[0m\u001b[0;32m    114\u001b[0m \u001b[1;33m\u001b[0m\u001b[0m\n\u001b[0;32m    115\u001b[0m     \u001b[0mdds\u001b[0m\u001b[1;33m,\u001b[0m \u001b[0mdata\u001b[0m \u001b[1;33m=\u001b[0m \u001b[0mr\u001b[0m\u001b[1;33m.\u001b[0m\u001b[0mbody\u001b[0m\u001b[1;33m.\u001b[0m\u001b[0msplit\u001b[0m\u001b[1;33m(\u001b[0m\u001b[1;34mb'\\nData:\\n'\u001b[0m\u001b[1;33m,\u001b[0m \u001b[1;36m1\u001b[0m\u001b[1;33m)\u001b[0m\u001b[1;33m\u001b[0m\u001b[1;33m\u001b[0m\u001b[0m\n",
      "\u001b[1;32m~\\Anaconda3\\lib\\site-packages\\pydap\\net.py\u001b[0m in \u001b[0;36mraise_for_status\u001b[1;34m(response)\u001b[0m\n\u001b[0;32m     34\u001b[0m     \u001b[1;31m# Raise error if status is above 300:\u001b[0m\u001b[1;33m\u001b[0m\u001b[1;33m\u001b[0m\u001b[1;33m\u001b[0m\u001b[0m\n\u001b[0;32m     35\u001b[0m     \u001b[1;32mif\u001b[0m \u001b[0mresponse\u001b[0m\u001b[1;33m.\u001b[0m\u001b[0mstatus_code\u001b[0m \u001b[1;33m>=\u001b[0m \u001b[1;36m300\u001b[0m\u001b[1;33m:\u001b[0m\u001b[1;33m\u001b[0m\u001b[1;33m\u001b[0m\u001b[0m\n\u001b[1;32m---> 36\u001b[1;33m         raise HTTPError(\n\u001b[0m\u001b[0;32m     37\u001b[0m             \u001b[0mdetail\u001b[0m\u001b[1;33m=\u001b[0m\u001b[0mresponse\u001b[0m\u001b[1;33m.\u001b[0m\u001b[0mstatus\u001b[0m\u001b[1;33m+\u001b[0m\u001b[1;34m'\\n'\u001b[0m\u001b[1;33m+\u001b[0m\u001b[0mresponse\u001b[0m\u001b[1;33m.\u001b[0m\u001b[0mtext\u001b[0m\u001b[1;33m,\u001b[0m\u001b[1;33m\u001b[0m\u001b[1;33m\u001b[0m\u001b[0m\n\u001b[0;32m     38\u001b[0m             \u001b[0mheaders\u001b[0m\u001b[1;33m=\u001b[0m\u001b[0mresponse\u001b[0m\u001b[1;33m.\u001b[0m\u001b[0mheaders\u001b[0m\u001b[1;33m,\u001b[0m\u001b[1;33m\u001b[0m\u001b[1;33m\u001b[0m\u001b[0m\n",
      "\u001b[1;31mHTTPError\u001b[0m: 404 Not Found\n<!DOCTYPE HTML PUBLIC \"-//IETF//DTD HTML 2.0//EN\">\n<html><head>\n<title>404 Not Found</title>\n</head><body>\n<h1>Not Found</h1>\n<p>The requested URL /NO0042G.dmps.IMG.aerosol.particle_number_size_distribution.1h.NO01L_NILU_DMPSmodel2_ZEP.NO01L_dmps_DMPS_ZEP01.2.dods was not found on this server.</p>\n<hr>\n<address>Apache/2.4.7 (Ubuntu) Server at dev-ebas-pydap.nilu.no Port 80</address>\n</body></html>\n"
     ]
    }
   ],
   "source": [
    "ds_size_dis = fu_EBAS.read_EBAS_data(ST_STATION_CODE='NO0042G', FT_TYPE='dmps',RE_REGIME_CODE='IMG',MA_MATRIX_NAME='aerosol',\n",
    "                       CO_COMP_NAME='particle_number_size_distribution',DS_RESCODE='1h',FI_REF='NO01L_NILU_DMPSmodel2_ZEP',\n",
    "                       ME_REF='NO01L_dmps_DMPS_ZEP01',DL_DATA_LEVEL='2')"
   ]
  },
  {
   "cell_type": "code",
   "execution_count": 6,
   "id": "4d010e3d",
   "metadata": {
    "ExecuteTime": {
     "end_time": "2022-11-01T15:28:11.570871Z",
     "start_time": "2022-11-01T15:28:11.505633Z"
    }
   },
   "outputs": [
    {
     "ename": "NameError",
     "evalue": "name 'ds_size_dis' is not defined",
     "output_type": "error",
     "traceback": [
      "\u001b[1;31m---------------------------------------------------------------------------\u001b[0m",
      "\u001b[1;31mNameError\u001b[0m                                 Traceback (most recent call last)",
      "\u001b[1;32m<ipython-input-6-0b350e9ca0cb>\u001b[0m in \u001b[0;36m<module>\u001b[1;34m\u001b[0m\n\u001b[1;32m----> 1\u001b[1;33m \u001b[0mdf_NILU_size_dis\u001b[0m \u001b[1;33m=\u001b[0m \u001b[0mfu_EBAS\u001b[0m\u001b[1;33m.\u001b[0m\u001b[0mconvert_EBAS_ds\u001b[0m\u001b[1;33m(\u001b[0m\u001b[0mds_size_dis\u001b[0m\u001b[1;33m,\u001b[0m \u001b[0mvar\u001b[0m\u001b[1;33m=\u001b[0m\u001b[1;34m'particle_number_size_distribution_amean'\u001b[0m\u001b[1;33m,\u001b[0m \u001b[0mcalendar\u001b[0m\u001b[1;33m=\u001b[0m\u001b[1;34m'gregorian'\u001b[0m\u001b[1;33m)\u001b[0m\u001b[1;33m\u001b[0m\u001b[1;33m\u001b[0m\u001b[0m\n\u001b[0m",
      "\u001b[1;31mNameError\u001b[0m: name 'ds_size_dis' is not defined"
     ]
    }
   ],
   "source": [
    "df_NILU_size_dis = fu_EBAS.convert_EBAS_ds(ds_size_dis, var='particle_number_size_distribution_amean', calendar='gregorian')"
   ]
  },
  {
   "cell_type": "markdown",
   "id": "fe93e1c7",
   "metadata": {},
   "source": [
    "# Absoprtion: "
   ]
  },
  {
   "cell_type": "code",
   "execution_count": 7,
   "id": "bde14a00",
   "metadata": {
    "ExecuteTime": {
     "end_time": "2022-11-01T15:28:14.499103Z",
     "start_time": "2022-11-01T15:28:14.282452Z"
    }
   },
   "outputs": [
    {
     "name": "stdout",
     "output_type": "stream",
     "text": [
      "open string: http://dev-ebas-pydap.nilu.no/NO0042G.filter_absorption_photometer.IMG.aerosol.aerosol_absorption_coefficient.1h.SE03L_ZEP-PSAP-1.SE03L_abs_coef.2.dods\n"
     ]
    },
    {
     "ename": "HTTPError",
     "evalue": "404 Not Found\n<!DOCTYPE HTML PUBLIC \"-//IETF//DTD HTML 2.0//EN\">\n<html><head>\n<title>404 Not Found</title>\n</head><body>\n<h1>Not Found</h1>\n<p>The requested URL /NO0042G.filter_absorption_photometer.IMG.aerosol.aerosol_absorption_coefficient.1h.SE03L_ZEP-PSAP-1.SE03L_abs_coef.2.dods was not found on this server.</p>\n<hr>\n<address>Apache/2.4.7 (Ubuntu) Server at dev-ebas-pydap.nilu.no Port 80</address>\n</body></html>\n",
     "output_type": "error",
     "traceback": [
      "\u001b[1;31m---------------------------------------------------------------------------\u001b[0m",
      "\u001b[1;31mHTTPError\u001b[0m                                 Traceback (most recent call last)",
      "\u001b[1;32m<ipython-input-7-6cb662059456>\u001b[0m in \u001b[0;36m<module>\u001b[1;34m\u001b[0m\n\u001b[0;32m      9\u001b[0m \u001b[0mDL_DATA_LEVEL\u001b[0m\u001b[1;33m=\u001b[0m\u001b[1;34m'2'\u001b[0m\u001b[1;33m\u001b[0m\u001b[1;33m\u001b[0m\u001b[0m\n\u001b[0;32m     10\u001b[0m \u001b[1;33m\u001b[0m\u001b[0m\n\u001b[1;32m---> 11\u001b[1;33m ds_abs = fu_EBAS.read_EBAS_data(ST_STATION_CODE, FT_TYPE, RE_REGIME_CODE, MA_MATRIX_NAME, CO_COMP_NAME, DS_RESCODE, FI_REF,\n\u001b[0m\u001b[0;32m     12\u001b[0m                    ME_REF, DL_DATA_LEVEL)\n\u001b[0;32m     13\u001b[0m \u001b[0mdf_NILU_abs\u001b[0m \u001b[1;33m=\u001b[0m \u001b[0mfu_EBAS\u001b[0m\u001b[1;33m.\u001b[0m\u001b[0mconvert_EBAS_ds\u001b[0m\u001b[1;33m(\u001b[0m\u001b[0mds_abs\u001b[0m\u001b[1;33m,\u001b[0m \u001b[0mvar\u001b[0m\u001b[1;33m=\u001b[0m\u001b[1;34m'aerosol_absorption_coefficient'\u001b[0m\u001b[1;33m,\u001b[0m \u001b[0mgiven_name\u001b[0m\u001b[1;33m=\u001b[0m\u001b[1;34m'abs'\u001b[0m\u001b[1;33m)\u001b[0m\u001b[1;33m\u001b[0m\u001b[1;33m\u001b[0m\u001b[0m\n",
      "\u001b[1;32m~\\Documents\\GitHub\\Tjaernoe2022-group3\\notebooks\\download_EBAS_data_functions.py\u001b[0m in \u001b[0;36mread_EBAS_data\u001b[1;34m(ST_STATION_CODE, FT_TYPE, RE_REGIME_CODE, MA_MATRIX_NAME, CO_COMP_NAME, DS_RESCODE, FI_REF, ME_REF, DL_DATA_LEVEL)\u001b[0m\n\u001b[0;32m      9\u001b[0m     \u001b[0mopen_string\u001b[0m \u001b[1;33m=\u001b[0m \u001b[1;34m'http://dev-ebas-pydap.nilu.no/'\u001b[0m\u001b[1;33m+\u001b[0m\u001b[0mST_STATION_CODE\u001b[0m\u001b[1;33m+\u001b[0m\u001b[1;34m'.'\u001b[0m\u001b[1;33m+\u001b[0m\u001b[0mFT_TYPE\u001b[0m\u001b[1;33m+\u001b[0m\u001b[1;34m'.'\u001b[0m\u001b[1;33m+\u001b[0m\u001b[0mRE_REGIME_CODE\u001b[0m\u001b[1;33m+\u001b[0m\u001b[1;34m'.'\u001b[0m\u001b[1;33m+\u001b[0m\u001b[0mMA_MATRIX_NAME\u001b[0m\u001b[1;33m+\u001b[0m\u001b[1;34m'.'\u001b[0m\u001b[1;33m+\u001b[0m\u001b[0mCO_COMP_NAME\u001b[0m\u001b[1;33m+\u001b[0m\u001b[1;34m'.'\u001b[0m\u001b[1;33m+\u001b[0m\u001b[0mDS_RESCODE\u001b[0m\u001b[1;33m+\u001b[0m\u001b[1;34m'.'\u001b[0m\u001b[1;33m+\u001b[0m\u001b[0mFI_REF\u001b[0m\u001b[1;33m+\u001b[0m\u001b[1;34m'.'\u001b[0m\u001b[1;33m+\u001b[0m\u001b[0mME_REF\u001b[0m\u001b[1;33m+\u001b[0m\u001b[1;34m'.'\u001b[0m\u001b[1;33m+\u001b[0m\u001b[0mDL_DATA_LEVEL\u001b[0m\u001b[1;33m+\u001b[0m\u001b[1;34m'.dods'\u001b[0m\u001b[1;33m\u001b[0m\u001b[1;33m\u001b[0m\u001b[0m\n\u001b[0;32m     10\u001b[0m     \u001b[0mprint\u001b[0m\u001b[1;33m(\u001b[0m\u001b[1;34m\"open string: \"\u001b[0m\u001b[1;33m+\u001b[0m\u001b[0mstr\u001b[0m\u001b[1;33m(\u001b[0m\u001b[0mopen_string\u001b[0m\u001b[1;33m)\u001b[0m\u001b[1;33m)\u001b[0m\u001b[1;33m\u001b[0m\u001b[1;33m\u001b[0m\u001b[0m\n\u001b[1;32m---> 11\u001b[1;33m     \u001b[0mds\u001b[0m \u001b[1;33m=\u001b[0m \u001b[0mopen_dods\u001b[0m\u001b[1;33m(\u001b[0m\u001b[0mopen_string\u001b[0m\u001b[1;33m)\u001b[0m\u001b[1;33m\u001b[0m\u001b[1;33m\u001b[0m\u001b[0m\n\u001b[0m\u001b[0;32m     12\u001b[0m     \u001b[0mprint\u001b[0m\u001b[1;33m(\u001b[0m\u001b[1;34m\"ds: \"\u001b[0m\u001b[1;33m+\u001b[0m\u001b[0mstr\u001b[0m\u001b[1;33m(\u001b[0m\u001b[0mds\u001b[0m\u001b[1;33m)\u001b[0m\u001b[1;33m)\u001b[0m\u001b[1;33m\u001b[0m\u001b[1;33m\u001b[0m\u001b[0m\n\u001b[0;32m     13\u001b[0m     \u001b[0mprint\u001b[0m\u001b[1;33m(\u001b[0m\u001b[1;34m\"ds type: \"\u001b[0m\u001b[1;33m+\u001b[0m\u001b[0mstr\u001b[0m\u001b[1;33m(\u001b[0m\u001b[0mtype\u001b[0m\u001b[1;33m(\u001b[0m\u001b[0mds\u001b[0m\u001b[1;33m)\u001b[0m\u001b[1;33m)\u001b[0m\u001b[1;33m)\u001b[0m\u001b[1;33m\u001b[0m\u001b[1;33m\u001b[0m\u001b[0m\n",
      "\u001b[1;32m~\\Anaconda3\\lib\\site-packages\\pydap\\client.py\u001b[0m in \u001b[0;36mopen_dods\u001b[1;34m(url, metadata, application, session, timeout)\u001b[0m\n\u001b[0;32m    111\u001b[0m     \u001b[1;34m\"\"\"Open a `.dods` response directly, returning a dataset.\"\"\"\u001b[0m\u001b[1;33m\u001b[0m\u001b[1;33m\u001b[0m\u001b[0m\n\u001b[0;32m    112\u001b[0m     \u001b[0mr\u001b[0m \u001b[1;33m=\u001b[0m \u001b[0mGET\u001b[0m\u001b[1;33m(\u001b[0m\u001b[0murl\u001b[0m\u001b[1;33m,\u001b[0m \u001b[0mapplication\u001b[0m\u001b[1;33m,\u001b[0m \u001b[0msession\u001b[0m\u001b[1;33m,\u001b[0m \u001b[0mtimeout\u001b[0m\u001b[1;33m=\u001b[0m\u001b[0mtimeout\u001b[0m\u001b[1;33m)\u001b[0m\u001b[1;33m\u001b[0m\u001b[1;33m\u001b[0m\u001b[0m\n\u001b[1;32m--> 113\u001b[1;33m     \u001b[0mraise_for_status\u001b[0m\u001b[1;33m(\u001b[0m\u001b[0mr\u001b[0m\u001b[1;33m)\u001b[0m\u001b[1;33m\u001b[0m\u001b[1;33m\u001b[0m\u001b[0m\n\u001b[0m\u001b[0;32m    114\u001b[0m \u001b[1;33m\u001b[0m\u001b[0m\n\u001b[0;32m    115\u001b[0m     \u001b[0mdds\u001b[0m\u001b[1;33m,\u001b[0m \u001b[0mdata\u001b[0m \u001b[1;33m=\u001b[0m \u001b[0mr\u001b[0m\u001b[1;33m.\u001b[0m\u001b[0mbody\u001b[0m\u001b[1;33m.\u001b[0m\u001b[0msplit\u001b[0m\u001b[1;33m(\u001b[0m\u001b[1;34mb'\\nData:\\n'\u001b[0m\u001b[1;33m,\u001b[0m \u001b[1;36m1\u001b[0m\u001b[1;33m)\u001b[0m\u001b[1;33m\u001b[0m\u001b[1;33m\u001b[0m\u001b[0m\n",
      "\u001b[1;32m~\\Anaconda3\\lib\\site-packages\\pydap\\net.py\u001b[0m in \u001b[0;36mraise_for_status\u001b[1;34m(response)\u001b[0m\n\u001b[0;32m     34\u001b[0m     \u001b[1;31m# Raise error if status is above 300:\u001b[0m\u001b[1;33m\u001b[0m\u001b[1;33m\u001b[0m\u001b[1;33m\u001b[0m\u001b[0m\n\u001b[0;32m     35\u001b[0m     \u001b[1;32mif\u001b[0m \u001b[0mresponse\u001b[0m\u001b[1;33m.\u001b[0m\u001b[0mstatus_code\u001b[0m \u001b[1;33m>=\u001b[0m \u001b[1;36m300\u001b[0m\u001b[1;33m:\u001b[0m\u001b[1;33m\u001b[0m\u001b[1;33m\u001b[0m\u001b[0m\n\u001b[1;32m---> 36\u001b[1;33m         raise HTTPError(\n\u001b[0m\u001b[0;32m     37\u001b[0m             \u001b[0mdetail\u001b[0m\u001b[1;33m=\u001b[0m\u001b[0mresponse\u001b[0m\u001b[1;33m.\u001b[0m\u001b[0mstatus\u001b[0m\u001b[1;33m+\u001b[0m\u001b[1;34m'\\n'\u001b[0m\u001b[1;33m+\u001b[0m\u001b[0mresponse\u001b[0m\u001b[1;33m.\u001b[0m\u001b[0mtext\u001b[0m\u001b[1;33m,\u001b[0m\u001b[1;33m\u001b[0m\u001b[1;33m\u001b[0m\u001b[0m\n\u001b[0;32m     38\u001b[0m             \u001b[0mheaders\u001b[0m\u001b[1;33m=\u001b[0m\u001b[0mresponse\u001b[0m\u001b[1;33m.\u001b[0m\u001b[0mheaders\u001b[0m\u001b[1;33m,\u001b[0m\u001b[1;33m\u001b[0m\u001b[1;33m\u001b[0m\u001b[0m\n",
      "\u001b[1;31mHTTPError\u001b[0m: 404 Not Found\n<!DOCTYPE HTML PUBLIC \"-//IETF//DTD HTML 2.0//EN\">\n<html><head>\n<title>404 Not Found</title>\n</head><body>\n<h1>Not Found</h1>\n<p>The requested URL /NO0042G.filter_absorption_photometer.IMG.aerosol.aerosol_absorption_coefficient.1h.SE03L_ZEP-PSAP-1.SE03L_abs_coef.2.dods was not found on this server.</p>\n<hr>\n<address>Apache/2.4.7 (Ubuntu) Server at dev-ebas-pydap.nilu.no Port 80</address>\n</body></html>\n"
     ]
    }
   ],
   "source": [
    "ST_STATION_CODE='NO0042G'\n",
    "FT_TYPE='filter_absorption_photometer' #Instrument type\n",
    "RE_REGIME_CODE='IMG'\n",
    "MA_MATRIX_NAME='aerosol'\n",
    "CO_COMP_NAME='aerosol_absorption_coefficient'\n",
    "DS_RESCODE='1h'\n",
    "FI_REF='SE03L_ZEP-PSAP-1'\n",
    "ME_REF='SE03L_abs_coef'\n",
    "DL_DATA_LEVEL='2'\n",
    "\n",
    "ds_abs = fu_EBAS.read_EBAS_data(ST_STATION_CODE, FT_TYPE, RE_REGIME_CODE, MA_MATRIX_NAME, CO_COMP_NAME, DS_RESCODE, FI_REF,\n",
    "                   ME_REF, DL_DATA_LEVEL)\n",
    "df_NILU_abs = fu_EBAS.convert_EBAS_ds(ds_abs, var='aerosol_absorption_coefficient', given_name='abs')\n",
    "fig = fu_EBAS.make_plot(df_NILU_abs, var='abs', ymax=.6)"
   ]
  }
 ],
 "metadata": {
  "kernelspec": {
   "display_name": "Python 3",
   "language": "python",
   "name": "python3"
  },
  "language_info": {
   "codemirror_mode": {
    "name": "ipython",
    "version": 3
   },
   "file_extension": ".py",
   "mimetype": "text/x-python",
   "name": "python",
   "nbconvert_exporter": "python",
   "pygments_lexer": "ipython3",
   "version": "3.8.6"
  },
  "toc": {
   "base_numbering": 1,
   "nav_menu": {},
   "number_sections": true,
   "sideBar": true,
   "skip_h1_title": false,
   "title_cell": "Table of Contents",
   "title_sidebar": "Contents",
   "toc_cell": false,
   "toc_position": {},
   "toc_section_display": true,
   "toc_window_display": false
  },
  "varInspector": {
   "cols": {
    "lenName": 16,
    "lenType": 16,
    "lenVar": 40
   },
   "kernels_config": {
    "python": {
     "delete_cmd_postfix": "",
     "delete_cmd_prefix": "del ",
     "library": "var_list.py",
     "varRefreshCmd": "print(var_dic_list())"
    },
    "r": {
     "delete_cmd_postfix": ") ",
     "delete_cmd_prefix": "rm(",
     "library": "var_list.r",
     "varRefreshCmd": "cat(var_dic_list()) "
    }
   },
   "types_to_exclude": [
    "module",
    "function",
    "builtin_function_or_method",
    "instance",
    "_Feature"
   ],
   "window_display": false
  }
 },
 "nbformat": 4,
 "nbformat_minor": 5
}
