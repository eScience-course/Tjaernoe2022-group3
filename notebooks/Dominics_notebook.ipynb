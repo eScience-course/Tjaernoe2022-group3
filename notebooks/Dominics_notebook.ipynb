{
 "cells": [
  {
   "cell_type": "markdown",
   "id": "176d06e5",
   "metadata": {},
   "source": [
    "# Dominic's notebook"
   ]
  },
  {
   "cell_type": "code",
   "execution_count": 1,
   "id": "173e7457",
   "metadata": {
    "ExecuteTime": {
     "end_time": "2022-11-01T12:02:11.327124Z",
     "start_time": "2022-11-01T12:02:11.312200Z"
    }
   },
   "outputs": [
    {
     "name": "stdout",
     "output_type": "stream",
     "text": [
      "3.8.6\n"
     ]
    }
   ],
   "source": [
    "from platform import python_version\n",
    "print(python_version())"
   ]
  },
  {
   "cell_type": "markdown",
   "id": "7ff0913a",
   "metadata": {
    "ExecuteTime": {
     "end_time": "2022-11-01T12:04:03.811960Z",
     "start_time": "2022-11-01T12:04:03.802984Z"
    }
   },
   "source": [
    "***Ceating a virtual environment:***\n",
    "\n",
    "***In the anaconda prompt:***\n",
    "\n",
    "conda create -n escience_DHR python=3.8.6\n",
    "\n",
    "***To activate the virtual environment***\n",
    "\n",
    "conda activate escience_DHR\n",
    "\n",
    "***To de-activate the virtual environment***\n",
    "\n",
    "conda deactivate\n",
    "\n",
    "conda install jupyter\n",
    "\n",
    "conda install -n base nb_conda_kernels\n",
    "\n",
    "Have a look at the environments: conda info --envs\n",
    "\n",
    "if the environment is activated and you want to view the packages:\n",
    "\n",
    "conda list\n",
    "\n",
    "***export environment***\n",
    "\n",
    "conda env export > environment.yml\n",
    "\n",
    "Your .conda directory may get very large if you install multiple packages and create many virtual Conda environments. Make sure to clean the Conda cache and clean unused packages with: conda clean --all.\n",
    "Clean unused Conda environments by first listing the environments with: conda env list , and then removing unused ones: conda env remove --name <yourenvironmentname>.\n",
    "    \n",
    "conda env create --file environment.yml\n",
    "    \n",
    "example:\n",
    "    \n",
    "conda env create --file C:\\Users\\DominicHeslinRees\\Documents\\GitHub\\Tjaernoe2022-group3\\environments\\r2d_env\\pangeo_notebook_env.yaml"
   ]
  }
 ],
 "metadata": {
  "kernelspec": {
   "display_name": "Python 3",
   "language": "python",
   "name": "python3"
  },
  "language_info": {
   "codemirror_mode": {
    "name": "ipython",
    "version": 3
   },
   "file_extension": ".py",
   "mimetype": "text/x-python",
   "name": "python",
   "nbconvert_exporter": "python",
   "pygments_lexer": "ipython3",
   "version": "3.8.6"
  },
  "toc": {
   "base_numbering": 1,
   "nav_menu": {},
   "number_sections": true,
   "sideBar": true,
   "skip_h1_title": false,
   "title_cell": "Table of Contents",
   "title_sidebar": "Contents",
   "toc_cell": false,
   "toc_position": {},
   "toc_section_display": true,
   "toc_window_display": false
  },
  "varInspector": {
   "cols": {
    "lenName": 16,
    "lenType": 16,
    "lenVar": 40
   },
   "kernels_config": {
    "python": {
     "delete_cmd_postfix": "",
     "delete_cmd_prefix": "del ",
     "library": "var_list.py",
     "varRefreshCmd": "print(var_dic_list())"
    },
    "r": {
     "delete_cmd_postfix": ") ",
     "delete_cmd_prefix": "rm(",
     "library": "var_list.r",
     "varRefreshCmd": "cat(var_dic_list()) "
    }
   },
   "types_to_exclude": [
    "module",
    "function",
    "builtin_function_or_method",
    "instance",
    "_Feature"
   ],
   "window_display": false
  }
 },
 "nbformat": 4,
 "nbformat_minor": 5
}
