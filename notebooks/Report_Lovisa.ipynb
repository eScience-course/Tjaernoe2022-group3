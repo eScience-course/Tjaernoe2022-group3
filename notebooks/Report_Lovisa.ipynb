{
 "cells": [
  {
   "cell_type": "markdown",
   "id": "68512dd4",
   "metadata": {},
   "source": [
    "#  <center>RECONNECT</center>\n",
    "## <center>*Report for e-science course* </center>"
   ]
  },
  {
   "cell_type": "markdown",
   "id": "54b78e70",
   "metadata": {},
   "source": [
    "## Abstract\n",
    "text text text"
   ]
  },
  {
   "cell_type": "markdown",
   "id": "79f984aa",
   "metadata": {},
   "source": [
    "## Acknowledgements\n",
    "Data\n",
    "Group members+supervisors\n",
    "Scripts"
   ]
  },
  {
   "cell_type": "markdown",
   "id": "0c30baa9",
   "metadata": {},
   "source": [
    "## Introduction\n",
    "\n",
    "The Artcic has during the last decades experienced a faster warming than any other part of the globe [REF]. The response to increased temperature in the Arctic environment implies reduction of sea ice cover and glaciers, melting permafrost and ecological pressure on the Arctic environment and species [REF]. Moreover, the interaction between the atmosphere, ocean and land is affected [bla bla marine production etc…………….]. \n",
    "\n",
    "The Arctic is in many ways an extreme environment which is also reflected in the annual cycle of airborne particulate matter. During the dark months, ocean and air circulation patterns implies an influx of anthropogenic pollutants, and the aerosol size distribution is dominated by accumulation mode particles. In combination with the Arctic wintertime meteorological conditions, this leads to the formation of a persistent Arctic haze. As the sun gradually returns, the circulation and airmass transport patterns changes and the anthropogenic pollution inflow is restricted [REF]. Formation of low-level clouds during summertime leads to removal of accumulation mode particles by wet scavenging marks the end of the Arctic Haze period [REF]. Consequently, the composition, properties, and size distribution of Arctic aerosol particle change. The lower aerosol load and increased availability of sunlight promotes photochemistry and results in a peak of in aerosol particles smaller than 100 nm [REF]. [Blab la NPF + precursor gases]\n",
    " At the Zeppelin mountain station [add location] long- term measurements are conducted to monitor the properties of aerosol particles, gaseous species and meteorological parameters (?). Long term measurements are valuable to discern changes…….\n"
   ]
  },
  {
   "cell_type": "markdown",
   "id": "b221142b",
   "metadata": {},
   "source": [
    "## Method\n",
    "\n",
    "text text text\n",
    "\n",
    "Describe what DMPS is and what bins are etc, cant be sassumed that reader knows what it is. Describe Zeppelin. "
   ]
  },
  {
   "cell_type": "markdown",
   "id": "259840ec",
   "metadata": {},
   "source": [
    "### Import packages\n",
    "\n",
    "And make sure that functions are auto-updated."
   ]
  },
  {
   "cell_type": "code",
   "execution_count": 1,
   "id": "40a6e4ce",
   "metadata": {
    "scrolled": true
   },
   "outputs": [],
   "source": [
    "import DMPS_functions as fu\n",
    "import numpy as np\n",
    "import pandas as pd\n",
    "import matplotlib.pyplot as plt\n",
    "import datetime \n",
    "import seaborn as sns\n",
    "import scipy as sc\n",
    "import glob \n",
    "\n",
    "\n",
    "# Auto-update the functions. Useful if the functions have been altered. \n",
    "%load_ext autoreload\n",
    "%autoreload 2"
   ]
  },
  {
   "cell_type": "code",
   "execution_count": 2,
   "id": "4c23acec",
   "metadata": {},
   "outputs": [],
   "source": [
    "# Defining the path containg all DMPS data\n",
    "path = 'C:\\\\Users\\\\Lovisa\\\\Documents\\\\Courses II\\\\E_science_tools HT22\\\\Project\\\\DATA_ZEP_2010to2020\\\\'"
   ]
  },
  {
   "cell_type": "code",
   "execution_count": 3,
   "id": "f85aabd8",
   "metadata": {},
   "outputs": [
    {
     "data": {
      "text/plain": [
       "['C:\\\\Users\\\\Lovisa\\\\Documents\\\\Courses II\\\\E_science_tools HT22\\\\Project\\\\DATA_ZEP_2010to2020\\\\DMPS_and_CPC_2010_QA_QC@STP_HARMONIZED_PT20210207.dat',\n",
       " 'C:\\\\Users\\\\Lovisa\\\\Documents\\\\Courses II\\\\E_science_tools HT22\\\\Project\\\\DATA_ZEP_2010to2020\\\\DMPS_and_CPC_2011_QA_QC@STP_HARMONIZED_PT20210207.dat',\n",
       " 'C:\\\\Users\\\\Lovisa\\\\Documents\\\\Courses II\\\\E_science_tools HT22\\\\Project\\\\DATA_ZEP_2010to2020\\\\DMPS_and_CPC_2012_QA_QC@STP_HARMONIZED_PT20210207.dat',\n",
       " 'C:\\\\Users\\\\Lovisa\\\\Documents\\\\Courses II\\\\E_science_tools HT22\\\\Project\\\\DATA_ZEP_2010to2020\\\\DMPS_and_CPC_2013_QA_QC@STP_HARMONIZED_PT20210207.dat',\n",
       " 'C:\\\\Users\\\\Lovisa\\\\Documents\\\\Courses II\\\\E_science_tools HT22\\\\Project\\\\DATA_ZEP_2010to2020\\\\DMPS_and_CPC_2014_QA_QC@STP_HARMONIZED_PT20210207.dat',\n",
       " 'C:\\\\Users\\\\Lovisa\\\\Documents\\\\Courses II\\\\E_science_tools HT22\\\\Project\\\\DATA_ZEP_2010to2020\\\\DMPS_and_CPC_2015_QA_QC@STP_HARMONIZED_PT20210207.dat',\n",
       " 'C:\\\\Users\\\\Lovisa\\\\Documents\\\\Courses II\\\\E_science_tools HT22\\\\Project\\\\DATA_ZEP_2010to2020\\\\DMPS_and_CPC_2016_QA_QC@STP_HARMONIZED_PT20210207.dat',\n",
       " 'C:\\\\Users\\\\Lovisa\\\\Documents\\\\Courses II\\\\E_science_tools HT22\\\\Project\\\\DATA_ZEP_2010to2020\\\\DMPS_and_CPC_2017_QA_QC@STP_HARMONIZED_PT20210207.dat',\n",
       " 'C:\\\\Users\\\\Lovisa\\\\Documents\\\\Courses II\\\\E_science_tools HT22\\\\Project\\\\DATA_ZEP_2010to2020\\\\DMPS_and_CPC_2018_QA_QC@STP_HARMONIZED_PT20210207.dat',\n",
       " 'C:\\\\Users\\\\Lovisa\\\\Documents\\\\Courses II\\\\E_science_tools HT22\\\\Project\\\\DATA_ZEP_2010to2020\\\\DMPS_and_CPC_2019_QA_QC@STP_HARMONIZED_PT20210207.dat',\n",
       " 'C:\\\\Users\\\\Lovisa\\\\Documents\\\\Courses II\\\\E_science_tools HT22\\\\Project\\\\DATA_ZEP_2010to2020\\\\DMPS_and_CPC_2020_QA_QC@STP_HARMONIZED_PT20210207.dat',\n",
       " 'C:\\\\Users\\\\Lovisa\\\\Documents\\\\Courses II\\\\E_science_tools HT22\\\\Project\\\\DATA_ZEP_2010to2020\\\\README_BEFORE_USING_THIS_DATA.docx',\n",
       " 'C:\\\\Users\\\\Lovisa\\\\Documents\\\\Courses II\\\\E_science_tools HT22\\\\Project\\\\DATA_ZEP_2010to2020\\\\Zeppelin_dNdlogDp_@STP_QA_QCOk_2010_PT20210207.tiff',\n",
       " 'C:\\\\Users\\\\Lovisa\\\\Documents\\\\Courses II\\\\E_science_tools HT22\\\\Project\\\\DATA_ZEP_2010to2020\\\\Zeppelin_dNdlogDp_@STP_QA_QCOk_2011_PT20210207.tiff',\n",
       " 'C:\\\\Users\\\\Lovisa\\\\Documents\\\\Courses II\\\\E_science_tools HT22\\\\Project\\\\DATA_ZEP_2010to2020\\\\Zeppelin_dNdlogDp_@STP_QA_QCOk_2012_PT20210207.tiff',\n",
       " 'C:\\\\Users\\\\Lovisa\\\\Documents\\\\Courses II\\\\E_science_tools HT22\\\\Project\\\\DATA_ZEP_2010to2020\\\\Zeppelin_dNdlogDp_@STP_QA_QCOk_2013_PT20210207.tiff',\n",
       " 'C:\\\\Users\\\\Lovisa\\\\Documents\\\\Courses II\\\\E_science_tools HT22\\\\Project\\\\DATA_ZEP_2010to2020\\\\Zeppelin_dNdlogDp_@STP_QA_QCOk_2014_PT20210207.tiff',\n",
       " 'C:\\\\Users\\\\Lovisa\\\\Documents\\\\Courses II\\\\E_science_tools HT22\\\\Project\\\\DATA_ZEP_2010to2020\\\\Zeppelin_dNdlogDp_@STP_QA_QCOk_2015_PT20210207.tiff',\n",
       " 'C:\\\\Users\\\\Lovisa\\\\Documents\\\\Courses II\\\\E_science_tools HT22\\\\Project\\\\DATA_ZEP_2010to2020\\\\Zeppelin_dNdlogDp_@STP_QA_QCOk_2016_PT20210207.tiff',\n",
       " 'C:\\\\Users\\\\Lovisa\\\\Documents\\\\Courses II\\\\E_science_tools HT22\\\\Project\\\\DATA_ZEP_2010to2020\\\\Zeppelin_dNdlogDp_@STP_QA_QCOk_2017_PT20210207.tiff',\n",
       " 'C:\\\\Users\\\\Lovisa\\\\Documents\\\\Courses II\\\\E_science_tools HT22\\\\Project\\\\DATA_ZEP_2010to2020\\\\Zeppelin_dNdlogDp_@STP_QA_QCOk_2018_PT20210207.tiff',\n",
       " 'C:\\\\Users\\\\Lovisa\\\\Documents\\\\Courses II\\\\E_science_tools HT22\\\\Project\\\\DATA_ZEP_2010to2020\\\\Zeppelin_dNdlogDp_@STP_QA_QCOk_2019_PT20210207.tiff',\n",
       " 'C:\\\\Users\\\\Lovisa\\\\Documents\\\\Courses II\\\\E_science_tools HT22\\\\Project\\\\DATA_ZEP_2010to2020\\\\Zeppelin_dNdlogDp_@STP_QA_QCOk_2020_PT20210207.tiff']"
      ]
     },
     "execution_count": 3,
     "metadata": {},
     "output_type": "execute_result"
    }
   ],
   "source": [
    "# Using glob to import the files in the specified path\n",
    "glob.glob(path+'\\\\*')"
   ]
  },
  {
   "cell_type": "markdown",
   "id": "3791db73",
   "metadata": {},
   "source": [
    "Loading each year of 30 min resolution DMPS data into a dataframe and create a list containing all dataframes.\n",
    "Column headings are added, and data flagged as invalid is removed."
   ]
  },
  {
   "cell_type": "code",
   "execution_count": 4,
   "id": "9b4da706",
   "metadata": {},
   "outputs": [
    {
     "name": "stdout",
     "output_type": "stream",
     "text": [
      "['Year', 'Month', 'Day', 'Hour', 'Minute', 'UFCPC', 'CPC3010', 'Ntot', 'unknown4', 'unknown5', 'unknown6', 'unknown7', 'unknown8', '5.0118723e-09', '5.6234133e-09', '6.3095734e-09', '7.0794578e-09', '7.9432823e-09', '8.9125094e-09', '1.0000000e-08', '1.1220185e-08', '1.2589254e-08', '1.4125375e-08', '1.5848932e-08', '1.7782794e-08', '1.9952623e-08', '2.2387211e-08', '2.5118864e-08', '2.8183829e-08', '3.1622777e-08', '3.5481339e-08', '3.9810717e-08', '4.4668359e-08', '5.0118723e-08', '5.6234133e-08', '6.3095734e-08', '7.0794578e-08', '7.9432823e-08', '8.9125094e-08', '1.0000000e-07', '1.1220185e-07', '1.2589254e-07', '1.4125375e-07', '1.5848932e-07', '1.7782794e-07', '1.9952623e-07', '2.2387211e-07', '2.5118864e-07', '2.8183829e-07', '3.1622777e-07', '3.5481339e-07', '3.9810717e-07', '4.4668359e-07', '5.0118723e-07', '5.6234133e-07', '6.3095734e-07', '7.0794578e-07', 'flag']\n",
      "C:\\Users\\Lovisa\\Documents\\Courses II\\E_science_tools HT22\\Project\\DATA_ZEP_2010to2020\\DMPS_and_CPC_2010_QA_QC@STP_HARMONIZED_PT20210207.dat\n",
      "Size without flags removed: 17520\n",
      "Size flags removed: 5088\n",
      "C:\\Users\\Lovisa\\Documents\\Courses II\\E_science_tools HT22\\Project\\DATA_ZEP_2010to2020\\DMPS_and_CPC_2011_QA_QC@STP_HARMONIZED_PT20210207.dat\n",
      "Size without flags removed: 17520\n",
      "Size flags removed: 9601\n",
      "C:\\Users\\Lovisa\\Documents\\Courses II\\E_science_tools HT22\\Project\\DATA_ZEP_2010to2020\\DMPS_and_CPC_2012_QA_QC@STP_HARMONIZED_PT20210207.dat\n",
      "Size without flags removed: 17568\n",
      "Size flags removed: 14887\n",
      "C:\\Users\\Lovisa\\Documents\\Courses II\\E_science_tools HT22\\Project\\DATA_ZEP_2010to2020\\DMPS_and_CPC_2013_QA_QC@STP_HARMONIZED_PT20210207.dat\n",
      "Size without flags removed: 17520\n",
      "Size flags removed: 15116\n",
      "C:\\Users\\Lovisa\\Documents\\Courses II\\E_science_tools HT22\\Project\\DATA_ZEP_2010to2020\\DMPS_and_CPC_2014_QA_QC@STP_HARMONIZED_PT20210207.dat\n",
      "Size without flags removed: 17520\n",
      "Size flags removed: 8492\n",
      "C:\\Users\\Lovisa\\Documents\\Courses II\\E_science_tools HT22\\Project\\DATA_ZEP_2010to2020\\DMPS_and_CPC_2015_QA_QC@STP_HARMONIZED_PT20210207.dat\n",
      "Size without flags removed: 17520\n",
      "Size flags removed: 7287\n",
      "C:\\Users\\Lovisa\\Documents\\Courses II\\E_science_tools HT22\\Project\\DATA_ZEP_2010to2020\\DMPS_and_CPC_2016_QA_QC@STP_HARMONIZED_PT20210207.dat\n",
      "Size without flags removed: 17568\n",
      "Size flags removed: 10646\n",
      "C:\\Users\\Lovisa\\Documents\\Courses II\\E_science_tools HT22\\Project\\DATA_ZEP_2010to2020\\DMPS_and_CPC_2017_QA_QC@STP_HARMONIZED_PT20210207.dat\n",
      "Size without flags removed: 17520\n",
      "Size flags removed: 13949\n",
      "C:\\Users\\Lovisa\\Documents\\Courses II\\E_science_tools HT22\\Project\\DATA_ZEP_2010to2020\\DMPS_and_CPC_2018_QA_QC@STP_HARMONIZED_PT20210207.dat\n",
      "Size without flags removed: 17520\n",
      "Size flags removed: 9611\n",
      "C:\\Users\\Lovisa\\Documents\\Courses II\\E_science_tools HT22\\Project\\DATA_ZEP_2010to2020\\DMPS_and_CPC_2019_QA_QC@STP_HARMONIZED_PT20210207.dat\n",
      "Size without flags removed: 17520\n",
      "Size flags removed: 8238\n",
      "C:\\Users\\Lovisa\\Documents\\Courses II\\E_science_tools HT22\\Project\\DATA_ZEP_2010to2020\\DMPS_and_CPC_2020_QA_QC@STP_HARMONIZED_PT20210207.dat\n",
      "Size without flags removed: 17568\n",
      "Size flags removed: 14153\n"
     ]
    }
   ],
   "source": [
    "DFs_DMPS = fu.load_and_append_DMPS(path, \n",
    "                             name_in_file='DMPS')"
   ]
  },
  {
   "cell_type": "markdown",
   "id": "464c4803",
   "metadata": {},
   "source": [
    "### Concatenate DMPS data \n",
    "From the list containg one datafram per year, one datframe containg data from all years is created. The columns headings for the bin midpoint diameters are given in the  are renamed to names that are easier to handle"
   ]
  },
  {
   "cell_type": "code",
   "execution_count": 5,
   "id": "b34ae6d3",
   "metadata": {},
   "outputs": [],
   "source": [
    "# Concatenate all the dataframes in list DFs_DMPS to one dataframe and drop unnessesary columns.\n",
    "df_DMPS = fu.concat_df_DMPS(DFs_DMPS)"
   ]
  },
  {
   "cell_type": "markdown",
   "id": "8878a507",
   "metadata": {},
   "source": [
    "Define useful variables and rename the column headings to ease calling of specific columns:"
   ]
  },
  {
   "cell_type": "code",
   "execution_count": 6,
   "id": "ffef984f",
   "metadata": {},
   "outputs": [],
   "source": [
    "# Get a list with the DMPS bin column names as strings \n",
    "bin_col_list = fu.get_bin_column_string_list()\n",
    "\n",
    "# Rename the column headings for midpoint diameters to numeric values with less decimals.\n",
    "df_DMPS = fu.renameDpColumns(df_DMPS, bin_col_list)\n",
    "\n",
    "# Make a list of all the \"real\" non-rounded midpoint diameters as a list and as array.\n",
    "diameterList, diameters = fu.getFloatDiameterListAndArray()\n",
    "\n",
    "# Make a list of diameters as string-objects\n",
    "diameters_as_strings = [str(x) for x in diameters]"
   ]
  },
  {
   "cell_type": "markdown",
   "id": "03d66e28",
   "metadata": {},
   "source": [
    "### Resampling \n",
    "The function ``resample`` was used to convert the 30 min DMPS data to dataframes containing the daily mean, median and 1 hour average. The python function ``resample`` fills the gaps in the data by adding rows for gap days/months/hours with NaN-values to get a continous dataset. Because of this, rows containing only NaN values are dropped. "
   ]
  },
  {
   "cell_type": "code",
   "execution_count": 7,
   "id": "756ce38a",
   "metadata": {},
   "outputs": [],
   "source": [
    "df_daily_2010_2020_mean   = df_DMPS.resample('D').mean()\n",
    "df_daily_2010_2020_mean   = df_daily_2010_2020_mean.dropna(how='all')\n",
    "\n",
    "df_daily_2010_2020_median = df_DMPS.resample('D').median()\n",
    "df_daily_2010_2020_median = df_daily_2010_2020_median.dropna(how='all') \n",
    "\n",
    "df_hourly_2010_2020_mean  = df_DMPS.resample('H').mean()\n",
    "df_hourly_2010_2020_mean  = df_hourly_2010_2020_mean.dropna(how='all')"
   ]
  },
  {
   "cell_type": "markdown",
   "id": "734e9ffc",
   "metadata": {},
   "source": [
    "Describe what the columns are in the data? Maybe this should be done at an earlier stage.."
   ]
  },
  {
   "cell_type": "markdown",
   "id": "8a115f9c",
   "metadata": {},
   "source": [
    "### Methods to identify NPF events\n",
    "Some different methods are tested to identify the NPF events: \n",
    "* By calculation of $\\frac{N_{D_p<10nm}}{N_{tot}}$ \n",
    "* By using K-means clustering\n",
    "* By calculating the difference between the UF-CPC and the CPC \n",
    "\n",
    "The first method requires that the total number concentration $N_{tot}$ is calculated for a given diameter range. For that the log-normal distribution which is provided by the DMPS have to be integrated. Linn Karlsson (e-Science course participant 2017) should be acknowledged for inspiration to the method used in this work (Linn's method invloved the use of dictionaries but here arrays are used instead).  \n",
    "\n",
    "The ``calcNtot`` calculates the particle concentration by integrating in a given bin midpoint diameter interval and adds a column in the dataframe containg the calculated values. "
   ]
  },
  {
   "cell_type": "code",
   "execution_count": 8,
   "id": "72cf4568",
   "metadata": {},
   "outputs": [],
   "source": [
    "# Calculate the total particle number concentration for:\n",
    "\n",
    "# Daily median\n",
    "df_daily_2010_2020_median_ntotCalc = fu.calcNtot(diameters, df_daily_2010_2020_median,diameters_as_strings)\n",
    "\n",
    "# 30 min resolution data\n",
    "df_DMPS_ntotCalc                   = fu.calcNtot(diameters, df_DMPS,diameters_as_strings) \n",
    "\n",
    "# 1 h resolution data\n",
    "df_hourly_2010_2020_mean_ntotCalc  = fu.calcNtot(diameters, df_hourly_2010_2020_mean,diameters_as_strings) "
   ]
  },
  {
   "cell_type": "markdown",
   "id": "9d25a783",
   "metadata": {},
   "source": [
    "### Quality control of calcNtot function for 1h data"
   ]
  },
  {
   "cell_type": "code",
   "execution_count": 9,
   "id": "4f1069de",
   "metadata": {},
   "outputs": [
    {
     "name": "stdout",
     "output_type": "stream",
     "text": [
      "R-squared: 0.999363\n",
      "Intercept: 0.0445901316076629\n",
      "Slope: 1.0004705430431775\n"
     ]
    },
    {
     "data": {
      "image/png": "[encoded data removed]",
      "text/plain": [
       "<Figure size 640x480 with 1 Axes>"
      ]
     },
     "metadata": {},
     "output_type": "display_data"
    }
   ],
   "source": [
    "varx = df_hourly_2010_2020_mean_ntotCalc['NtotCalc'].values\n",
    "vary = df_hourly_2010_2020_mean_ntotCalc['Ntot'].values\n",
    "\n",
    "fu.compareIntegration(varx,vary)"
   ]
  },
  {
   "cell_type": "markdown",
   "id": "d056e75c",
   "metadata": {},
   "source": [
    "### Compare $N_{D_P <x}/N_{tot}$ and compare UFCPC CPC"
   ]
  },
  {
   "cell_type": "markdown",
   "id": "5f905eeb",
   "metadata": {},
   "source": [
    "Integration of lognormal size distribution --> ($N_{D_P <x}$) \n",
    "\n",
    "The aim is to calculate the total particle number concentration (#/$cm^3)$ up to $x$ nm ($N_{D_P <x}$) and compute $N_{D_P <x}/N_{tot}$ to identify NPF events.  "
   ]
  },
  {
   "cell_type": "code",
   "execution_count": 10,
   "id": "49bdb306",
   "metadata": {},
   "outputs": [],
   "source": [
    "# Defining the x = threshold up to which the integration should be performed. \n",
    "threshold = 10\n",
    "\n",
    "bin_cols = fu.get_bins(bin_col_list)\n",
    "bin_cols = [float(x) for x in bin_cols]\n",
    "\n",
    "# bin_cols_LT10nm is the rounded column values as floats less than 10 nm\n",
    "bin_cols_LT10nm = [x for x in bin_cols if x < threshold]\n"
   ]
  },
  {
   "cell_type": "markdown",
   "id": "bbcdf9a2",
   "metadata": {},
   "source": [
    "## Clustering "
   ]
  },
  {
   "cell_type": "markdown",
   "id": "57acd909",
   "metadata": {},
   "source": [
    "Normalize the size distributions before clustering. This implies clustering by the shape of the distribution. The non-normalized approach implies taking into account the difference in particle number concentration in each mode which is a feature of the distribution, as for example NPF event implies a high number concntration of ultra-fine particles. Clustering the non-normalized size distributions was however unsuccesful in terms of physically reasonable size distributions. "
   ]
  },
  {
   "cell_type": "code",
   "execution_count": 11,
   "id": "ef54304c",
   "metadata": {},
   "outputs": [],
   "source": [
    "# Calling function to normalize size distributions \n",
    "\n",
    "df1, df_daily_2010_2020_median_norm = fu.create_normalised_df(df_daily_2010_2020_median)\n",
    "df2, df_daily_2010_2020_mean_norm = fu.create_normalised_df(df_daily_2010_2020_mean)\n",
    "df3, df_daily_2010_2020_1h_mean_norm = fu.create_normalised_df(df_hourly_2010_2020_mean)\n"
   ]
  },
  {
   "cell_type": "markdown",
   "id": "329b7430",
   "metadata": {},
   "source": [
    "#### Cluster normalized daily median and mean data and 1h hour mean"
   ]
  },
  {
   "cell_type": "markdown",
   "id": "1596321b",
   "metadata": {},
   "source": [
    "Define the number of clusters for K-means clustering"
   ]
  },
  {
   "cell_type": "code",
   "execution_count": 58,
   "id": "c9e9ad86",
   "metadata": {},
   "outputs": [],
   "source": [
    "n_clusters = 11\n",
    "\n",
    "#Perform K-means clustering\n",
    "df_norm_clustered_median = fu.perform_clustering(df_daily_2010_2020_median_norm, n_clusters)\n",
    "df_norm_clustered_mean = fu.perform_clustering(df_daily_2010_2020_mean_norm, n_clusters)"
   ]
  },
  {
   "cell_type": "markdown",
   "id": "54e2fb19",
   "metadata": {},
   "source": [
    "1 hour data needs special treatment:\n",
    "Drop the 1st and two last bins before clustering **BUT WHY**?"
   ]
  },
  {
   "cell_type": "code",
   "execution_count": 59,
   "id": "16a65ee7",
   "metadata": {},
   "outputs": [],
   "source": [
    "df_hourly_norm_dropped = df_daily_2010_2020_1h_mean_norm.copy()\n",
    "df_hourly_norm_dropped = df_hourly_norm_dropped.drop \\\n",
    "                         (columns=['norm5.012','norm630.957','norm707.946'])\n",
    "df_norm_clustered_1h_mean = fu.perform_clustering(df_hourly_norm_dropped, n_clusters)"
   ]
  },
  {
   "cell_type": "code",
   "execution_count": 60,
   "id": "de17c8f4",
   "metadata": {},
   "outputs": [
    {
     "data": {
      "text/plain": [
       "(array([ 1,  2,  3,  5,  6,  7,  8,  9, 10, 11], dtype=int64),\n",
       " array([1795, 2261, 5219, 2509, 2220, 3126, 2927, 4333, 4998, 3874],\n",
       "       dtype=int64))"
      ]
     },
     "execution_count": 60,
     "metadata": {},
     "output_type": "execute_result"
    }
   ],
   "source": [
    "# Check that x no of clusters are created\n",
    "np.unique(df_norm_clustered_1h_mean['clusters'].values,return_counts=True)"
   ]
  },
  {
   "cell_type": "code",
   "execution_count": 61,
   "id": "2ac374d9",
   "metadata": {},
   "outputs": [
    {
     "name": "stdout",
     "output_type": "stream",
     "text": [
      "Some clusters peak for the same diameter when number of clusters =  11 . Consider choosing other number of clusters.\n"
     ]
    }
   ],
   "source": [
    "fu.checkUniqueModeDiam(df_norm_clustered_1h_mean,n_clusters)"
   ]
  },
  {
   "cell_type": "markdown",
   "id": "fd82dbbb",
   "metadata": {},
   "source": [
    "#### Cluster 1h-mean data (normalized distributions)"
   ]
  },
  {
   "cell_type": "code",
   "execution_count": 16,
   "id": "b1e8d3c8",
   "metadata": {},
   "outputs": [],
   "source": [
    "# # Look at 1h mean clusters (from excluding the first bin)\n",
    "\n",
    "# # I have dropped two last columns + first (bins that is)\n",
    "# df_mean_1h_clusters = df_clustered_1h_mean.groupby('clusters').mean()\n",
    "# df_std_1h_clusters  = df_clustered_1h_mean.groupby('clusters').std()\n",
    "\n",
    "# fig, ax = plt.subplots(figsize=(8,2))\n",
    "\n",
    "# for i in range(n_clusters):\n",
    "#     ax.plot(diameters[1:-2]*10**9, df_mean_1h_clusters.iloc[i,:].values, '-')\n",
    "    \n",
    "#     ax.fill_between(diameters[1:-2]*10**9, df_mean_1h_clusters.iloc[i,:].values+df_std_1h_clusters.iloc[i,:].values,                    \n",
    "#                         df_mean_1h_clusters.iloc[i,:].values-df_std_1h_clusters.iloc[i,:].values, alpha=0.2)\n",
    "    \n",
    "#     #ax.plot(diameters*10**9, df_median_clusters.iloc[i,:].values, 'k-')\n",
    "#     #ax.set_xticks(bin_cols[::5])\n",
    "#     #ax.set_xscale('log')\n",
    "#     #ax.set_yscale('log')\n",
    "#     #ax.set_ylim(0,1.1)\n",
    "# plt.xlabel('Dp [nm]')\n",
    "# plt.title('1h mean clusters')\n",
    "# plt.ylabel('Not norm concentration')\n",
    "# plt.show()"
   ]
  },
  {
   "cell_type": "code",
   "execution_count": 17,
   "id": "abb5c92b",
   "metadata": {},
   "outputs": [],
   "source": [
    "# # Created df grouped by clusters\n",
    "# df_median_clusters = df_norm_clustered_median.groupby('clusters').median()\n",
    "# df_quantile10_clusters = df_norm_clustered_median.groupby('clusters').quantile(.1)\n",
    "# df_quantile90_clusters = df_norm_clustered_median.groupby('clusters').quantile(.9)\n",
    "\n",
    "# df_mean_clusters = df_norm_clustered_mean.groupby('clusters').mean()\n",
    "# df_std_clusters = df_norm_clustered_mean.groupby('clusters').std()\n"
   ]
  },
  {
   "cell_type": "code",
   "execution_count": 18,
   "id": "a159625d",
   "metadata": {
    "scrolled": false
   },
   "outputs": [],
   "source": [
    "# fig, ax = plt.subplots(figsize=(8,2))\n",
    "\n",
    "# for i in range(n_clusters):\n",
    "#     ax.plot(diameters*10**9, df_median_clusters.iloc[i,:].values, '-')\n",
    "#     ax.plot(diameters*10**9, df_mean_clusters.iloc[i,:].values, 'k-')\n",
    "# #     ax.plot(diameters*10**9, df_median_clusters.iloc[[i]].values, '-')\n",
    "# #     ax.plot(diameters*10**9, df_mean_clusters.iloc[[i]].values, 'k-')\n",
    "#     ax.fill_between(diameters*10**9, df_quantile90_clusters.iloc[i,:].values,\n",
    "#                         df_quantile10_clusters.iloc[i,:].values, alpha=0.2)\n",
    "#     #ax.set_xticks(bin_cols[::5])\n",
    "#     ax.set_xscale('log')\n",
    "#     ax.set_ylim(0,1.1)\n",
    "# plt.xlabel('Dp [nm]')\n",
    "# plt.title('Median daily clusters')\n",
    "# plt.ylabel('Normalised concentration')\n",
    "# plt.show()\n",
    "\n",
    "# # Check to see how mean daily clusters look like---------------------------------------\n",
    "\n",
    "\n",
    "# fig, ax = plt.subplots(figsize=(8,2))\n",
    "\n",
    "# for i in range(n_clusters):\n",
    "#     ax.plot(diameters*10**9, df_mean_clusters.iloc[i,:].values, '-')\n",
    "#     ax.fill_between(diameters*10**9, df_mean_clusters.iloc[i,:].values+df_std_clusters.iloc[i,:].values,                    \n",
    "#                         df_mean_clusters.iloc[i,:].values-df_std_clusters.iloc[i,:].values, alpha=0.2)\n",
    "#     ax.plot(diameters*10**9, df_median_clusters.iloc[i,:].values, 'k-')\n",
    "#     #ax.set_xticks(bin_cols[::5])\n",
    "#     ax.set_xscale('log')\n",
    "#     ax.set_ylim(0,1.1)\n",
    "    \n",
    "    \n",
    "# plt.xlabel('Dp [nm]')\n",
    "# plt.title('Mean daily clusters')\n",
    "# plt.ylabel('Normalised concentration')\n",
    "# plt.show()\n",
    "\n"
   ]
  },
  {
   "cell_type": "markdown",
   "id": "895330d4",
   "metadata": {},
   "source": [
    "## Figures for presentation: 1h data Clusters"
   ]
  },
  {
   "cell_type": "code",
   "execution_count": 19,
   "id": "eb1339c7",
   "metadata": {},
   "outputs": [],
   "source": [
    "# !!! Note that columns have been dropped !!!! -------------------------------------\n",
    "\n",
    "df_norm_clustered_1h_mean_median = df_norm_clustered_1h_mean.groupby('clusters').median()\n",
    "df_norm_clustered_1h_10q         = df_norm_clustered_1h_mean.groupby('clusters').quantile(.1)\n",
    "df_norm_clustered_1h_90q         = df_norm_clustered_1h_mean.groupby('clusters').quantile(.9)\n",
    "\n",
    "df_norm_clustered_1h_mean_mean   = df_norm_clustered_1h_mean.groupby('clusters').mean()\n",
    "df_norm_clustered_1h_std         = df_norm_clustered_1h_mean.groupby('clusters').std()"
   ]
  },
  {
   "cell_type": "code",
   "execution_count": 20,
   "id": "227ef53a",
   "metadata": {},
   "outputs": [
    {
     "data": {
      "text/plain": [
       "(array([1, 2, 3, 4, 5, 7], dtype=int64),\n",
       " array([ 2381,  3376,  3850,  3974, 12210,  7471], dtype=int64))"
      ]
     },
     "execution_count": 20,
     "metadata": {},
     "output_type": "execute_result"
    }
   ],
   "source": [
    "df_norm_clustered_1h_mean_median\n",
    "#df_norm_clustered_1h_mean_mean.iloc[4,:].values)\n",
    "np.unique(df_norm_clustered_1h_mean['clusters'].values,return_counts=True)"
   ]
  },
  {
   "cell_type": "code",
   "execution_count": 21,
   "id": "a57aaa23",
   "metadata": {},
   "outputs": [
    {
     "ename": "IndexError",
     "evalue": "single positional indexer is out-of-bounds",
     "output_type": "error",
     "traceback": [
      "\u001b[1;31m---------------------------------------------------------------------------\u001b[0m",
      "\u001b[1;31mIndexError\u001b[0m                                Traceback (most recent call last)",
      "\u001b[1;32m~\\AppData\\Local\\Temp\\ipykernel_4816\\2996584822.py\u001b[0m in \u001b[0;36m<module>\u001b[1;34m\u001b[0m\n\u001b[0;32m     12\u001b[0m \u001b[1;33m\u001b[0m\u001b[0m\n\u001b[0;32m     13\u001b[0m \u001b[1;32mfor\u001b[0m \u001b[0mi\u001b[0m \u001b[1;32min\u001b[0m \u001b[0mrange\u001b[0m\u001b[1;33m(\u001b[0m\u001b[0mn_clusters\u001b[0m\u001b[1;33m)\u001b[0m\u001b[1;33m:\u001b[0m\u001b[1;33m\u001b[0m\u001b[1;33m\u001b[0m\u001b[0m\n\u001b[1;32m---> 14\u001b[1;33m     \u001b[0max\u001b[0m\u001b[1;33m.\u001b[0m\u001b[0mplot\u001b[0m\u001b[1;33m(\u001b[0m\u001b[0mdiameters\u001b[0m\u001b[1;33m[\u001b[0m\u001b[1;36m1\u001b[0m\u001b[1;33m:\u001b[0m\u001b[1;33m-\u001b[0m\u001b[1;36m2\u001b[0m\u001b[1;33m]\u001b[0m\u001b[1;33m*\u001b[0m\u001b[1;36m10\u001b[0m\u001b[1;33m**\u001b[0m\u001b[1;36m9\u001b[0m\u001b[1;33m,\u001b[0m \u001b[0mdf_norm_clustered_1h_mean_mean\u001b[0m\u001b[1;33m.\u001b[0m\u001b[0miloc\u001b[0m\u001b[1;33m[\u001b[0m\u001b[0mi\u001b[0m\u001b[1;33m,\u001b[0m\u001b[1;33m:\u001b[0m\u001b[1;33m]\u001b[0m\u001b[1;33m.\u001b[0m\u001b[0mvalues\u001b[0m\u001b[1;33m,\u001b[0m \u001b[1;34m'-'\u001b[0m\u001b[1;33m)\u001b[0m\u001b[1;33m\u001b[0m\u001b[1;33m\u001b[0m\u001b[0m\n\u001b[0m\u001b[0;32m     15\u001b[0m     ax.fill_between(diameters[1:-2]*10**9, \n\u001b[0;32m     16\u001b[0m                     \u001b[0mdf_norm_clustered_1h_mean_mean\u001b[0m\u001b[1;33m.\u001b[0m\u001b[0miloc\u001b[0m\u001b[1;33m[\u001b[0m\u001b[0mi\u001b[0m\u001b[1;33m,\u001b[0m\u001b[1;33m:\u001b[0m\u001b[1;33m]\u001b[0m\u001b[1;33m.\u001b[0m\u001b[0mvalues\u001b[0m \u001b[1;33m+\u001b[0m \u001b[0mdf_norm_clustered_1h_std\u001b[0m\u001b[1;33m.\u001b[0m\u001b[0miloc\u001b[0m\u001b[1;33m[\u001b[0m\u001b[0mi\u001b[0m\u001b[1;33m,\u001b[0m\u001b[1;33m:\u001b[0m\u001b[1;33m]\u001b[0m\u001b[1;33m.\u001b[0m\u001b[0mvalues\u001b[0m\u001b[1;33m,\u001b[0m\u001b[1;33m\u001b[0m\u001b[1;33m\u001b[0m\u001b[0m\n",
      "\u001b[1;32m~\\anaconda3\\lib\\site-packages\\pandas\\core\\indexing.py\u001b[0m in \u001b[0;36m__getitem__\u001b[1;34m(self, key)\u001b[0m\n\u001b[0;32m    959\u001b[0m             \u001b[1;32mif\u001b[0m \u001b[0mself\u001b[0m\u001b[1;33m.\u001b[0m\u001b[0m_is_scalar_access\u001b[0m\u001b[1;33m(\u001b[0m\u001b[0mkey\u001b[0m\u001b[1;33m)\u001b[0m\u001b[1;33m:\u001b[0m\u001b[1;33m\u001b[0m\u001b[1;33m\u001b[0m\u001b[0m\n\u001b[0;32m    960\u001b[0m                 \u001b[1;32mreturn\u001b[0m \u001b[0mself\u001b[0m\u001b[1;33m.\u001b[0m\u001b[0mobj\u001b[0m\u001b[1;33m.\u001b[0m\u001b[0m_get_value\u001b[0m\u001b[1;33m(\u001b[0m\u001b[1;33m*\u001b[0m\u001b[0mkey\u001b[0m\u001b[1;33m,\u001b[0m \u001b[0mtakeable\u001b[0m\u001b[1;33m=\u001b[0m\u001b[0mself\u001b[0m\u001b[1;33m.\u001b[0m\u001b[0m_takeable\u001b[0m\u001b[1;33m)\u001b[0m\u001b[1;33m\u001b[0m\u001b[1;33m\u001b[0m\u001b[0m\n\u001b[1;32m--> 961\u001b[1;33m             \u001b[1;32mreturn\u001b[0m \u001b[0mself\u001b[0m\u001b[1;33m.\u001b[0m\u001b[0m_getitem_tuple\u001b[0m\u001b[1;33m(\u001b[0m\u001b[0mkey\u001b[0m\u001b[1;33m)\u001b[0m\u001b[1;33m\u001b[0m\u001b[1;33m\u001b[0m\u001b[0m\n\u001b[0m\u001b[0;32m    962\u001b[0m         \u001b[1;32melse\u001b[0m\u001b[1;33m:\u001b[0m\u001b[1;33m\u001b[0m\u001b[1;33m\u001b[0m\u001b[0m\n\u001b[0;32m    963\u001b[0m             \u001b[1;31m# we by definition only have the 0th axis\u001b[0m\u001b[1;33m\u001b[0m\u001b[1;33m\u001b[0m\u001b[0m\n",
      "\u001b[1;32m~\\anaconda3\\lib\\site-packages\\pandas\\core\\indexing.py\u001b[0m in \u001b[0;36m_getitem_tuple\u001b[1;34m(self, tup)\u001b[0m\n\u001b[0;32m   1459\u001b[0m     \u001b[1;32mdef\u001b[0m \u001b[0m_getitem_tuple\u001b[0m\u001b[1;33m(\u001b[0m\u001b[0mself\u001b[0m\u001b[1;33m,\u001b[0m \u001b[0mtup\u001b[0m\u001b[1;33m:\u001b[0m \u001b[0mtuple\u001b[0m\u001b[1;33m)\u001b[0m\u001b[1;33m:\u001b[0m\u001b[1;33m\u001b[0m\u001b[1;33m\u001b[0m\u001b[0m\n\u001b[0;32m   1460\u001b[0m \u001b[1;33m\u001b[0m\u001b[0m\n\u001b[1;32m-> 1461\u001b[1;33m         \u001b[0mtup\u001b[0m \u001b[1;33m=\u001b[0m \u001b[0mself\u001b[0m\u001b[1;33m.\u001b[0m\u001b[0m_validate_tuple_indexer\u001b[0m\u001b[1;33m(\u001b[0m\u001b[0mtup\u001b[0m\u001b[1;33m)\u001b[0m\u001b[1;33m\u001b[0m\u001b[1;33m\u001b[0m\u001b[0m\n\u001b[0m\u001b[0;32m   1462\u001b[0m         \u001b[1;32mwith\u001b[0m \u001b[0msuppress\u001b[0m\u001b[1;33m(\u001b[0m\u001b[0mIndexingError\u001b[0m\u001b[1;33m)\u001b[0m\u001b[1;33m:\u001b[0m\u001b[1;33m\u001b[0m\u001b[1;33m\u001b[0m\u001b[0m\n\u001b[0;32m   1463\u001b[0m             \u001b[1;32mreturn\u001b[0m \u001b[0mself\u001b[0m\u001b[1;33m.\u001b[0m\u001b[0m_getitem_lowerdim\u001b[0m\u001b[1;33m(\u001b[0m\u001b[0mtup\u001b[0m\u001b[1;33m)\u001b[0m\u001b[1;33m\u001b[0m\u001b[1;33m\u001b[0m\u001b[0m\n",
      "\u001b[1;32m~\\anaconda3\\lib\\site-packages\\pandas\\core\\indexing.py\u001b[0m in \u001b[0;36m_validate_tuple_indexer\u001b[1;34m(self, key)\u001b[0m\n\u001b[0;32m    767\u001b[0m         \u001b[1;32mfor\u001b[0m \u001b[0mi\u001b[0m\u001b[1;33m,\u001b[0m \u001b[0mk\u001b[0m \u001b[1;32min\u001b[0m \u001b[0menumerate\u001b[0m\u001b[1;33m(\u001b[0m\u001b[0mkey\u001b[0m\u001b[1;33m)\u001b[0m\u001b[1;33m:\u001b[0m\u001b[1;33m\u001b[0m\u001b[1;33m\u001b[0m\u001b[0m\n\u001b[0;32m    768\u001b[0m             \u001b[1;32mtry\u001b[0m\u001b[1;33m:\u001b[0m\u001b[1;33m\u001b[0m\u001b[1;33m\u001b[0m\u001b[0m\n\u001b[1;32m--> 769\u001b[1;33m                 \u001b[0mself\u001b[0m\u001b[1;33m.\u001b[0m\u001b[0m_validate_key\u001b[0m\u001b[1;33m(\u001b[0m\u001b[0mk\u001b[0m\u001b[1;33m,\u001b[0m \u001b[0mi\u001b[0m\u001b[1;33m)\u001b[0m\u001b[1;33m\u001b[0m\u001b[1;33m\u001b[0m\u001b[0m\n\u001b[0m\u001b[0;32m    770\u001b[0m             \u001b[1;32mexcept\u001b[0m \u001b[0mValueError\u001b[0m \u001b[1;32mas\u001b[0m \u001b[0merr\u001b[0m\u001b[1;33m:\u001b[0m\u001b[1;33m\u001b[0m\u001b[1;33m\u001b[0m\u001b[0m\n\u001b[0;32m    771\u001b[0m                 raise ValueError(\n",
      "\u001b[1;32m~\\anaconda3\\lib\\site-packages\\pandas\\core\\indexing.py\u001b[0m in \u001b[0;36m_validate_key\u001b[1;34m(self, key, axis)\u001b[0m\n\u001b[0;32m   1362\u001b[0m             \u001b[1;32mreturn\u001b[0m\u001b[1;33m\u001b[0m\u001b[1;33m\u001b[0m\u001b[0m\n\u001b[0;32m   1363\u001b[0m         \u001b[1;32melif\u001b[0m \u001b[0mis_integer\u001b[0m\u001b[1;33m(\u001b[0m\u001b[0mkey\u001b[0m\u001b[1;33m)\u001b[0m\u001b[1;33m:\u001b[0m\u001b[1;33m\u001b[0m\u001b[1;33m\u001b[0m\u001b[0m\n\u001b[1;32m-> 1364\u001b[1;33m             \u001b[0mself\u001b[0m\u001b[1;33m.\u001b[0m\u001b[0m_validate_integer\u001b[0m\u001b[1;33m(\u001b[0m\u001b[0mkey\u001b[0m\u001b[1;33m,\u001b[0m \u001b[0maxis\u001b[0m\u001b[1;33m)\u001b[0m\u001b[1;33m\u001b[0m\u001b[1;33m\u001b[0m\u001b[0m\n\u001b[0m\u001b[0;32m   1365\u001b[0m         \u001b[1;32melif\u001b[0m \u001b[0misinstance\u001b[0m\u001b[1;33m(\u001b[0m\u001b[0mkey\u001b[0m\u001b[1;33m,\u001b[0m \u001b[0mtuple\u001b[0m\u001b[1;33m)\u001b[0m\u001b[1;33m:\u001b[0m\u001b[1;33m\u001b[0m\u001b[1;33m\u001b[0m\u001b[0m\n\u001b[0;32m   1366\u001b[0m             \u001b[1;31m# a tuple should already have been caught by this point\u001b[0m\u001b[1;33m\u001b[0m\u001b[1;33m\u001b[0m\u001b[0m\n",
      "\u001b[1;32m~\\anaconda3\\lib\\site-packages\\pandas\\core\\indexing.py\u001b[0m in \u001b[0;36m_validate_integer\u001b[1;34m(self, key, axis)\u001b[0m\n\u001b[0;32m   1453\u001b[0m         \u001b[0mlen_axis\u001b[0m \u001b[1;33m=\u001b[0m \u001b[0mlen\u001b[0m\u001b[1;33m(\u001b[0m\u001b[0mself\u001b[0m\u001b[1;33m.\u001b[0m\u001b[0mobj\u001b[0m\u001b[1;33m.\u001b[0m\u001b[0m_get_axis\u001b[0m\u001b[1;33m(\u001b[0m\u001b[0maxis\u001b[0m\u001b[1;33m)\u001b[0m\u001b[1;33m)\u001b[0m\u001b[1;33m\u001b[0m\u001b[1;33m\u001b[0m\u001b[0m\n\u001b[0;32m   1454\u001b[0m         \u001b[1;32mif\u001b[0m \u001b[0mkey\u001b[0m \u001b[1;33m>=\u001b[0m \u001b[0mlen_axis\u001b[0m \u001b[1;32mor\u001b[0m \u001b[0mkey\u001b[0m \u001b[1;33m<\u001b[0m \u001b[1;33m-\u001b[0m\u001b[0mlen_axis\u001b[0m\u001b[1;33m:\u001b[0m\u001b[1;33m\u001b[0m\u001b[1;33m\u001b[0m\u001b[0m\n\u001b[1;32m-> 1455\u001b[1;33m             \u001b[1;32mraise\u001b[0m \u001b[0mIndexError\u001b[0m\u001b[1;33m(\u001b[0m\u001b[1;34m\"single positional indexer is out-of-bounds\"\u001b[0m\u001b[1;33m)\u001b[0m\u001b[1;33m\u001b[0m\u001b[1;33m\u001b[0m\u001b[0m\n\u001b[0m\u001b[0;32m   1456\u001b[0m \u001b[1;33m\u001b[0m\u001b[0m\n\u001b[0;32m   1457\u001b[0m     \u001b[1;31m# -------------------------------------------------------------------\u001b[0m\u001b[1;33m\u001b[0m\u001b[1;33m\u001b[0m\u001b[0m\n",
      "\u001b[1;31mIndexError\u001b[0m: single positional indexer is out-of-bounds"
     ]
    },
    {
     "data": {
      "image/png": "[encoded data removed]",
      "text/plain": [
       "<Figure size 1000x400 with 1 Axes>"
      ]
     },
     "metadata": {},
     "output_type": "display_data"
    }
   ],
   "source": [
    "# Check to see how 1h mean clusters look like---------------------------------------\n",
    "\n",
    "df_norm_clustered_1h_mean_median = df_norm_clustered_1h_mean.groupby('clusters').median()\n",
    "df_norm_clustered_1h_10q = df_norm_clustered_1h_mean.groupby('clusters').quantile(.1)\n",
    "df_norm_clustered_1h_90q = df_norm_clustered_1h_mean.groupby('clusters').quantile(.9)\n",
    "\n",
    "\n",
    "df_norm_clustered_1h_mean_mean = df_norm_clustered_1h_mean.groupby('clusters').mean()\n",
    "df_norm_clustered_1h_std = df_norm_clustered_1h_mean.groupby('clusters').std()\n",
    "\n",
    "fig, ax = plt.subplots(figsize=(10,4))\n",
    "\n",
    "for i in range(n_clusters):\n",
    "    ax.plot(diameters[1:-2]*10**9, df_norm_clustered_1h_mean_mean.iloc[i,:].values, '-')\n",
    "    ax.fill_between(diameters[1:-2]*10**9, \n",
    "                    df_norm_clustered_1h_mean_mean.iloc[i,:].values + df_norm_clustered_1h_std.iloc[i,:].values,                    \n",
    "                    df_norm_clustered_1h_mean_mean.iloc[i,:].values - df_norm_clustered_1h_std.iloc[i,:].values, alpha=0.2)\n",
    "    \n",
    "    # Plot the median to see similarity\n",
    "    ax.plot(diameters[1:-2]*10**9, df_norm_clustered_1h_mean_median.iloc[i,:].values, 'k-')\n",
    "    #ax.set_xticks(bin_cols[::5])\n",
    "    ax.set_xscale('log')\n",
    "    ax.set_ylim(0,1.1)\n",
    "    for spine in ['top', 'right']:\n",
    "        ax.spines[spine].set_visible(False)\n",
    "        ax.spines[spine].set_linewidth(3)\n",
    "    \n",
    "  \n",
    "    \n",
    "plt.xlabel('Dp [nm]')\n",
    "plt.title('1h mean clusters (mean+ 1std)')\n",
    "plt.ylabel('Normalised concentration')\n",
    "plt.show()\n",
    "\n"
   ]
  },
  {
   "cell_type": "code",
   "execution_count": null,
   "id": "8bc917db",
   "metadata": {},
   "outputs": [],
   "source": [
    "# Median 1h mean clusters----------------------------------------------\n",
    "\n",
    "\n",
    "fig, ax = plt.subplots(figsize=(10,4))\n",
    "\n",
    "# Make a list of all cluster ID:s i.e.: 1,..,n_clusters\n",
    "clusters = list(range(1,n_clusters+1,1))\n",
    "\n",
    "for cluster in clusters:\n",
    "    #print(cluster)\n",
    "    df_cluster = df_norm_clustered_1h_mean_median[df_norm_clustered_1h_mean_median.index == cluster]\n",
    "    df_cluster_mean = df_norm_clustered_1h_mean_mean[df_norm_clustered_1h_mean_mean.index == cluster]\n",
    "    df_cluster90 = df_norm_clustered_1h_90q[df_norm_clustered_1h_90q.index == cluster]\n",
    "    df_cluster10 = df_norm_clustered_1h_10q[df_norm_clustered_1h_10q.index == cluster]\n",
    "    \n",
    "    ax.plot(diameters[1:-2]*10**9, df_cluster.iloc[0,:].values, '-', \n",
    "            label='cluster: '+str(cluster))\n",
    "    ax.fill_between(diameters[1:-2]*10**9, \n",
    "                    df_cluster90.iloc[0,:].values,\n",
    "                    df_cluster10.iloc[0,:].values,\n",
    "                    alpha=0.2, )\n",
    "    \n",
    "    \n",
    "    # Plot the mean to see similarity\n",
    "    ax.plot(diameters[1:-2]*10**9, df_cluster_mean.iloc[0,:].values, 'k:',alpha=0.3)\n",
    "    #ax.set_xticks(bin_cols[::5])\n",
    "    ax.set_xscale('log')\n",
    "    ax.set_ylim(0,1.1)\n",
    "    \n",
    "\n",
    "for spine in ['top', 'right']:\n",
    "    ax.spines[spine].set_visible(False)\n",
    "    ax.spines[spine].set_linewidth(0.5)\n",
    "    \n",
    "plt.xlabel('Dp [nm]')\n",
    "plt.title('K-means clustering (median+10/90th percentile)', loc='left')\n",
    "plt.ylabel('$dN/dLogD_p$ (normalized)')\n",
    "plt.legend(frameon=False,bbox_to_anchor=(.85, 1))\n",
    "plt.show()"
   ]
  },
  {
   "cell_type": "code",
   "execution_count": null,
   "id": "2e0f6335",
   "metadata": {},
   "outputs": [],
   "source": [
    "#df_cluster.iloc[0,:].values"
   ]
  },
  {
   "cell_type": "code",
   "execution_count": null,
   "id": "7281eceb",
   "metadata": {},
   "outputs": [],
   "source": [
    "#df_norm_clustered_1h_90q"
   ]
  },
  {
   "cell_type": "markdown",
   "id": "8ec9787d",
   "metadata": {},
   "source": [
    "### Look at trends in 1h mean data "
   ]
  },
  {
   "cell_type": "code",
   "execution_count": null,
   "id": "606e42a9",
   "metadata": {
    "scrolled": false
   },
   "outputs": [],
   "source": [
    "# Create temporary copy\n",
    "df_tmp = df_hourly_2010_2020_mean.copy(deep = True)\n",
    "# df_tmp = df_tmp.drop(columns=['UFCPC','CPC3010','Ntot','flag'])\n",
    "# # =['UFCPC','5.012','630.957','707.946','CPC3010','Ntot','flag'])\n",
    "\n",
    "# In temporary copy of mean data add columns: \n",
    "\n",
    "\n",
    "# Create Nx/Ntot for 1 h mean data\n",
    "\n",
    "df_tmp = fu.calcNtot(diameters[:len(bin_cols_LT10nm)+1], df_tmp,diameters_as_strings)\n",
    "df_tmp_nxntot = df_tmp.copy(deep = True)\n",
    "\n",
    "df_tmp_nxntot['NxNtot'] = df_tmp_nxntot['NtotCalc']/df_tmp_nxntot['Ntot']\n",
    "\n",
    "# Drop NaN:s\n",
    "df_tmp_nxntot = df_tmp_nxntot.dropna(subset =['NxNtot'])\n",
    "\n",
    "# Look at annual cycle for NxNtot\n",
    "df_tmp_nxntot_mean = df_tmp_nxntot['NxNtot'].groupby(df_tmp_nxntot.index.month).mean()\n",
    "df_tmp_nxntot_std = df_tmp_nxntot['NxNtot'].groupby(df_tmp_nxntot.index.month).std()\n",
    "\n",
    "df_tmp_nxntot_median = df_tmp_nxntot['NxNtot'].groupby(df_tmp_nxntot.index.month).median()\n",
    "df_tmp_nxntot_10q = df_tmp_nxntot['NxNtot'].groupby(df_tmp_nxntot.index.month).quantile(0.1)\n",
    "df_tmp_nxntot_90q = df_tmp_nxntot['NxNtot'].groupby(df_tmp_nxntot.index.month).quantile(0.9)\n",
    "\n",
    "# Create UF CPC/CPC ratio for 1 h mean data\n",
    "df_tmp_rat =  df_tmp.copy(deep = True)\n",
    "df_tmp_rat['ratio_CPCs'] = df_tmp_rat['UFCPC']/df_tmp_rat['CPC3010']\n",
    "\n",
    "# Drop NaN:s\n",
    "df_tmp_rat = df_tmp_rat.dropna(subset =['ratio_CPCs'])\n",
    "\n",
    "df_1h_annual_cycle_rat_mean = df_tmp_rat['ratio_CPCs'].groupby(df_tmp_rat.index.month).mean()\n",
    "df_1h_annual_cycle_rat_std = df_tmp_rat['ratio_CPCs'].groupby(df_tmp_rat.index.month).std()\n",
    "8\n",
    "df_1h_annual_cycle_rat_median = df_tmp_rat['ratio_CPCs'].groupby(df_tmp_rat.index.month).median()\n",
    "df_1h_annual_cycle_rat_10q    = df_tmp_rat['ratio_CPCs'].groupby(df_tmp_rat.index.month).quantile(0.1)\n",
    "df_1h_annual_cycle_rat_90q    = df_tmp_rat['ratio_CPCs'].groupby(df_tmp_rat.index.month).quantile(0.9)\n",
    "\n",
    "# Create absolute diff Uf cpc - cpc----------------------------------------------------------\n",
    "\n",
    "df_tmp['abs_diff'] = np.absolute(df_tmp['UFCPC']-df_tmp['CPC3010'])\n",
    "\n",
    "df_tmp_adiff = df_tmp.copy(deep = True)\n",
    "\n",
    "# Drop NaN's\n",
    "df_tmp_adiff = df_tmp_adiff.dropna(subset =['abs_diff'])\n",
    "\n",
    "df_1h_annual_cycle_adiff_mean = df_tmp_adiff['abs_diff'].groupby(df_tmp_adiff.index.month).mean()\n",
    "df_1h_annual_cycle_adiff_std = df_tmp_adiff['abs_diff'].groupby(df_tmp_adiff.index.month).std()\n",
    "\n",
    "df_1h_annual_cycle_adiff_median = df_tmp_adiff['abs_diff'].groupby(df_tmp_adiff.index.month).median()\n",
    "df_1h_annual_cycle_adiff_10q = df_tmp_adiff['abs_diff'].groupby(df_tmp_adiff.index.month).quantile(0.1)\n",
    "df_1h_annual_cycle_adiff_90q = df_tmp_adiff['abs_diff'].groupby(df_tmp_adiff.index.month).quantile(0.9)\n",
    "\n",
    "# Create diff UFcpc and cpc----------------------------------------------------------\n",
    "\n",
    "df_tmp['diff_cpcs'] = df_tmp['UFCPC']-df_tmp['CPC3010']\n",
    "\n",
    "# Have to drop nans!!!!!!!\n",
    "\n",
    "df_tmp_diff = df_tmp.copy(deep = True)\n",
    "df_tmp_diff = df_tmp_diff.dropna(subset =['diff_cpcs'])\n",
    "\n",
    "df_1h_annual_cycle_diff_mean = df_tmp_diff['diff_cpcs'].groupby(df_tmp_diff.index.month).mean()\n",
    "df_1h_annual_cycle_diff_std = df_tmp_diff['diff_cpcs'].groupby(df_tmp_diff.index.month).std()\n",
    "\n",
    "df_1h_annual_cycle_diff_median = df_tmp_diff['diff_cpcs'].groupby(df_tmp_diff.index.month).median()\n",
    "df_1h_annual_cycle_diff_10q = df_tmp_diff['diff_cpcs'].groupby(df_tmp_diff.index.month).quantile(0.1)\n",
    "df_1h_annual_cycle_diff_90q = df_tmp_diff['diff_cpcs'].groupby(df_tmp_diff.index.month).quantile(0.9)\n",
    "\n",
    "#--------------------------------------------------------------------------------------------------\n",
    "\n",
    "def makeTrendPlotsMean(dfMean, dfStd, xL, yL, tL):\n",
    "    fig, axs = plt.subplots(1, figsize=(8, 5))\n",
    "    axs.plot(dfMean.index, \n",
    "             dfMean.values,\n",
    "             'o-', label= 'Mean')\n",
    "    min_std = dfMean.values - dfStd.values\n",
    "    #min_std[min_std<0]=0\n",
    "    \n",
    "    axs.fill_between(dfMean.index,\n",
    "                dfMean.values + dfStd.values,\n",
    "                min_std,\n",
    "                alpha=0.2,label= '+/-1$\\sigma$')\n",
    "    axs.legend(frameon=False)\n",
    "    axs.set_xlabel(xL)\n",
    "    axs.set_ylabel(yL)\n",
    "    axs.set_title(tL) \n",
    "    return fig, axs\n",
    "\n",
    "def makeTrendPlotsMedian(dfMedian, dfUpperQ, dfLowerQ, UQ, LQ, xL, yL, tL):\n",
    "    fig, axs = plt.subplots(1, figsize=(8, 5))\n",
    "    axs.plot(dfMedian.index, \n",
    "             dfMedian.values,\n",
    "             'ro-', label= 'Median')\n",
    "    axs.fill_between(dfMedian.index,\n",
    "                dfUpperQ,\n",
    "                dfLowerQ,\n",
    "                color ='r',alpha=0.2,label= str(LQ)+'-'+str(UQ)+' percentiles')\n",
    "    axs.legend(frameon=False)\n",
    "    axs.set_xlabel(xL)\n",
    "    axs.set_ylabel(yL)\n",
    "    axs.set_title(tL) \n",
    "    return fig, axs\n",
    "\n",
    "# Plot ratios from calculated area ratio\n",
    "fig1,axs1 = makeTrendPlotsMean(df_tmp_nxntot_mean,\n",
    "                             df_tmp_nxntot_std,\n",
    "                            'Month','$N_x/N_{tot}$',\n",
    "                            'Annual cycle (1 h mean) from calulated $N_x/N_{tot}$')\n",
    "\n",
    "fig12,axs12 = makeTrendPlotsMedian(df_tmp_nxntot_median,\n",
    "                            df_tmp_nxntot_90q,\n",
    "                            df_tmp_nxntot_10q,\n",
    "                            90,10,'Month','$N_x/N_{tot}$',\n",
    "                            'Annual cycle (1 h mean) $N_x/N_{tot}$')\n",
    "\n",
    "# Plot cpc ratios\n",
    "\n",
    "fig31,axs31 = makeTrendPlotsMean(df_1h_annual_cycle_rat_mean,\n",
    "                             df_1h_annual_cycle_rat_std,\n",
    "                            'Month','$CPC_{UF}/CPC$',\n",
    "                            'Annual cycle (1 h mean) $CPC_{UF}/CPC$')\n",
    "\n",
    "fig32,axs32 = makeTrendPlotsMedian(df_1h_annual_cycle_rat_median,\n",
    "                                    df_1h_annual_cycle_rat_90q,\n",
    "                                    df_1h_annual_cycle_rat_10q,\n",
    "                                    90,10,\n",
    "                                    'Month','$CPC_{UF}/CPC$',\n",
    "                                    'Annual cycle (1 h mean) $CPC_{UF}/CPC$')\n",
    "\n",
    "# Plot abs diff cpc:s\n",
    "\n",
    "fig41,axs41 = makeTrendPlotsMean(df_1h_annual_cycle_adiff_mean,\n",
    "                             df_1h_annual_cycle_adiff_std,\n",
    "                            'Month','$|CPC_{UF}-CPC|$',\n",
    "                            'Annual cycle (1 h mean) $|CPC_{UF}-CPC$|')\n",
    "\n",
    "fig42,axs42 = makeTrendPlotsMedian(df_1h_annual_cycle_adiff_median,\n",
    "                                    df_1h_annual_cycle_adiff_90q,\n",
    "                                    df_1h_annual_cycle_adiff_10q,\n",
    "                                    90,10,\n",
    "                                    'Month','$|CPC_{UF}-CPC|$',\n",
    "                                    'Annual cycle (1 h mean) $|CPC_{UF}-CPC$|')\n",
    "axs42.plot()\n",
    "\n",
    "# Plot diff cpc:s\n",
    "fig52,axs52 = makeTrendPlotsMean(df_1h_annual_cycle_diff_mean,\n",
    "                                     df_1h_annual_cycle_diff_std,\n",
    "                                    'Month','$CPC_{UF}-CPC$',\n",
    "                                    'Annual cycle (1 h mean) $CPC_{UF}-CPC$')\n",
    "\n",
    "fig61,axs61 = makeTrendPlotsMedian(df_1h_annual_cycle_diff_median,\n",
    "                                    df_1h_annual_cycle_diff_90q,\n",
    "                                    df_1h_annual_cycle_diff_10q,\n",
    "                                    90,10,\n",
    "                                    'Month','$CPC_{UF}-CPC$',\n",
    "                                    'Annual cycle (1 h mean) $CPC_{UF}-CPC$')\n",
    "\n",
    "fig62,axs62 = makeTrendPlotsMean(df_1h_annual_cycle_diff_mean,\n",
    "                                     df_1h_annual_cycle_diff_std,\n",
    "                                    'Month','$CPC_{UF}-CPC$',\n",
    "                                    'Annual cycle (1 h mean) $CPC_{UF}-CPC$')\n",
    "# print(df_hourly_2010_2020_mean_copy.shape)\n",
    "\n",
    "# # Create abs(UF_CPC-CPC ) for 1 h mean data \n",
    "# df_hourly_2010_2020_mean_copy['absDiff'] = np.absolute( df_tmp['UFCPC']-df_tmp['CPC3010'])\n",
    "# print(df_hourly_2010_2020_mean_copy.shape)\n",
    "\n",
    "\n",
    "df_cluster = df_tmp_adiff.copy(deep = 'true')\n",
    "# Create a column called day of year (DoY) which gives the day of the year 1 to 366\n",
    "df_cluster.loc[:,'DoY'] = df_cluster.index.dayofyear\n",
    "df_cluster = df_cluster.dropna(subset =['DoY'])\n",
    "\n",
    "# Calculate the occurence of cluster \"cluster\" per month\n",
    "df_cluster_count = df_cluster.groupby('DoY').count()\n"
   ]
  },
  {
   "cell_type": "markdown",
   "id": "1345618f",
   "metadata": {},
   "source": [
    "# For presentation"
   ]
  },
  {
   "cell_type": "code",
   "execution_count": null,
   "id": "b3f4ebc0",
   "metadata": {
    "scrolled": false
   },
   "outputs": [],
   "source": [
    "def makeTrendPlotsMedian2(dfMedian, dfUpperQ, dfLowerQ, UQ, LQ, xL, yL, tL):\n",
    "    fig, axs = plt.subplots(1, figsize=(8, 5))\n",
    "    axs.plot(dfMedian.index, \n",
    "             dfMedian.values,\n",
    "             'ro-', label= 'Median $|CPC_{UF}-CPC$|')\n",
    "    axs.fill_between(dfMedian.index,\n",
    "                dfUpperQ,\n",
    "                dfLowerQ,\n",
    "                color ='r',alpha=0.2,label= str(LQ)+'-'+str(UQ)+' percentiles')\n",
    "    axs.legend(frameon=False)\n",
    "    axs.set_xlabel(xL)\n",
    "    axs.set_ylabel(yL)\n",
    "    axs.set_title(tL) \n",
    "    return fig, axs\n",
    "\n",
    "\n",
    "\n",
    "# Plot abs diff cpc:s\n",
    "\n",
    "\n",
    "fig66,axs66 = makeTrendPlotsMedian2(df_1h_annual_cycle_adiff_median,\n",
    "                                    df_1h_annual_cycle_adiff_90q,\n",
    "                                    df_1h_annual_cycle_adiff_10q,\n",
    "                                    90,10,\n",
    "                                    'Month','$|CPC_{UF}-CPC|$',\n",
    "                                    '$|CPC_{UF}-CPC$|')\n",
    "axs66.plot(df_1h_annual_cycle_adiff_mean.index,df_1h_annual_cycle_adiff_mean,'r',\n",
    "          label = 'Mean $|CPC_{UF}-CPC$|', ls=':')\n",
    "#axs66.legend(frameon=False) \n",
    "\n",
    "\n",
    "# Create a temporary copy of cluster-assigned data (normalized)\n",
    "df_norm_clustered_1h_mean_copy = df_norm_clustered_1h_mean.copy()\n",
    "\n",
    "clusters = [1, 2]\n",
    "\n",
    "\n",
    "for cluster in clusters:\n",
    "    df_cluster = df_norm_clustered_1h_mean_copy[df_norm_clustered_1h_mean_copy['clusters'] == cluster]\n",
    "    df_cluster = df_cluster.copy()\n",
    "    \n",
    "    # Create a cloumn called month in dataframe\n",
    "    df_cluster.loc[:,'month'] =  df_cluster.index.month\n",
    "    \n",
    "    # Calculate the occurence of cluster \"cluster\" per month\n",
    "    df_cluster_count = df_cluster.groupby('month').count()\n",
    "    \n",
    "    axs66.plot(df_cluster_count.index, \n",
    "               df_cluster_count.iloc[:,0], 'o-', \n",
    "               label='cluster: '+str(cluster),\n",
    "              alpha = 0.4, ls= ':')\n",
    "    \n",
    "    axs66.set_xlabel('Month')\n",
    "    axs66.set_ylabel('Occurence')\n",
    "    axs66.legend(frameon=False)\n",
    "plt.legend(frameon=False,bbox_to_anchor=(1, 1))    \n",
    "    "
   ]
  },
  {
   "cell_type": "code",
   "execution_count": null,
   "id": "490a8e4c",
   "metadata": {},
   "outputs": [],
   "source": [
    "df_cluster_count.head()"
   ]
  },
  {
   "cell_type": "code",
   "execution_count": null,
   "id": "042df3ed",
   "metadata": {},
   "outputs": [],
   "source": [
    "# Create a temporary copy of cluster-assigned data (normalized)\n",
    "df_norm_clustered_1h_mean_copy = df_norm_clustered_1h_mean.copy()\n",
    "\n",
    "clusters = [1, 2, 3, 4, 5]\n",
    "\n",
    "fig, ax = plt.subplots(figsize=(10,5))\n",
    "\n",
    "for cluster in clusters:\n",
    "    df_cluster = df_norm_clustered_1h_mean_copy[df_norm_clustered_1h_mean_copy['clusters'] == cluster]\n",
    "    df_cluster = df_cluster.copy()\n",
    "    \n",
    "    # Create a cloumn called month in dataframe\n",
    "    df_cluster.loc[:,'month'] =  df_cluster.index.month\n",
    "    \n",
    "    # Calculate the occurence of cluster \"cluster\" per month\n",
    "    df_cluster_count = df_cluster.groupby('month').count()\n",
    "    \n",
    "    ax.plot(df_cluster_count.index, df_cluster_count.iloc[:,0], 'o-', label='cluster: '+str(cluster))\n",
    "    ax.set_xlabel('Month')\n",
    "    ax.set_ylabel('Occurence')\n",
    "    ax.legend(frameon=False)\n",
    "\n",
    "fig, ax = plt.subplots(figsize=(10,5))\n",
    "\n",
    "# Make stack plot from montly resample\n",
    "\n",
    "\n",
    "fig, ax = plt.subplots(figsize=(10,5))\n",
    "\n",
    "for cluster in clusters:\n",
    "    df_cluster = df_norm_clustered_1h_mean_copy[df_norm_clustered_1h_mean_copy['clusters'] == cluster]\n",
    "    df_cluster = df_cluster.copy()\n",
    "    \n",
    "    # Create a cloumn called month in dataframe\n",
    "    df_cluster.loc[:,'month'] =  df_cluster.index.month\n",
    "    \n",
    "    # Calculate the occurence of cluster \"cluster\" per month\n",
    "    df_cluster_count = df_cluster.groupby('month').count()\n",
    "    \n",
    "    ax.plot(df_cluster_count.index, df_cluster_count.iloc[:,0], 'o-', label='cluster: '+str(cluster))\n",
    "    ax.set_xlabel('Month')\n",
    "    ax.set_ylabel('Occurence')\n",
    "    ax.legend(frameon=False)\n",
    "\n",
    "\n",
    "\n",
    "\n",
    "# for cluster in clusters:\n",
    "#     df_cluster = df_norm_clustered_1h_mean_copy[df_norm_clustered_1h_mean_copy['clusters'] == cluster]\n",
    "#     df_cluster = df_cluster.copy()\n",
    "    \n",
    "#     # Create a column called day of year (DoY) which gives the day of the year 1 to 366\n",
    "#     df_cluster.loc[:,'DoY'] = df_cluster.index.dayofyear\n",
    "    \n",
    "#     # Calculate the occurence of cluster \"cluster\" per month\n",
    "#     df_cluster_count = df_cluster.groupby('DoY').count()\n",
    "    \n",
    "#     # Plot the occurence of cluster X vs the day of year\n",
    "#     ax.plot(df_cluster_count.index, df_cluster_count.iloc[:,0], '-', label='cluster: '+str(cluster))\n",
    "#     ax.set_xlabel('Day of Year')\n",
    "#     ax.set_ylabel('Frequency')\n",
    "#     ax.legend(frameon=False) \n",
    "    \n",
    "# fig, ax = plt.subplots(figsize=(10,5))\n",
    "\n",
    "\n",
    "# # Normalized\n",
    "\n",
    "# for cluster in clusters:\n",
    "#     df_cluster = df_norm_clustered_1h_mean_copy[df_norm_clustered_1h_mean_copy['clusters'] == cluster]\n",
    "#     df_cluster = df_cluster.copy()\n",
    "    \n",
    "#     # Create a column called day of year (DoY) which gives the day of the year 1 to 366\n",
    "#     df_cluster.loc[:,'DoY'] = df_cluster.index.dayofyear\n",
    "    \n",
    "#     # Calculate the occurence of cluster \"cluster\" per month\n",
    "#     df_cluster_count = df_cluster.groupby('DoY').count()\n",
    "    \n",
    "#     # Plot the occurence of cluster X vs the day of year\n",
    "#     ax.plot(df_cluster_count.index,\n",
    "#             df_cluster_count.iloc[:,0]/df_cluster_count.iloc[:,0].max(),\n",
    "#             '-', label='cluster: '+str(cluster))\n",
    "    \n",
    "#     ax.set_xlabel('Day of Year')\n",
    "#     ax.set_ylabel('Normalized Frequency')\n",
    "#     ax.legend(frameon=False) \n",
    "    \n",
    "\n"
   ]
  },
  {
   "cell_type": "code",
   "execution_count": null,
   "id": "af5ce0fb",
   "metadata": {},
   "outputs": [],
   "source": [
    "df_clusters_month = pd.DataFrame(columns=clusters)\n",
    "print(df_clusters_month)\n",
    "for cluster in clusters:\n",
    "    df_cluster = df_norm_clustered_1h_mean_copy[df_norm_clustered_1h_mean_copy['clusters'] == cluster]\n",
    "    df_cluster = df_cluster.copy()    \n",
    "    df_cluster.loc[:,'month'] =  df_cluster.index.month    \n",
    "    # Calculate the occurence of cluster \"cluster\" per month\n",
    "    df_cluster_count = df_cluster.groupby('month').count()    \n",
    "    monthly_occurance = df_cluster_count.iloc[:,0].values\n",
    "    print(monthly_occurance)\n",
    "    df_clusters_month[cluster] = monthly_occurance\n",
    "    \n",
    "df_clusters_month['total_freq'] = df_clusters_month.sum(axis=1)\n",
    "df_clusters_month = df_clusters_month.div(df_clusters_month['total_freq'], axis=0)    "
   ]
  },
  {
   "cell_type": "code",
   "execution_count": null,
   "id": "31d4cc1d",
   "metadata": {},
   "outputs": [],
   "source": [
    "df_clusters_month"
   ]
  },
  {
   "cell_type": "code",
   "execution_count": null,
   "id": "691fb126",
   "metadata": {},
   "outputs": [],
   "source": [
    "df_clusters_month[clusters].plot(kind='bar', \n",
    "                    stacked=True, \n",
    "                    colormap='Set2',\n",
    "                    width = 0.9,            \n",
    "                    figsize=(10, 6))\n",
    "\n",
    "\n",
    "\n",
    "plt.ylabel(\"Normalized occurence\")\n",
    "plt.ylim(0,1)\n",
    "plt.legend(title = 'Cluster:',frameon=False,bbox_to_anchor=(1, 1))\n",
    "plt.xticks(np.arange(0, 12, 1), ['Jan', 'Feb', 'Mar', 'Apr', 'May', 'Jun', 'Jul', 'Aug', 'Sept', 'Oct', 'Nov', 'Dec'],)\n",
    "plt.xticks(rotation = 45)"
   ]
  },
  {
   "cell_type": "code",
   "execution_count": null,
   "id": "3c12f3ae",
   "metadata": {},
   "outputs": [],
   "source": [
    "df_cluster.loc[:,'date'] = df_cluster.index.map(datetime.datetime.toordinal) \n",
    "df_cluster.loc[:,'date'] = df_cluster.loc[:,'date'] - df_cluster.loc[:,'date'][0] + 1"
   ]
  },
  {
   "cell_type": "markdown",
   "id": "68bb65d0",
   "metadata": {},
   "source": [
    "### Make nice MJJ trend"
   ]
  },
  {
   "cell_type": "code",
   "execution_count": null,
   "id": "20f0db07",
   "metadata": {},
   "outputs": [],
   "source": [
    "df_trend = df_norm_clustered_1h_mean_copy.copy()\n",
    "\n",
    "# df_trend['Month'] = df_trend.index\n",
    "# df_trend['Year']  =\n",
    "dt_array = df_trend.index.values\n",
    "df_trend['dtObjects'] = dt_array\n",
    "df_trend['month_year'] = pd.to_datetime(df_trend['dtObjects']).dt.to_period('M')\n",
    "df_trend['month'] = df_trend['dtObjects'].dt.month\n",
    "df_trend['year'] = df_trend['dtObjects'].dt.year\n",
    "\n",
    "clusters = [1, 2, 3, 4, 5]\n",
    "\n",
    "# Create a dataframe from dictionaries as sometimes ther might not be any cluster 3 for example in some month --> \n",
    "# Problem that when we group by month-year we don't get the \n",
    "\n",
    "list_of_dicts = []\n",
    "for cluster in clusters:\n",
    "    df_cluster = df_trend[df_trend['clusters'] == cluster]\n",
    "    df_cluster = df_cluster.copy()    \n",
    "    #print(cluster)   \n",
    "    # Calculate the occurence of cluster \"cluster\" per month\n",
    "    df_cluster_count  = df_cluster.groupby('month_year').count()    \n",
    "    monthly_occurance = df_cluster_count.iloc[:,0].values\n",
    "    \n",
    "    \n",
    "    dict_cluster = dict(zip(df_cluster_count.index, monthly_occurance))\n",
    "    \n",
    "    #print(dict_cluster)\n",
    "    list_of_dicts.append(dict_cluster)\n",
    "    #print(list_of_dicts)\n",
    "\n",
    "# ds is a dataframe whcih contains the rows = cluster no, and rows equal to month-year. \n",
    "df_clusters_seqMonth = pd.DataFrame(list_of_dicts)\n",
    "#     print(monthly_occurance)\n",
    "#     df_clusters_seqmonth[cluster] = monthly_occurance\n"
   ]
  },
  {
   "cell_type": "code",
   "execution_count": null,
   "id": "8f41cf82",
   "metadata": {},
   "outputs": [],
   "source": [
    "type(df_trend.index.values)"
   ]
  },
  {
   "cell_type": "code",
   "execution_count": null,
   "id": "80d46ab3",
   "metadata": {},
   "outputs": [],
   "source": [
    "# The days that have zero count get a Nan values that should be replaced by 0\n",
    "df_clusters_seqMonth = df_clusters_seqMonth.replace(np.nan, 0)\n",
    "\n",
    "df_clusters_seqMonth.loc['total'] = df_clusters_seqMonth.sum(axis=0)"
   ]
  },
  {
   "cell_type": "code",
   "execution_count": null,
   "id": "2eeeb86b",
   "metadata": {},
   "outputs": [],
   "source": [
    "df_clusters_seqMonth"
   ]
  },
  {
   "cell_type": "code",
   "execution_count": null,
   "id": "3041e181",
   "metadata": {},
   "outputs": [],
   "source": [
    "str(df_clusters_seqMonth.columns.values[0])\n",
    "datetimes = [pd.to_datetime(str(x)) for x in list(df_clusters_seqMonth.columns.values)]"
   ]
  },
  {
   "cell_type": "code",
   "execution_count": null,
   "id": "fe23e8b9",
   "metadata": {},
   "outputs": [],
   "source": [
    "# Transform the data frame so clusters are columns \n",
    "df_T = df_clusters_seqMonth.T\n",
    "df_T.index = datetimes\n",
    "df_T['month'] = df_T.index.month"
   ]
  },
  {
   "cell_type": "code",
   "execution_count": null,
   "id": "7a92cc53",
   "metadata": {},
   "outputs": [],
   "source": []
  },
  {
   "cell_type": "code",
   "execution_count": null,
   "id": "41c4942d",
   "metadata": {},
   "outputs": [],
   "source": [
    "df_T.columns = ['1','2','3','4','5','total', 'month']\n",
    "df_T_summer = df_T[df_T.month.isin([5,6,7])] # Choosing the months"
   ]
  },
  {
   "cell_type": "code",
   "execution_count": null,
   "id": "ff0e23fb",
   "metadata": {},
   "outputs": [],
   "source": [
    "df_T_summer = df_T_summer.sort_index()"
   ]
  },
  {
   "cell_type": "code",
   "execution_count": null,
   "id": "82d6397e",
   "metadata": {},
   "outputs": [],
   "source": [
    "df_norm_summer = df_T_summer[['1', '2', '3', '4', '5']].div(df_T_summer['total'], axis=0)"
   ]
  },
  {
   "cell_type": "code",
   "execution_count": null,
   "id": "d6ad4aa1",
   "metadata": {},
   "outputs": [],
   "source": [
    "df_norm_summer.head()"
   ]
  },
  {
   "cell_type": "code",
   "execution_count": null,
   "id": "dabecddf",
   "metadata": {
    "scrolled": false
   },
   "outputs": [],
   "source": [
    "# Trend for MJJ\n",
    "\n",
    "fig, ax = plt.subplots(figsize=(10,5))\n",
    "\n",
    "ax.plot(df_norm_summer.index,df_norm_summer['1'].values,'o' )\n",
    "ax.set_ylabel('Normalized frequency')\n",
    "ax.set_xlabel('Datetime')\n",
    "plt.show()\n",
    "\n",
    "fig, ax = plt.subplots(figsize=(10,5))\n",
    "\n",
    "#-----------Choosing the clusters---------------------------\n",
    "\n",
    "cluster_name = '2'\n",
    "\n",
    "\n",
    "ax.plot(df_norm_summer.index,\n",
    "        df_norm_summer[cluster_name].values,\n",
    "        'o',label='original data') \n",
    "ax.set_ylabel('Normalized frequency')\n",
    "ax.set_xlabel('Datetime')\n",
    "plt.show()\n",
    "\n",
    "# Fit a lin regression slope is not what we want -we don't want correlation -we want trend\n",
    "varx = np.arange(len(df_norm_summer.index))\n",
    "vary = df_norm_summer[cluster_name].values\n",
    "\n",
    "# # # mask = ~np.isnan(varx) & ~np.isnan(vary)\n",
    "# res = sc.stats.linregress(varx, vary)\n",
    "\n",
    "# print(f\"R-squared: {res.rvalue**2:.6f}\")\n",
    "\n",
    "# fig, ax = plt.subplots(figsize=(10,5))\n",
    "# plt.plot(varx,\n",
    "#          vary,\n",
    "#          'o', label='original data')\n",
    "# plt.plot(varx,\n",
    "#          res.intercept + res.slope*varx,\n",
    "#          'r-', label='fitted line')\n",
    "# plt.legend()\n",
    "# plt.show()    \n",
    "# plt.ylabel('N_tot')\n",
    "# plt.xlabel('N_tot_calc')\n",
    "\n",
    "\n",
    "# For trend analysis we use theil zen slope\n",
    "slope, intercept, lo_slope, up_slope  = sc.stats.theilslopes(vary, varx, 0.95)\n",
    "\n",
    "# medslope :Theil slope.\n",
    "# medintercept : Intercept of the Theil line, as median(y) - medslope*median(x).\n",
    "# lo_slope : Lower bound of the confidence interval on medslope.\n",
    "# up_slope : Upper bound of the confidence interval on medslope.\n",
    "\n",
    "print('---------------------------')\n",
    "print('Theil-Sen slope')\n",
    "print('Slope:',slope)\n",
    "print('Intercept:',intercept)\n",
    "print('Lower bound of the confidence interval on medslopeLower:',lo_slope)\n",
    "print('Upper bound of the confidence interval on medslopeLower:',up_slope)\n",
    "print('---------------------------')\n",
    "\n",
    "# Plot the Theil-Sen slope (non-parametric)\n",
    "fig = plt.figure()\n",
    "ax = fig.add_subplot(111)\n",
    "ax.plot(varx, vary, 'b.',label='original data')\n",
    "ax.plot(varx, intercept + slope * varx, 'b-')\n",
    "\n",
    "ax.fill_between(varx, \n",
    "               intercept + up_slope * varx,\n",
    "               intercept + lo_slope * varx,\n",
    "               alpha=0.2, label= '95% Confidence $')\n",
    "plt.show()\n",
    "ax.legend()\n",
    "\n",
    "# Test the sign of the slope\n",
    "\n"
   ]
  },
  {
   "cell_type": "code",
   "execution_count": null,
   "id": "3d863b0c",
   "metadata": {},
   "outputs": [],
   "source": [
    "df_norm_summer['year'] = df_norm_summer.index.year\n",
    "df_norm_summer['year'] = df_norm_summer['year'] - df_norm_summer['year'].iloc[0]\n",
    "df_norm_summer['month'] = df_norm_summer.index.month\n",
    "df_norm_summer['month_ordered'] = df_norm_summer['year']*12 + df_norm_summer['month'] \n",
    "df_norm_summer['month_ordered'] = df_norm_summer['month_ordered'] - df_norm_summer['month_ordered'].iloc[0] + 1"
   ]
  },
  {
   "cell_type": "code",
   "execution_count": null,
   "id": "bb7246bb",
   "metadata": {},
   "outputs": [],
   "source": [
    "df_norm_summer"
   ]
  },
  {
   "cell_type": "code",
   "execution_count": null,
   "id": "a2959473",
   "metadata": {},
   "outputs": [],
   "source": [
    "#slice\n",
    "df_norm_summer = df_norm_summer[df_norm_summer.index.year < 2018]"
   ]
  },
  {
   "cell_type": "code",
   "execution_count": null,
   "id": "56d5b60d",
   "metadata": {},
   "outputs": [],
   "source": [
    "cluster_name = '2'\n",
    "\n",
    "# Fit a lin regression slope is not what we want -we don't want correlation -we want trend\n",
    "varx = df_norm_summer['month_ordered'].values\n",
    "vary = df_norm_summer[cluster_name].values\n",
    "\n",
    "# For trend analysis we use theil zen slope\n",
    "slope, intercept, lo_slope, up_slope  = sc.stats.theilslopes(vary, varx, 0.95)\n",
    "\n",
    "print('---------------------------')\n",
    "print('Theil-Sen slope')\n",
    "print('Slope:',slope)\n",
    "print('Intercept:',intercept)\n",
    "print('Lower bound of the confidence interval on medslopeLower:',lo_slope)\n",
    "print('Upper bound of the confidence interval on medslopeLower:',up_slope)\n",
    "print('---------------------------')\n",
    "\n",
    "plt.rcParams['font.size'] = '15'\n",
    "# Plot the Theil-Sen slope (non-parametric)\n",
    "fig = plt.figure(figsize=(10,4))\n",
    "\n",
    "ax = fig.add_subplot(111)\n",
    "ax.plot(df_norm_summer.index, df_norm_summer[cluster_name].values, 'x-', ls=':')\n",
    "ax.set_ylabel('NPF events (normalized hours)')\n",
    "\n",
    "ax2 = ax.twiny()\n",
    "ax2.plot(varx, intercept + slope * varx, 'b-', ls='-', alpha=1, \n",
    "         label='y = '+str( round(slope, 3) )+'x +' +str(round(intercept,3) ))\n",
    "ax2.fill_between(varx, \n",
    "               intercept + up_slope * varx,\n",
    "               intercept + lo_slope * varx,\n",
    "               alpha=0.2, label= '95% Confidence')\n",
    "#ax.set_ylim(0,1)\n",
    "ax2.set_xticks([])\n",
    "ax2.set_title('Cluster 2: Trend MJJ')\n",
    "\n",
    "for ax in [ax, ax2]:\n",
    "    ax.spines.right.set_visible(False)\n",
    "    ax.spines.top.set_visible(False)\n",
    "    ax.legend(frameon=False)\n",
    "\n",
    "# no = 10\n",
    "# t = pd.date_range(start='2011-05-01',\n",
    "#                   end='2021-05-01',\n",
    "#                   periods=11)\n",
    "# x_val_months = range(1,122,11)\n",
    "\n",
    "#ax.set_xticks(df_norm_summer['month_ordered'].values[::6],  df_norm_summer.index[::6])\n",
    "\n",
    "plt.ylim(0, 1)\n",
    "\n",
    "\n",
    "\n",
    "\n"
   ]
  },
  {
   "cell_type": "code",
   "execution_count": null,
   "id": "ef902fad",
   "metadata": {},
   "outputs": [],
   "source": [
    "cluster_name = '1'\n",
    "\n",
    "# Fit a lin regression slope is not what we want -we don't want correlation -we want trend\n",
    "varx = df_norm_summer['month_ordered'].values\n",
    "vary = df_norm_summer[cluster_name].values\n",
    "\n",
    "# For trend analysis we use theil zen slope\n",
    "slope, intercept, lo_slope, up_slope  = sc.stats.theilslopes(vary, varx, 0.95)\n",
    "\n",
    "print('---------------------------')\n",
    "print('Theil-Sen slope')\n",
    "print('Slope:',slope)\n",
    "print('Intercept:',intercept)\n",
    "print('Lower bound of the confidence interval on medslopeLower:',lo_slope)\n",
    "print('Upper bound of the confidence interval on medslopeLower:',up_slope)\n",
    "print('---------------------------')\n",
    "\n",
    "# Plot the Theil-Sen slope (non-parametric)\n",
    "fig = plt.figure(figsize=(10,4))\n",
    "\n",
    "ax = fig.add_subplot(111)\n",
    "ax.plot(df_norm_summer.index, df_norm_summer[cluster_name].values, 'rx-', ls=':')\n",
    "ax.set_ylabel('NPF events (normalized hours)')\n",
    "\n",
    "ax2 = ax.twiny()\n",
    "ax2.plot(varx, intercept + slope * varx, 'r-', ls='-', alpha=1, \n",
    "         label='y = '+str( round(slope, 3) )+'x +' +str(round(intercept,3) ))\n",
    "ax2.fill_between(varx, \n",
    "               intercept + up_slope * varx,\n",
    "               intercept + lo_slope * varx,\n",
    "               alpha=0.2, label= '95% Confidence',\n",
    "                facecolor = 'r')\n",
    "#ax.set_ylim(0,1)\n",
    "ax2.set_xticks([])\n",
    "ax2.set_title('Cluster 1: Trend MJJ')\n",
    "\n",
    "for ax in [ax, ax2]:\n",
    "    ax.spines.right.set_visible(False)\n",
    "    ax.spines.top.set_visible(False)\n",
    "    ax.legend(frameon=False)\n",
    "\n",
    "# no = 10\n",
    "# t = pd.date_range(start='2011-05-01',\n",
    "#                   end='2021-05-01',\n",
    "#                   periods=11)\n",
    "# x_val_months = range(1,122,11)\n",
    "\n",
    "#ax.set_xticks(df_norm_summer['month_ordered'].values[::6],  df_norm_summer.index[::6])\n",
    "\n",
    "plt.ylim(0, 1)\n",
    "\n",
    "\n"
   ]
  },
  {
   "cell_type": "markdown",
   "id": "b1099655",
   "metadata": {},
   "source": [
    "## Discussion\n",
    "\n",
    "K-means: cluster by normalized vs non-normalized: Non-norm did not work but using the normalized distributions means that important features of the distribution signifying NPF event are lost (very high numb conc of ultrafine particles). Other methods for classyifying the DMPS data may prove helpful -**such as....?** and could be investigated in future studies."
   ]
  },
  {
   "cell_type": "code",
   "execution_count": null,
   "id": "194cac47",
   "metadata": {},
   "outputs": [],
   "source": []
  }
 ],
 "metadata": {
  "kernelspec": {
   "display_name": "Python 3 (ipykernel)",
   "language": "python",
   "name": "python3"
  },
  "language_info": {
   "codemirror_mode": {
    "name": "ipython",
    "version": 3
   },
   "file_extension": ".py",
   "mimetype": "text/x-python",
   "name": "python",
   "nbconvert_exporter": "python",
   "pygments_lexer": "ipython3",
   "version": "3.9.13"
  }
 },
 "nbformat": 4,
 "nbformat_minor": 5
}
